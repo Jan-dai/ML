{
 "cells": [
  {
   "cell_type": "markdown",
   "id": "b6cceee8",
   "metadata": {},
   "source": [
    "# Data load and preprocessing"
   ]
  },
  {
   "cell_type": "code",
   "execution_count": null,
   "id": "b773c90a",
   "metadata": {},
   "outputs": [],
   "source": [
    "import os\n",
    "import numpy as np\n",
    "import pandas as pd\n",
    "from gensim.models import CoherenceModel\n",
    "from gensim.models.ldamodel import LdaModel\n",
    "from sklearn.model_selection import ParameterGrid"
   ]
  },
  {
   "cell_type": "code",
   "execution_count": 3,
   "id": "9e1d46b4",
   "metadata": {},
   "outputs": [],
   "source": [
    "import kagglehub\n",
    "import tqdm\n",
    "# Download latest version\n",
    "path = kagglehub.dataset_download(\"xinwangcs/stressor-cause-of-mental-health-problem-dataset\")\n",
    "\n",
    "FILES = []\n",
    "for file in os.listdir(path):\n",
    "    if file.endswith(\".json\"):\n",
    "        PATH = os.path.join(path, file)\n",
    "        FILES.append(PATH )\n"
   ]
  },
  {
   "cell_type": "code",
   "execution_count": 4,
   "id": "3e84b2a2",
   "metadata": {},
   "outputs": [
    {
     "data": {
      "text/html": [
       "<div>\n",
       "<style scoped>\n",
       "    .dataframe tbody tr th:only-of-type {\n",
       "        vertical-align: middle;\n",
       "    }\n",
       "\n",
       "    .dataframe tbody tr th {\n",
       "        vertical-align: top;\n",
       "    }\n",
       "\n",
       "    .dataframe thead th {\n",
       "        text-align: right;\n",
       "    }\n",
       "</style>\n",
       "<table border=\"1\" class=\"dataframe\">\n",
       "  <thead>\n",
       "    <tr style=\"text-align: right;\">\n",
       "      <th></th>\n",
       "      <th>text</th>\n",
       "      <th>stressor_class</th>\n",
       "      <th>stressor_word</th>\n",
       "      <th>interval</th>\n",
       "    </tr>\n",
       "  </thead>\n",
       "  <tbody>\n",
       "    <tr>\n",
       "      <th>0</th>\n",
       "      <td>Why are there always trivial matters in life t...</td>\n",
       "      <td>T1</td>\n",
       "      <td>financial</td>\n",
       "      <td>8</td>\n",
       "    </tr>\n",
       "    <tr>\n",
       "      <th>1</th>\n",
       "      <td>After celebrating my 21st birthday, I truly fe...</td>\n",
       "      <td>T1</td>\n",
       "      <td>urged to marry</td>\n",
       "      <td>8</td>\n",
       "    </tr>\n",
       "    <tr>\n",
       "      <th>2</th>\n",
       "      <td>In the coming March, my work pressure will be ...</td>\n",
       "      <td>T1</td>\n",
       "      <td>work</td>\n",
       "      <td>8</td>\n",
       "    </tr>\n",
       "    <tr>\n",
       "      <th>3</th>\n",
       "      <td>Indeed, the pressure of writing papers now is ...</td>\n",
       "      <td>T1</td>\n",
       "      <td>papers</td>\n",
       "      <td>8</td>\n",
       "    </tr>\n",
       "    <tr>\n",
       "      <th>4</th>\n",
       "      <td>I can't learn it anymore, so let's just give u...</td>\n",
       "      <td>T1</td>\n",
       "      <td>can't learn it</td>\n",
       "      <td>8</td>\n",
       "    </tr>\n",
       "  </tbody>\n",
       "</table>\n",
       "</div>"
      ],
      "text/plain": [
       "                                                text stressor_class  \\\n",
       "0  Why are there always trivial matters in life t...             T1   \n",
       "1  After celebrating my 21st birthday, I truly fe...             T1   \n",
       "2  In the coming March, my work pressure will be ...             T1   \n",
       "3  Indeed, the pressure of writing papers now is ...             T1   \n",
       "4  I can't learn it anymore, so let's just give u...             T1   \n",
       "\n",
       "    stressor_word  interval  \n",
       "0       financial         8  \n",
       "1  urged to marry         8  \n",
       "2            work         8  \n",
       "3          papers         8  \n",
       "4  can't learn it         8  "
      ]
     },
     "execution_count": 4,
     "metadata": {},
     "output_type": "execute_result"
    }
   ],
   "source": [
    "from nlprocess import load_data2dataframe\n",
    "\n",
    "dataframes = [load_data2dataframe(f) for f in FILES]\n",
    "df = pd.concat(dataframes, ignore_index=True)\n",
    "df.head()"
   ]
  },
  {
   "cell_type": "code",
   "execution_count": 5,
   "id": "5fb72a7f",
   "metadata": {},
   "outputs": [
    {
     "data": {
      "text/plain": [
       "text              0\n",
       "stressor_class    0\n",
       "stressor_word     0\n",
       "interval          0\n",
       "dtype: int64"
      ]
     },
     "execution_count": 5,
     "metadata": {},
     "output_type": "execute_result"
    }
   ],
   "source": [
    "df.dropna(inplace=True)\n",
    "df.isna().sum()"
   ]
  },
  {
   "cell_type": "code",
   "execution_count": 6,
   "id": "4d48bfcd",
   "metadata": {},
   "outputs": [
    {
     "name": "stderr",
     "output_type": "stream",
     "text": [
      "Normalizing: 100%|██████████| 3985/3985 [00:15<00:00, 263.11it/s]\n",
      "Building BOW Corpus: 100%|██████████| 3885/3885 [00:00<00:00, 569471.97it/s]\n"
     ]
    }
   ],
   "source": [
    "from nlprocess import normalize_spacy\n",
    "from nlprocess import to_corpus\n",
    "import spacy\n",
    "nlp = spacy.load(\"en_core_web_sm\") \n",
    "Dict = to_corpus(df, \"stressor_word\", \"bow\" , nlp = nlp)"
   ]
  },
  {
   "cell_type": "markdown",
   "id": "d4a8c9b2",
   "metadata": {},
   "source": [
    "# LDA Gridsearch\n"
   ]
  },
  {
   "cell_type": "code",
   "execution_count": 9,
   "id": "33ae21c1",
   "metadata": {},
   "outputs": [
    {
     "name": "stderr",
     "output_type": "stream",
     "text": [
      "Grid Search: 100%|██████████| 392/392 [2:06:30<00:00, 19.36s/it]  "
     ]
    },
    {
     "name": "stdout",
     "output_type": "stream",
     "text": [
      "Best coherence score: 0.7752085069724399\n",
      "Best params: {'alpha': 0.30000000000000004, 'eta': 0.7000000000000001, 'num_topics': 4}\n"
     ]
    },
    {
     "name": "stderr",
     "output_type": "stream",
     "text": [
      "\n"
     ]
    }
   ],
   "source": [
    "from tqdm import tqdm\n",
    "ddf , texts ,dictionary ,corpus = Dict[\"df\"], Dict[\"texts\"], Dict[\"dictionary\"], Dict[\"corpus\"]\n",
    "#定義參數網格\n",
    "param_grid = {\n",
    "     'num_topics' : [3 , 4],\n",
    "     'alpha': np.arange(0.1 , 1.5 , 0.1),\n",
    "     'eta': np.arange(0.1 , 1.5 , 0.1),\n",
    "     \n",
    "}\n",
    "\n",
    "best_score = -1\n",
    "best_params = None\n",
    "best_model = None\n",
    "\n",
    "for params in tqdm(list(ParameterGrid(param_grid)), desc=\"Grid Search\"):\n",
    "     lda = LdaModel(\n",
    "          corpus = corpus,\n",
    "          id2word = dictionary,\n",
    "          num_topics = params[\"num_topics\"],\n",
    "          passes = 50,\n",
    "          alpha = params['alpha'],\n",
    "          eta = params['eta'],\n",
    "          random_state = 42\n",
    "     )\n",
    "     cm = CoherenceModel(model=lda, texts=texts, dictionary=dictionary, coherence='c_v')\n",
    "     score = cm.get_coherence()\n",
    "     if score > best_score:\n",
    "          best_score = score\n",
    "          best_params = params\n",
    "          best_model = lda\n",
    "\n",
    "print(\"Best coherence score:\", best_score)\n",
    "print(\"Best params:\", best_params)\n"
   ]
  },
  {
   "cell_type": "code",
   "execution_count": 10,
   "id": "b9e7f113",
   "metadata": {},
   "outputs": [
    {
     "data": {
      "text/plain": [
       "[(0,\n",
       "  '0.108*\"exam\" + 0.087*\"study\" + 0.070*\"job\" + 0.038*\"home\" + 0.027*\"go\" + 0.017*\"friend\" + 0.017*\"panic\" + 0.015*\"expectation\" + 0.014*\"brother\" + 0.013*\"project\"'),\n",
       " (1,\n",
       "  '0.077*\"school\" + 0.041*\"entrance\" + 0.040*\"family\" + 0.037*\"mom\" + 0.035*\"start\" + 0.033*\"graduate\" + 0.030*\"year\" + 0.028*\"examination\" + 0.027*\"new\" + 0.020*\"high\"'),\n",
       " (2,\n",
       "  '0.026*\"peer\" + 0.025*\"academic\" + 0.022*\"social\" + 0.020*\"people\" + 0.019*\"house\" + 0.017*\"partner\" + 0.016*\"interview\" + 0.015*\"buy\" + 0.015*\"second\" + 0.015*\"performance\"'),\n",
       " (3,\n",
       "  '0.326*\"work\" + 0.163*\"life\" + 0.028*\"parent\" + 0.026*\"money\" + 0.017*\"marry\" + 0.016*\"paper\" + 0.014*\"sister\" + 0.012*\"teacher\" + 0.010*\"urge\" + 0.009*\"student\"')]"
      ]
     },
     "execution_count": 10,
     "metadata": {},
     "output_type": "execute_result"
    }
   ],
   "source": [
    "# 取得主題與描述\n",
    "topics = best_model.print_topics()\n",
    "topics"
   ]
  },
  {
   "cell_type": "code",
   "execution_count": 11,
   "id": "5f6f50f7",
   "metadata": {},
   "outputs": [
    {
     "name": "stdout",
     "output_type": "stream",
     "text": [
      "Topic Diversity = 1.000\n"
     ]
    }
   ],
   "source": [
    "import re\n",
    "# 只擷取每個主題中的詞（不含機率）\n",
    "topic_keywords = [re.findall(r'\"(.*?)\"', topic[1]) for topic in topics]\n",
    "\n",
    "# 若想加上主題編號\n",
    "topic_words = []\n",
    "for idx, words in enumerate(topic_keywords):\n",
    "    topic_words.append(words)\n",
    "\n",
    "# 展平所有詞\n",
    "all_words = [word for topic in topic_keywords for word in topic]\n",
    "distinct_words = set(all_words)\n",
    "\n",
    "kword = 10  # 每個主題取 10 個詞\n",
    "Term = 4  # 共有 4 個主題\n",
    "diversity = len(distinct_words) / (kword* Term)\n",
    "\n",
    "print(f\"Topic Diversity = {diversity:.3f}\")\n"
   ]
  },
  {
   "cell_type": "markdown",
   "id": "90bf1fcc",
   "metadata": {},
   "source": [
    "# model save"
   ]
  },
  {
   "cell_type": "code",
   "execution_count": 12,
   "id": "07fc76db",
   "metadata": {},
   "outputs": [],
   "source": [
    "#儲存模型\n",
    "import os\n",
    "os.makedirs(\"LDA\", exist_ok=True)\n",
    "best_model.save(\"LDA/topics_4_best_model.model\")"
   ]
  }
 ],
 "metadata": {
  "kernelspec": {
   "display_name": ".venv",
   "language": "python",
   "name": "python3"
  },
  "language_info": {
   "codemirror_mode": {
    "name": "ipython",
    "version": 3
   },
   "file_extension": ".py",
   "mimetype": "text/x-python",
   "name": "python",
   "nbconvert_exporter": "python",
   "pygments_lexer": "ipython3",
   "version": "3.12.7"
  }
 },
 "nbformat": 4,
 "nbformat_minor": 5
}
