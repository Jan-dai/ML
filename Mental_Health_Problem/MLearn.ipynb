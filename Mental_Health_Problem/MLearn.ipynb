{
 "cells": [
  {
   "cell_type": "code",
   "execution_count": 81,
   "id": "b9b77b54",
   "metadata": {},
   "outputs": [
    {
     "name": "stdout",
     "output_type": "stream",
     "text": [
      "Path to dataset files: C:\\Users\\user\\.cache\\kagglehub\\datasets\\xinwangcs\\stressor-cause-of-mental-health-problem-dataset\\versions\\1\n"
     ]
    }
   ],
   "source": [
    "import kagglehub\n",
    "\n",
    "# Download latest version\n",
    "path = kagglehub.dataset_download(\"xinwangcs/stressor-cause-of-mental-health-problem-dataset\")\n",
    "\n",
    "print(\"Path to dataset files:\", path)"
   ]
  },
  {
   "cell_type": "code",
   "execution_count": 82,
   "id": "08e7b8d4",
   "metadata": {},
   "outputs": [
    {
     "name": "stdout",
     "output_type": "stream",
     "text": [
      "Files in dataset: ['C:\\\\Users\\\\user\\\\.cache\\\\kagglehub\\\\datasets\\\\xinwangcs\\\\stressor-cause-of-mental-health-problem-dataset\\\\versions\\\\1\\\\stressor_test.json', 'C:\\\\Users\\\\user\\\\.cache\\\\kagglehub\\\\datasets\\\\xinwangcs\\\\stressor-cause-of-mental-health-problem-dataset\\\\versions\\\\1\\\\stressor_train.json']\n"
     ]
    }
   ],
   "source": [
    "import pandas as pd\n",
    "import numpy as np\n",
    "import os\n",
    "FILES = []\n",
    "for file in os.listdir(path):\n",
    "    if file.endswith(\".json\"):\n",
    "        PATH = os.path.join(path, file)\n",
    "        FILES.append(PATH )\n",
    "print(\"Files in dataset:\", FILES)\n",
    "\n"
   ]
  },
  {
   "cell_type": "code",
   "execution_count": 83,
   "id": "91b14378",
   "metadata": {},
   "outputs": [
    {
     "data": {
      "text/html": [
       "<div>\n",
       "<style scoped>\n",
       "    .dataframe tbody tr th:only-of-type {\n",
       "        vertical-align: middle;\n",
       "    }\n",
       "\n",
       "    .dataframe tbody tr th {\n",
       "        vertical-align: top;\n",
       "    }\n",
       "\n",
       "    .dataframe thead th {\n",
       "        text-align: right;\n",
       "    }\n",
       "</style>\n",
       "<table border=\"1\" class=\"dataframe\">\n",
       "  <thead>\n",
       "    <tr style=\"text-align: right;\">\n",
       "      <th></th>\n",
       "      <th>text</th>\n",
       "      <th>stressor_class</th>\n",
       "      <th>stressor_word</th>\n",
       "      <th>interval</th>\n",
       "    </tr>\n",
       "  </thead>\n",
       "  <tbody>\n",
       "    <tr>\n",
       "      <th>0</th>\n",
       "      <td>Why are there always trivial matters in life t...</td>\n",
       "      <td>T1</td>\n",
       "      <td>financial</td>\n",
       "      <td>8</td>\n",
       "    </tr>\n",
       "    <tr>\n",
       "      <th>1</th>\n",
       "      <td>After celebrating my 21st birthday, I truly fe...</td>\n",
       "      <td>T1</td>\n",
       "      <td>urged to marry</td>\n",
       "      <td>8</td>\n",
       "    </tr>\n",
       "    <tr>\n",
       "      <th>2</th>\n",
       "      <td>In the coming March, my work pressure will be ...</td>\n",
       "      <td>T1</td>\n",
       "      <td>work</td>\n",
       "      <td>8</td>\n",
       "    </tr>\n",
       "    <tr>\n",
       "      <th>3</th>\n",
       "      <td>Indeed, the pressure of writing papers now is ...</td>\n",
       "      <td>T1</td>\n",
       "      <td>papers</td>\n",
       "      <td>8</td>\n",
       "    </tr>\n",
       "    <tr>\n",
       "      <th>4</th>\n",
       "      <td>I can't learn it anymore, so let's just give u...</td>\n",
       "      <td>T1</td>\n",
       "      <td>can't learn it</td>\n",
       "      <td>8</td>\n",
       "    </tr>\n",
       "  </tbody>\n",
       "</table>\n",
       "</div>"
      ],
      "text/plain": [
       "                                                text stressor_class  \\\n",
       "0  Why are there always trivial matters in life t...             T1   \n",
       "1  After celebrating my 21st birthday, I truly fe...             T1   \n",
       "2  In the coming March, my work pressure will be ...             T1   \n",
       "3  Indeed, the pressure of writing papers now is ...             T1   \n",
       "4  I can't learn it anymore, so let's just give u...             T1   \n",
       "\n",
       "    stressor_word  interval  \n",
       "0       financial         8  \n",
       "1  urged to marry         8  \n",
       "2            work         8  \n",
       "3          papers         8  \n",
       "4  can't learn it         8  "
      ]
     },
     "execution_count": 83,
     "metadata": {},
     "output_type": "execute_result"
    }
   ],
   "source": [
    "import json\n",
    "\n",
    "def load_data2dataframe(file):\n",
    "    \"\"\"\n",
    "    讀取 JSON 文件並將其轉換為 Pandas DataFrame。\n",
    "    參數:\n",
    "        file (str): 檔案路徑。\n",
    "\n",
    "    錯誤回報:\n",
    "        ValueError: 如果在資料集目錄中找不到 JSON 檔案。\n",
    "        ValueError: 如果指定的 JSON 檔案不存在。\n",
    "        \n",
    "    回傳:\n",
    "        pd.DataFrame: 包含文本、壓力源類別、壓力源詞和時間間隔的 DataFrame。\n",
    "    \"\"\"\n",
    "    if not FILES:\n",
    "        raise ValueError(\"No JSON files found in the dataset directory.\")\n",
    "    if not os.path.exists(file):\n",
    "        raise ValueError(f\"File '{file}' does not exist.\")\n",
    "    with open(file, encoding=\"utf-8\") as f:\n",
    "        data = json.load(f)\n",
    "        if not isinstance(data, list):\n",
    "            raise ValueError(f\"Expected a list in JSON file, got {type(data)}\")\n",
    "        temp = []\n",
    "        for item in data:\n",
    "            #print(item)\n",
    "            TEXT = item[\"text\"]\n",
    "            INTERVAL = item[\"interval\"]\n",
    "            try:\n",
    "                STRESSOR_class = item[\"labels\"][0][0]\n",
    "                STRESSOR_WORD = item[\"labels\"][0][4]\n",
    "            except IndexError:\n",
    "                STRESSOR_class = np.nan\n",
    "                STRESSOR_WORD = np.nan\n",
    "            temp.append((TEXT, STRESSOR_class, STRESSOR_WORD, INTERVAL))\n",
    "\n",
    "    # Convert list of tuples to DataFrame with column names\n",
    "    return pd.DataFrame(temp, columns=[\"text\", \"stressor_class\", \"stressor_word\", \"interval\"])\n",
    "\n",
    "# Ensure each element is a DataFrame before concatenation\n",
    "dataframes = [load_data2dataframe(f) for f in FILES]\n",
    "df = pd.concat(dataframes, ignore_index=True)\n",
    "df.head()"
   ]
  },
  {
   "cell_type": "code",
   "execution_count": 84,
   "id": "f57249dc",
   "metadata": {},
   "outputs": [
    {
     "data": {
      "text/plain": [
       "text              0\n",
       "stressor_class    0\n",
       "stressor_word     0\n",
       "interval          0\n",
       "dtype: int64"
      ]
     },
     "execution_count": 84,
     "metadata": {},
     "output_type": "execute_result"
    }
   ],
   "source": [
    "df.dropna(inplace=True)\n",
    "df.isna().sum()"
   ]
  },
  {
   "cell_type": "code",
   "execution_count": 85,
   "id": "5f1b89ba",
   "metadata": {},
   "outputs": [],
   "source": [
    "df_copy = df.copy()"
   ]
  },
  {
   "cell_type": "code",
   "execution_count": null,
   "id": "4c33ba08",
   "metadata": {},
   "outputs": [],
   "source": [
    "import gensim\n",
    "from gensim.parsing.preprocessing import remove_stopwords\n",
    "from nltk.stem import WordNetLemmatizer\n",
    "from nltk.tokenize import word_tokenize\n",
    "import string\n",
    "\n",
    "# 載入 lemmatizer\n",
    "lemmatizer = WordNetLemmatizer()\n",
    "\n",
    "def normalize(text):\n",
    "    # 1. 轉小寫\n",
    "    text = text.lower()\n",
    "    # 2. 去標點\n",
    "    text = text.translate(str.maketrans('', '', string.punctuation))\n",
    "    # 3. 去停用詞\n",
    "    text = remove_stopwords(text) if len(text.split()) > 1 else text\n",
    "    # 4. 詞形還原\n",
    "    tokens = word_tokenize(text)\n",
    "    lemmatized = [lemmatizer.lemmatize(token) for token in tokens]\n",
    "    return lemmatized\n",
    "\n"
   ]
  },
  {
   "cell_type": "code",
   "execution_count": 142,
   "id": "81d5c080",
   "metadata": {},
   "outputs": [],
   "source": [
    "from gensim.corpora import Dictionary\n",
    "word_doc = [ normalize(word) for word in df_copy[\"stressor_word\"]]\n",
    "Dictionary = Dictionary(word_doc)\n",
    "corpus = [Dictionary.doc2bow(doc) for doc in word_doc]"
   ]
  },
  {
   "cell_type": "code",
   "execution_count": 150,
   "id": "90712893",
   "metadata": {},
   "outputs": [
    {
     "data": {
      "text/plain": [
       "array([[-3.4795154e-03, -6.2878523e-03,  6.5035331e-03,  9.2578446e-03,\n",
       "         8.5860528e-03, -8.9673214e-03,  5.3725359e-03,  5.8347830e-03,\n",
       "         5.7197767e-03, -8.6718341e-03, -6.5230990e-05, -7.3259771e-03,\n",
       "        -9.1530997e-03,  2.2531885e-03,  9.9740149e-03,  6.3598137e-03,\n",
       "        -7.2196843e-03,  2.3793562e-03, -4.1873809e-03,  9.7619388e-03,\n",
       "        -8.9807576e-03,  1.0037597e-02, -6.5020295e-03, -7.1824128e-03,\n",
       "         1.6646911e-03, -7.4841280e-04, -8.8024102e-03, -1.2383993e-03,\n",
       "        -7.6526561e-04, -6.5129939e-03,  5.9973421e-03,  3.1403378e-03,\n",
       "         8.5252346e-03,  7.1898070e-03, -6.9564171e-03,  5.3086067e-03,\n",
       "         5.5613071e-03,  5.7893638e-03,  5.0247847e-03, -5.3099985e-03,\n",
       "         4.5097317e-03,  1.1004652e-03,  3.2784323e-05, -6.5756664e-03,\n",
       "         1.7935757e-03,  5.4053743e-03, -9.5760021e-03,  8.5139051e-03,\n",
       "         2.8565391e-03,  3.7344615e-04, -3.4623598e-03, -1.7038414e-05,\n",
       "         6.1856969e-03,  5.1144180e-03, -6.4594466e-03,  8.3324946e-03,\n",
       "        -7.0850959e-04, -8.4928283e-03,  8.6010192e-03,  5.2301032e-03,\n",
       "         3.9905384e-03,  8.1387945e-03, -7.5768186e-03, -5.7616876e-03,\n",
       "        -2.2807380e-03, -4.0603112e-03, -1.5154674e-03, -3.6135525e-04,\n",
       "        -8.9035388e-03,  2.0586348e-03,  2.3694737e-03, -5.7460257e-04,\n",
       "         5.2699619e-03,  1.1807883e-03,  6.2481188e-03, -2.1125523e-03,\n",
       "         8.4881615e-03, -1.4335291e-03,  2.7154989e-03, -3.7071393e-03,\n",
       "         6.2337448e-03,  3.3502476e-03,  2.6739706e-04,  9.2371814e-03,\n",
       "        -8.0933301e-03,  1.0098639e-02,  8.2550797e-04, -2.0809716e-03,\n",
       "        -3.9359587e-03, -9.7990595e-03, -2.0029317e-03,  2.9119414e-03,\n",
       "         6.7822449e-03,  9.1938181e-03, -8.3596818e-03,  9.4885556e-03,\n",
       "        -8.6681247e-03,  3.3402869e-03,  7.8378068e-03, -2.6954941e-03],\n",
       "       [-6.3646003e-03, -6.6203773e-03, -8.8934433e-03,  9.4368961e-03,\n",
       "         1.6905236e-03, -2.0544846e-03,  6.4209178e-03, -5.4990342e-03,\n",
       "         3.0749210e-03,  4.9533076e-03,  6.9690081e-03,  7.9007307e-03,\n",
       "        -2.4916315e-03, -4.0401793e-03, -1.5885504e-04,  1.9669428e-03,\n",
       "        -6.3156090e-03,  5.4466259e-03,  6.1870823e-03,  7.1544079e-03,\n",
       "         3.9392020e-04,  3.5635205e-03,  6.2682158e-03,  4.7960258e-03,\n",
       "        -2.8798685e-03,  7.1763401e-03,  5.2068261e-03,  4.3928535e-03,\n",
       "        -8.1410864e-03, -1.7915020e-03,  2.7681114e-03,  4.7960836e-03,\n",
       "        -4.1701165e-03, -7.3334407e-03,  9.7307004e-03, -6.2796818e-03,\n",
       "        -9.6083544e-03, -8.4222360e-03, -1.5291725e-03,  3.4450339e-03,\n",
       "         4.4033835e-03,  9.3626063e-03, -4.5014545e-03, -1.0096249e-02,\n",
       "         6.4747720e-03, -6.7315670e-03, -6.7262715e-03,  5.5192309e-03,\n",
       "         5.7941820e-03, -6.1325696e-03,  6.3447068e-03, -7.4263690e-03,\n",
       "         4.3989676e-03,  1.7366459e-03, -9.9384096e-03, -1.8292887e-03,\n",
       "        -9.3788411e-03, -7.3411008e-03,  6.0740076e-03, -5.3307195e-03,\n",
       "        -5.7434118e-03, -9.1399206e-03, -7.5835092e-03,  8.5882759e-03,\n",
       "        -9.9662784e-03, -3.9346297e-03, -1.2176289e-03,  9.7631738e-03,\n",
       "        -7.6991636e-03,  5.5651926e-03, -3.1739224e-03,  4.8595835e-03,\n",
       "        -1.1096031e-03, -9.9188257e-03, -2.5838993e-03, -1.1574945e-03,\n",
       "         1.9694609e-03,  1.9081680e-03, -3.3881218e-04, -3.5877698e-03,\n",
       "        -2.5642333e-03, -3.3962652e-03,  4.8543992e-03, -3.5780091e-03,\n",
       "         6.3027083e-03, -8.4063504e-03,  3.9154240e-03, -3.2886555e-03,\n",
       "        -8.3924765e-03,  9.6083870e-03, -2.4383392e-03,  8.6016683e-03,\n",
       "         9.5176809e-03, -4.0438403e-03, -1.7949796e-03,  3.5042139e-03,\n",
       "        -8.0656344e-03,  4.9429233e-03, -5.9865392e-03, -7.5228591e-03]],\n",
       "      dtype=float32)"
      ]
     },
     "execution_count": 150,
     "metadata": {},
     "output_type": "execute_result"
    }
   ],
   "source": [
    "from gensim.models import Word2Vec\n",
    "\n",
    "# 假設 corpus 為已斷詞的句子列表（例如 [['financial'], ['urged', 'to', 'marry'], ...]）\n",
    "model = Word2Vec(sentences=word_doc, \n",
    "                 vector_size=100,\n",
    "                 window=5, \n",
    "                 min_count=1, workers=4)\n",
    "\n",
    "# 取得詞向量\n",
    "vector = model.wv['urged', 'marry']  # numpy array (100 維)\n",
    "vector"
   ]
  },
  {
   "cell_type": "code",
   "execution_count": 147,
   "id": "4fd91e8c",
   "metadata": {},
   "outputs": [
    {
     "data": {
      "text/plain": [
       "['urged', 'marry']"
      ]
     },
     "execution_count": 147,
     "metadata": {},
     "output_type": "execute_result"
    }
   ],
   "source": [
    "word_doc[1]"
   ]
  },
  {
   "cell_type": "code",
   "execution_count": 158,
   "id": "16bd028f",
   "metadata": {},
   "outputs": [
    {
     "data": {
      "text/plain": [
       "True"
      ]
     },
     "execution_count": 158,
     "metadata": {},
     "output_type": "execute_result"
    }
   ],
   "source": [
    "'marry' in model.wv"
   ]
  },
  {
   "cell_type": "code",
   "execution_count": 159,
   "id": "f6f4e42e",
   "metadata": {},
   "outputs": [],
   "source": [
    "# 構建每個文本的詞向量平均值作為文本向量集\n",
    "word_vectors = []\n",
    "for tokens in word_doc:\n",
    "    vectors = [model.wv[word] for word in tokens if word in model.wv]\n",
    "    if vectors:\n",
    "        avg_vector = np.mean(vectors, axis=0)\n",
    "    else:\n",
    "        avg_vector = np.zeros(model.vector_size)\n",
    "    word_vectors.append(avg_vector)"
   ]
  },
  {
   "cell_type": "code",
   "execution_count": 163,
   "id": "07b26764",
   "metadata": {},
   "outputs": [
    {
     "data": {
      "image/png": "[encoded data removed]",
      "text/plain": [
       "<Figure size 640x480 with 1 Axes>"
      ]
     },
     "metadata": {},
     "output_type": "display_data"
    }
   ],
   "source": [
    "from sklearn.cluster import KMeans\n",
    "\n",
    "import matplotlib.pyplot as plt\n",
    "\n",
    "# 使用 word_vectors 作為文本向量集\n",
    "inertia = []\n",
    "K = range(1, 21)\n",
    "for k in K:\n",
    "    kmeans = KMeans(n_clusters=k, random_state=42)\n",
    "    kmeans.fit(word_vectors)\n",
    "    inertia.append(kmeans.inertia_)\n",
    "\n",
    "plt.plot(K, inertia, marker='o')\n",
    "plt.xlabel('Number of clusters (k)')\n",
    "plt.ylabel('Inertia')\n",
    "plt.title('KMeans Elbow Method for Text Vectors')\n",
    "plt.show()"
   ]
  },
  {
   "cell_type": "code",
   "execution_count": null,
   "id": "bf7f6649",
   "metadata": {},
   "outputs": [
    {
     "data": {
      "image/png": "[encoded data removed]",
      "text/plain": [
       "<Figure size 640x480 with 1 Axes>"
      ]
     },
     "metadata": {},
     "output_type": "display_data"
    }
   ],
   "source": [
    "from sklearn.metrics import silhouette_score\n",
    "\n",
    "# 使用 word_vectors 作為文本向量集\n",
    "K = range(1 , 21)\n",
    "score = []\n",
    "for k in K :\n",
    "    kmeans = KMeans(n_clusters=k, random_state=42)\n",
    "    kmeans.fit(word_vectors)\n",
    "    labels = kmeans.predict(word_vectors)\n",
    "    if k == 1:\n",
    "        score.append(0)\n",
    "    else:\n",
    "        score.append(silhouette_score(word_vectors , labels))\n",
    "\n",
    "plt.plot(K, score, marker='o')\n",
    "plt.xlabel('Number of clusters (k)')\n",
    "plt.ylabel('silhouette_score')\n",
    "plt.title('KMeans silhouette_score')\n",
    "plt.show()"
   ]
  },
  {
   "cell_type": "code",
   "execution_count": null,
   "id": "f60f0e5e",
   "metadata": {},
   "outputs": [],
   "source": []
  }
 ],
 "metadata": {
  "kernelspec": {
   "display_name": ".venv",
   "language": "python",
   "name": "python3"
  },
  "language_info": {
   "codemirror_mode": {
    "name": "ipython",
    "version": 3
   },
   "file_extension": ".py",
   "mimetype": "text/x-python",
   "name": "python",
   "nbconvert_exporter": "python",
   "pygments_lexer": "ipython3",
   "version": "3.12.7"
  }
 },
 "nbformat": 4,
 "nbformat_minor": 5
}
