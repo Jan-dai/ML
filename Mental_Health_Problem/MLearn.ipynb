{
 "cells": [
  {
   "cell_type": "code",
   "execution_count": 361,
   "id": "b9b77b54",
   "metadata": {},
   "outputs": [
    {
     "name": "stdout",
     "output_type": "stream",
     "text": [
      "Path to dataset files: C:\\Users\\user\\.cache\\kagglehub\\datasets\\xinwangcs\\stressor-cause-of-mental-health-problem-dataset\\versions\\1\n"
     ]
    }
   ],
   "source": [
    "import kagglehub\n",
    "\n",
    "# Download latest version\n",
    "path = kagglehub.dataset_download(\"xinwangcs/stressor-cause-of-mental-health-problem-dataset\")\n",
    "\n",
    "print(\"Path to dataset files:\", path)"
   ]
  },
  {
   "cell_type": "code",
   "execution_count": 362,
   "id": "08e7b8d4",
   "metadata": {},
   "outputs": [],
   "source": [
    "import pandas as pd\n",
    "import numpy as np\n",
    "import matplotlib.pyplot as plt\n",
    "import os\n",
    "FILES = []\n",
    "for file in os.listdir(path):\n",
    "    if file.endswith(\".json\"):\n",
    "        PATH = os.path.join(path, file)\n",
    "        FILES.append(PATH )\n",
    "#print(\"Files in dataset:\", FILES)\n",
    "\n"
   ]
  },
  {
   "cell_type": "code",
   "execution_count": 363,
   "id": "ff3f345f",
   "metadata": {},
   "outputs": [],
   "source": [
    "# nltk.download('wordnet')\n",
    "# nltk.download('omw-1.4')\n",
    "# nltk.download('punkt')\n",
    "# nltk.download('averaged_perceptron_tagger')"
   ]
  },
  {
   "cell_type": "code",
   "execution_count": 364,
   "id": "91b14378",
   "metadata": {},
   "outputs": [
    {
     "data": {
      "text/html": [
       "<div>\n",
       "<style scoped>\n",
       "    .dataframe tbody tr th:only-of-type {\n",
       "        vertical-align: middle;\n",
       "    }\n",
       "\n",
       "    .dataframe tbody tr th {\n",
       "        vertical-align: top;\n",
       "    }\n",
       "\n",
       "    .dataframe thead th {\n",
       "        text-align: right;\n",
       "    }\n",
       "</style>\n",
       "<table border=\"1\" class=\"dataframe\">\n",
       "  <thead>\n",
       "    <tr style=\"text-align: right;\">\n",
       "      <th></th>\n",
       "      <th>text</th>\n",
       "      <th>stressor_class</th>\n",
       "      <th>stressor_word</th>\n",
       "      <th>interval</th>\n",
       "    </tr>\n",
       "  </thead>\n",
       "  <tbody>\n",
       "    <tr>\n",
       "      <th>0</th>\n",
       "      <td>Why are there always trivial matters in life t...</td>\n",
       "      <td>T1</td>\n",
       "      <td>financial</td>\n",
       "      <td>8</td>\n",
       "    </tr>\n",
       "    <tr>\n",
       "      <th>1</th>\n",
       "      <td>After celebrating my 21st birthday, I truly fe...</td>\n",
       "      <td>T1</td>\n",
       "      <td>urged to marry</td>\n",
       "      <td>8</td>\n",
       "    </tr>\n",
       "    <tr>\n",
       "      <th>2</th>\n",
       "      <td>In the coming March, my work pressure will be ...</td>\n",
       "      <td>T1</td>\n",
       "      <td>work</td>\n",
       "      <td>8</td>\n",
       "    </tr>\n",
       "    <tr>\n",
       "      <th>3</th>\n",
       "      <td>Indeed, the pressure of writing papers now is ...</td>\n",
       "      <td>T1</td>\n",
       "      <td>papers</td>\n",
       "      <td>8</td>\n",
       "    </tr>\n",
       "    <tr>\n",
       "      <th>4</th>\n",
       "      <td>I can't learn it anymore, so let's just give u...</td>\n",
       "      <td>T1</td>\n",
       "      <td>can't learn it</td>\n",
       "      <td>8</td>\n",
       "    </tr>\n",
       "  </tbody>\n",
       "</table>\n",
       "</div>"
      ],
      "text/plain": [
       "                                                text stressor_class  \\\n",
       "0  Why are there always trivial matters in life t...             T1   \n",
       "1  After celebrating my 21st birthday, I truly fe...             T1   \n",
       "2  In the coming March, my work pressure will be ...             T1   \n",
       "3  Indeed, the pressure of writing papers now is ...             T1   \n",
       "4  I can't learn it anymore, so let's just give u...             T1   \n",
       "\n",
       "    stressor_word  interval  \n",
       "0       financial         8  \n",
       "1  urged to marry         8  \n",
       "2            work         8  \n",
       "3          papers         8  \n",
       "4  can't learn it         8  "
      ]
     },
     "execution_count": 364,
     "metadata": {},
     "output_type": "execute_result"
    }
   ],
   "source": [
    "import json\n",
    "\n",
    "def load_data2dataframe(file):\n",
    "    \"\"\"\n",
    "    讀取 JSON 文件並將其轉換為 Pandas DataFrame。\n",
    "    參數:\n",
    "        file (str): 檔案路徑。\n",
    "\n",
    "    錯誤回報:\n",
    "        ValueError: 如果在資料集目錄中找不到 JSON 檔案。\n",
    "        ValueError: 如果指定的 JSON 檔案不存在。\n",
    "        \n",
    "    回傳:\n",
    "        pd.DataFrame: 包含文本、壓力源類別、壓力源詞和時間間隔的 DataFrame。\n",
    "    \"\"\"\n",
    "    if not FILES:\n",
    "        raise ValueError(\"No JSON files found in the dataset directory.\")\n",
    "    if not os.path.exists(file):\n",
    "        raise ValueError(f\"File '{file}' does not exist.\")\n",
    "    with open(file, encoding=\"utf-8\") as f:\n",
    "        data = json.load(f)\n",
    "        if not isinstance(data, list):\n",
    "            raise ValueError(f\"Expected a list in JSON file, got {type(data)}\")\n",
    "        temp = []\n",
    "        for item in data:\n",
    "            #print(item)\n",
    "            TEXT = item[\"text\"]\n",
    "            INTERVAL = item[\"interval\"]\n",
    "            try:\n",
    "                STRESSOR_class = item[\"labels\"][0][0]\n",
    "                STRESSOR_WORD = item[\"labels\"][0][4]\n",
    "            except IndexError:\n",
    "                STRESSOR_class = np.nan\n",
    "                STRESSOR_WORD = np.nan\n",
    "            temp.append((TEXT, STRESSOR_class, STRESSOR_WORD, INTERVAL))\n",
    "\n",
    "    # Convert list of tuples to DataFrame with column names\n",
    "    return pd.DataFrame(temp, columns=[\"text\", \"stressor_class\", \"stressor_word\", \"interval\"])\n",
    "\n",
    "dataframes = [load_data2dataframe(f) for f in FILES]\n",
    "df = pd.concat(dataframes, ignore_index=True)\n",
    "df.head()"
   ]
  },
  {
   "cell_type": "code",
   "execution_count": 365,
   "id": "f57249dc",
   "metadata": {},
   "outputs": [
    {
     "data": {
      "text/plain": [
       "text              0\n",
       "stressor_class    0\n",
       "stressor_word     0\n",
       "interval          0\n",
       "dtype: int64"
      ]
     },
     "execution_count": 365,
     "metadata": {},
     "output_type": "execute_result"
    }
   ],
   "source": [
    "df.dropna(inplace=True)\n",
    "df.isna().sum()"
   ]
  },
  {
   "cell_type": "code",
   "execution_count": 366,
   "id": "5f1b89ba",
   "metadata": {},
   "outputs": [],
   "source": [
    "df_copy = df.copy()"
   ]
  },
  {
   "cell_type": "code",
   "execution_count": 367,
   "id": "ab781e1c",
   "metadata": {},
   "outputs": [
    {
     "name": "stdout",
     "output_type": "stream",
     "text": [
      "['urge', 'marry', 'cat', 'dog']\n"
     ]
    }
   ],
   "source": [
    "import spacy\n",
    "\n",
    "nlp = spacy.load(\"en_core_web_sm\")\n",
    "\n",
    "def normalize_spacy(text):\n",
    "    '''\n",
    "    將文本轉換為小寫,並移除標點符號、空白和停用詞，在進行詞型還原。\n",
    "    '''\n",
    "    doc = nlp(text.lower())\n",
    "    lemmatized = []\n",
    "    for token in doc:\n",
    "        if token.is_punct or token.is_space or token.is_stop:\n",
    "            continue\n",
    "        lemma = token.lemma_\n",
    "        lemmatized.append(lemma)\n",
    "    return lemmatized\n",
    "\n",
    "print(normalize_spacy(\"everyone myself others I around me, urged to marry the cats and dogs\"))\n"
   ]
  },
  {
   "cell_type": "code",
   "execution_count": 368,
   "id": "c0fde1a3",
   "metadata": {},
   "outputs": [],
   "source": [
    "from gensim import corpora\n",
    "from gensim.models.tfidfmodel import TfidfModel\n",
    "# 1. 文字正規化\n",
    "texts = [normalize_spacy(doc) for doc in df_copy[\"stressor_word\"]]\n",
    "\n",
    "# 2. 過濾空文本（避免 dictionary 出錯）\n",
    "df_copy[\"normalized\"] = texts\n",
    "df_copy = df_copy[df_copy[\"normalized\"].apply(lambda x: len(x) > 0)].reset_index(drop=True)\n",
    "\n",
    "# 3. 建立字典\n",
    "texts = df_copy[\"normalized\"].tolist()\n",
    "dictionary = corpora.Dictionary(texts)\n",
    "\n",
    "# 4. 記錄原始 token 數量（同步前）\n",
    "original_token_ids = set(dictionary.token2id.keys())\n",
    "\n",
    "# 5. 過濾太少／太常見詞\n",
    "dictionary.filter_extremes(no_below=2, no_above=0.5)\n",
    "\n",
    "# 6. 建立新語料（這時候 dictionary ID 是新的）\n",
    "corpus = [dictionary.doc2bow(text) for text in texts]\n",
    "# # 7. 轉換 Tfidf 格式\n",
    "# tfidf = TfidfModel(corpus)\n",
    "# corpus = [tfidf[text_corpus] for text_corpus in corpus]"
   ]
  },
  {
   "cell_type": "code",
   "execution_count": 369,
   "id": "7ecd3255",
   "metadata": {},
   "outputs": [
    {
     "name": "stdout",
     "output_type": "stream",
     "text": [
      "[9, 14, 33, 57, 59, 80, 120, 140, 147, 149, 162, 175, 188, 190, 197, 213, 216, 253, 286, 290, 302, 313, 321, 330, 338, 355, 365, 373, 381, 383, 468, 472, 490, 501, 509, 516, 546, 562, 592, 690, 693, 697, 698, 701, 757, 769, 776, 789, 846, 857, 932, 951, 984, 985, 993, 995, 997, 1006, 1008, 1025, 1041, 1043, 1062, 1073, 1084, 1119, 1140, 1149, 1162, 1170, 1175, 1182, 1201, 1215, 1217, 1219, 1226, 1240, 1253, 1271, 1294, 1328, 1333, 1339, 1397, 1410, 1412, 1430, 1446, 1456, 1474, 1487, 1489, 1512, 1527, 1552, 1555, 1561, 1574, 1576, 1586, 1603, 1605, 1616, 1637, 1642, 1648, 1677, 1712, 1713, 1728, 1734, 1750, 1762, 1776, 1783, 1787, 1788, 1846, 1864, 1865, 1889, 1892, 1940, 1948, 1958, 1959, 1974, 1978, 1980, 2007, 2014, 2016, 2025, 2026, 2042, 2043, 2057, 2069, 2075, 2082, 2089, 2096, 2097, 2105, 2124, 2159, 2161, 2165, 2168, 2191, 2192, 2201, 2205, 2224, 2235, 2255, 2277, 2284, 2344, 2357, 2359, 2367, 2368, 2373, 2376, 2380, 2408, 2410, 2418, 2435, 2437, 2439, 2445, 2446, 2450, 2457, 2463, 2467, 2473, 2480, 2484, 2499, 2500, 2504, 2505, 2508, 2513, 2530, 2554, 2586, 2607, 2612, 2625, 2655, 2673, 2678, 2711, 2716, 2741, 2765, 2773, 2777, 2795, 2807, 2875, 2879, 2889, 2910, 2913, 2924, 2945, 2963, 2983, 2992, 3000, 3051, 3065, 3072, 3100, 3110, 3160, 3177, 3206, 3223, 3231, 3236, 3252, 3297, 3304, 3324, 3326, 3366, 3378, 3401, 3402, 3404, 3405, 3409, 3424, 3442, 3458, 3459, 3470, 3496, 3514, 3516, 3569, 3572, 3574, 3584, 3609, 3618, 3619, 3621, 3625, 3627, 3637, 3644, 3646, 3647, 3659, 3678, 3686, 3706, 3732, 3739, 3742, 3744, 3751, 3761, 3775, 3779, 3789, 3806, 3808, 3829, 3840, 3849, 3858, 3859, 3868, 3872, 3881, 3884]\n"
     ]
    }
   ],
   "source": [
    "empty_indices = [i for i, doc in enumerate(corpus) if not doc]\n",
    "print(empty_indices)"
   ]
  },
  {
   "cell_type": "code",
   "execution_count": 370,
   "id": "e835f180",
   "metadata": {},
   "outputs": [],
   "source": [
    "# 刪除 corpus_TFiDF 中 empty_indices 對應的元素\n",
    "corpus = [doc for i, doc in enumerate(corpus) if i not in empty_indices]"
   ]
  },
  {
   "cell_type": "code",
   "execution_count": 371,
   "id": "da152cfd",
   "metadata": {},
   "outputs": [],
   "source": [
    "try:\n",
    "    df_copy.drop(empty_indices, inplace=True)\n",
    "except:\n",
    "    pass"
   ]
  },
  {
   "cell_type": "code",
   "execution_count": 372,
   "id": "34f6f116",
   "metadata": {},
   "outputs": [
    {
     "data": {
      "text/plain": [
       "(3600, 3600)"
      ]
     },
     "execution_count": 372,
     "metadata": {},
     "output_type": "execute_result"
    }
   ],
   "source": [
    "len(df_copy) , len(corpus)"
   ]
  },
  {
   "cell_type": "markdown",
   "id": "00bb7c17",
   "metadata": {},
   "source": [
    "計算最佳主題數 4群 泛化能力稍佳\n",
    "---"
   ]
  },
  {
   "cell_type": "code",
   "execution_count": 373,
   "id": "cf32ede6",
   "metadata": {},
   "outputs": [],
   "source": [
    "# from gensim.models import CoherenceModel, LdaModel\n",
    "\n",
    "# def train_and_compute_coherence(\n",
    "#     dictionary, corpus, texts,coherence_type, start=2, limit=10):\n",
    "#     values = []\n",
    "#     for num_topics in range(start, limit + 1):\n",
    "#         model = LdaModel(\n",
    "#             corpus=corpus,\n",
    "#             id2word=dictionary,\n",
    "#             num_topics=num_topics,\n",
    "#             alpha='auto',\n",
    "#             eta='auto',\n",
    "#             passes=10\n",
    "#         )\n",
    "#         coherence_model = CoherenceModel(\n",
    "#             model=model,\n",
    "#             texts=texts,\n",
    "#             dictionary=dictionary,\n",
    "#             coherence=coherence_type\n",
    "#         )\n",
    "#         values.append(coherence_model.get_coherence())\n",
    "#     return values\n",
    "\n",
    "# all_runs =  []\n",
    "# for i in range(1,6):\n",
    "#     scores = train_and_compute_coherence(\n",
    "#         dictionary, \n",
    "#         corpus_tfidf, \n",
    "#         texts, \n",
    "#         coherence_type = 'c_v', \n",
    "#         start = 2, \n",
    "#         limit = 10\n",
    "#     )\n",
    "#     all_runs.append(scores)\n"
   ]
  },
  {
   "cell_type": "code",
   "execution_count": 374,
   "id": "c5f16295",
   "metadata": {},
   "outputs": [],
   "source": [
    "# import numpy as np\n",
    "# avg_values = np.mean(all_runs, axis=0) "
   ]
  },
  {
   "cell_type": "code",
   "execution_count": 375,
   "id": "7e25f7c6",
   "metadata": {},
   "outputs": [],
   "source": [
    "# np.argmax(all_runs , axis=1)+2"
   ]
  },
  {
   "cell_type": "code",
   "execution_count": 376,
   "id": "cf7a492d",
   "metadata": {},
   "outputs": [],
   "source": [
    "\n",
    "# x = range(2,11)\n",
    "# plt.plot(x, avg_values)\n",
    "# plt.title(\"Optimal Number of Topics\")\n",
    "# plt.grid(axis=\"x\" , linestyle='--')\n",
    "# plt.xlabel(\"Number of Topics\")\n",
    "# plt.ylabel(\"Coherence Score\")\n",
    "# plt.show()"
   ]
  },
  {
   "cell_type": "markdown",
   "id": "2747ba29",
   "metadata": {},
   "source": [
    "模型建立-進行主題分群\n",
    "---"
   ]
  },
  {
   "cell_type": "code",
   "execution_count": 412,
   "id": "0e1f62de",
   "metadata": {},
   "outputs": [],
   "source": [
    "from gensim.models.ldamodel import LdaModel\n",
    "# 建立 LDA 模型\n",
    "lda_model = LdaModel(corpus=corpus, \n",
    "                     id2word=dictionary, \n",
    "                     num_topics=4, # (3 or 4)\n",
    "                     passes=60,\n",
    "                     random_state=42\n",
    "                )\n",
    "\n",
    "# 取得每筆資料的主題分佈\n",
    "topic_distributions = [lda_model.get_document_topics(bow) for bow in corpus]\n",
    "\n",
    "# 取最大主題編號作為群標籤\n",
    "topic_labels = [max(dist, key=lambda x: x[1])[0] for dist in topic_distributions]"
   ]
  },
  {
   "cell_type": "code",
   "execution_count": 413,
   "id": "3753b0ce",
   "metadata": {},
   "outputs": [
    {
     "data": {
      "text/plain": [
       "[(0,\n",
       "  '0.050*\"celebrate\" + 0.048*\"examination\" + 0.026*\"psychological\" + 0.022*\"admission\" + 0.021*\"exam\" + 0.021*\"damage\" + 0.018*\"graduate\" + 0.017*\"responsible\" + 0.015*\"dear\" + 0.014*\"expect\"'),\n",
       " (1,\n",
       "  '0.015*\"marry\" + 0.015*\"video\" + 0.013*\"early\" + 0.012*\"hear\" + 0.012*\"excel\" + 0.011*\"stay\" + 0.011*\"like\" + 0.011*\"financial\" + 0.009*\"eager\" + 0.009*\"high\"'),\n",
       " (2,\n",
       "  '0.219*\"freedom\" + 0.109*\"german\" + 0.022*\"peace\" + 0.020*\"family\" + 0.019*\"feel\" + 0.017*\"heart\" + 0.009*\"energetic\" + 0.007*\"entrance\" + 0.006*\"twenty\" + 0.006*\"unfold\"'),\n",
       " (3,\n",
       "  '0.068*\"personal\" + 0.044*\"time\" + 0.014*\"advice\" + 0.012*\"irreparable\" + 0.012*\"fortunate\" + 0.011*\"leave\" + 0.009*\"concern\" + 0.009*\"find\" + 0.009*\"tomorrow\" + 0.008*\"show\"')]"
      ]
     },
     "execution_count": 413,
     "metadata": {},
     "output_type": "execute_result"
    }
   ],
   "source": [
    "topic_words = lda_model.print_topics()\n",
    "topic_words"
   ]
  },
  {
   "cell_type": "code",
   "execution_count": 414,
   "id": "5cbafd6b",
   "metadata": {},
   "outputs": [],
   "source": [
    "import re\n",
    "\n",
    "# 取得主題與描述\n",
    "topics = lda_model.print_topics()\n",
    "\n",
    "# 只擷取每個主題中的詞（不含機率）\n",
    "topic_keywords = [re.findall(r'\"(.*?)\"', topic[1]) for topic in topics]\n",
    "\n",
    "# 若想加上主題編號\n",
    "topic_words = []\n",
    "for idx, words in enumerate(topic_keywords):\n",
    "    topic_words.append(words)\n",
    "\n"
   ]
  },
  {
   "cell_type": "code",
   "execution_count": 416,
   "id": "8431f503",
   "metadata": {},
   "outputs": [
    {
     "name": "stdout",
     "output_type": "stream",
     "text": [
      "Topic Diversity = 1.000\n"
     ]
    }
   ],
   "source": [
    "# 展平所有詞\n",
    "all_words = [word for topic in topic_keywords for word in topic]\n",
    "distinct_words = set(all_words)\n",
    "\n",
    "kword = 10  # 每個主題取 10 個詞\n",
    "Term = 4  # 共有 4 個主題\n",
    "diversity = len(distinct_words) / (kword* Term)\n",
    "\n",
    "print(f\"Topic Diversity = {diversity:.3f}\")\n",
    "\n"
   ]
  },
  {
   "cell_type": "code",
   "execution_count": 417,
   "id": "795f4a6f",
   "metadata": {},
   "outputs": [
    {
     "data": {
      "text/html": [
       "<div>\n",
       "<style scoped>\n",
       "    .dataframe tbody tr th:only-of-type {\n",
       "        vertical-align: middle;\n",
       "    }\n",
       "\n",
       "    .dataframe tbody tr th {\n",
       "        vertical-align: top;\n",
       "    }\n",
       "\n",
       "    .dataframe thead th {\n",
       "        text-align: right;\n",
       "    }\n",
       "</style>\n",
       "<table border=\"1\" class=\"dataframe\">\n",
       "  <thead>\n",
       "    <tr style=\"text-align: right;\">\n",
       "      <th></th>\n",
       "      <th>text</th>\n",
       "      <th>stressor_class</th>\n",
       "      <th>stressor_word</th>\n",
       "      <th>interval</th>\n",
       "      <th>normalized</th>\n",
       "      <th>topic</th>\n",
       "    </tr>\n",
       "  </thead>\n",
       "  <tbody>\n",
       "    <tr>\n",
       "      <th>0</th>\n",
       "      <td>Why are there always trivial matters in life t...</td>\n",
       "      <td>T1</td>\n",
       "      <td>financial</td>\n",
       "      <td>8</td>\n",
       "      <td>[financial]</td>\n",
       "      <td>0</td>\n",
       "    </tr>\n",
       "    <tr>\n",
       "      <th>1</th>\n",
       "      <td>After celebrating my 21st birthday, I truly fe...</td>\n",
       "      <td>T1</td>\n",
       "      <td>urged to marry</td>\n",
       "      <td>8</td>\n",
       "      <td>[urge, marry]</td>\n",
       "      <td>3</td>\n",
       "    </tr>\n",
       "    <tr>\n",
       "      <th>2</th>\n",
       "      <td>In the coming March, my work pressure will be ...</td>\n",
       "      <td>T1</td>\n",
       "      <td>work</td>\n",
       "      <td>8</td>\n",
       "      <td>[work]</td>\n",
       "      <td>2</td>\n",
       "    </tr>\n",
       "    <tr>\n",
       "      <th>3</th>\n",
       "      <td>Indeed, the pressure of writing papers now is ...</td>\n",
       "      <td>T1</td>\n",
       "      <td>papers</td>\n",
       "      <td>8</td>\n",
       "      <td>[paper]</td>\n",
       "      <td>0</td>\n",
       "    </tr>\n",
       "    <tr>\n",
       "      <th>4</th>\n",
       "      <td>I can't learn it anymore, so let's just give u...</td>\n",
       "      <td>T1</td>\n",
       "      <td>can't learn it</td>\n",
       "      <td>8</td>\n",
       "      <td>[learn]</td>\n",
       "      <td>0</td>\n",
       "    </tr>\n",
       "    <tr>\n",
       "      <th>5</th>\n",
       "      <td>Staying up late is irreparable damage. I've st...</td>\n",
       "      <td>T1</td>\n",
       "      <td>learn</td>\n",
       "      <td>8</td>\n",
       "      <td>[learn]</td>\n",
       "      <td>0</td>\n",
       "    </tr>\n",
       "    <tr>\n",
       "      <th>6</th>\n",
       "      <td>Watching decompressing videos on Douyin increa...</td>\n",
       "      <td>T1</td>\n",
       "      <td>decompressing videos</td>\n",
       "      <td>8</td>\n",
       "      <td>[decompress, video]</td>\n",
       "      <td>2</td>\n",
       "    </tr>\n",
       "    <tr>\n",
       "      <th>7</th>\n",
       "      <td>The pressure from scrolling through Xiaohongsh...</td>\n",
       "      <td>T1</td>\n",
       "      <td>Xiaohongshu</td>\n",
       "      <td>8</td>\n",
       "      <td>[xiaohongshu]</td>\n",
       "      <td>1</td>\n",
       "    </tr>\n",
       "    <tr>\n",
       "      <th>8</th>\n",
       "      <td>I'm out of money... the baby clothing store is...</td>\n",
       "      <td>T1</td>\n",
       "      <td>baby clothing store</td>\n",
       "      <td>8</td>\n",
       "      <td>[baby, clothing, store]</td>\n",
       "      <td>2</td>\n",
       "    </tr>\n",
       "    <tr>\n",
       "      <th>10</th>\n",
       "      <td>All the pressure and obstacles are given by my...</td>\n",
       "      <td>T1</td>\n",
       "      <td>my family</td>\n",
       "      <td>8</td>\n",
       "      <td>[family]</td>\n",
       "      <td>2</td>\n",
       "    </tr>\n",
       "  </tbody>\n",
       "</table>\n",
       "</div>"
      ],
      "text/plain": [
       "                                                 text stressor_class  \\\n",
       "0   Why are there always trivial matters in life t...             T1   \n",
       "1   After celebrating my 21st birthday, I truly fe...             T1   \n",
       "2   In the coming March, my work pressure will be ...             T1   \n",
       "3   Indeed, the pressure of writing papers now is ...             T1   \n",
       "4   I can't learn it anymore, so let's just give u...             T1   \n",
       "5   Staying up late is irreparable damage. I've st...             T1   \n",
       "6   Watching decompressing videos on Douyin increa...             T1   \n",
       "7   The pressure from scrolling through Xiaohongsh...             T1   \n",
       "8   I'm out of money... the baby clothing store is...             T1   \n",
       "10  All the pressure and obstacles are given by my...             T1   \n",
       "\n",
       "           stressor_word  interval               normalized  topic  \n",
       "0              financial         8              [financial]      0  \n",
       "1         urged to marry         8            [urge, marry]      3  \n",
       "2                   work         8                   [work]      2  \n",
       "3                 papers         8                  [paper]      0  \n",
       "4         can't learn it         8                  [learn]      0  \n",
       "5                  learn         8                  [learn]      0  \n",
       "6   decompressing videos         8      [decompress, video]      2  \n",
       "7            Xiaohongshu         8            [xiaohongshu]      1  \n",
       "8    baby clothing store         8  [baby, clothing, store]      2  \n",
       "10             my family         8                 [family]      2  "
      ]
     },
     "execution_count": 417,
     "metadata": {},
     "output_type": "execute_result"
    }
   ],
   "source": [
    "df_copy[\"topic\"] = topic_labels\n",
    "df_copy.head(10)"
   ]
  },
  {
   "cell_type": "code",
   "execution_count": 418,
   "id": "2aeab45c",
   "metadata": {},
   "outputs": [],
   "source": [
    "from sklearn.model_selection import train_test_split\n",
    "from sklearn.metrics import classification_report\n",
    "X = df_copy[\"text\"]\n",
    "y = df_copy[\"topic\"]\n",
    "X_train, X_test, y_train, y_test = train_test_split(X, y, test_size=0.2 , stratify=y)\n"
   ]
  },
  {
   "cell_type": "code",
   "execution_count": 419,
   "id": "bece665f",
   "metadata": {},
   "outputs": [],
   "source": [
    "from gensim.corpora.dictionary import Dictionary\n",
    "from gensim.models.tfidfmodel import TfidfModel\n",
    "texts = [normalize_spacy(word) for word in X]\n",
    "dictionary = Dictionary(texts)\n",
    "\n",
    "X_train_tokens = [normalize_spacy(text) for text in X_train]\n",
    "X_test_tokens = [normalize_spacy(text) for text in X_test]\n",
    "\n",
    "X_train_vectorized = [dictionary.doc2bow(text) for text in X_train_tokens]\n",
    "X_test_vectorized = [dictionary.doc2bow(text) for text in X_test_tokens]\n",
    "\n",
    "\n",
    "tfidf_model = TfidfModel(X_train_vectorized)\n",
    "X_train_tfidf = [tfidf_model[doc] for doc in X_train_vectorized]\n",
    "X_test_tfidf = [tfidf_model[doc] for doc in X_test_vectorized]\n"
   ]
  },
  {
   "cell_type": "code",
   "execution_count": 420,
   "id": "d446b533",
   "metadata": {},
   "outputs": [],
   "source": [
    "from gensim import matutils\n",
    "import numpy as np\n",
    "\n",
    "# 將稀疏向量轉成稠密矩陣\n",
    "def bow_to_dense(corpus, dictionary):\n",
    "    return np.array([\n",
    "        matutils.corpus2dense([bow], num_terms=len(dictionary)).T[0]\n",
    "        for bow in corpus\n",
    "    ])\n",
    "\n",
    "X_train_vectorized = bow_to_dense(X_train_tfidf, dictionary)\n",
    "X_test_vectorized = bow_to_dense(X_test_tfidf, dictionary)\n"
   ]
  },
  {
   "cell_type": "markdown",
   "id": "6526a8ef",
   "metadata": {},
   "source": [
    "# 模型比對\n"
   ]
  },
  {
   "cell_type": "markdown",
   "id": "58a10c1c",
   "metadata": {},
   "source": [
    "linear-SVC\n",
    "---"
   ]
  },
  {
   "cell_type": "code",
   "execution_count": 421,
   "id": "1ea4e75d",
   "metadata": {},
   "outputs": [
    {
     "name": "stdout",
     "output_type": "stream",
     "text": [
      "0.725\n",
      "              precision    recall  f1-score   support\n",
      "\n",
      "           0       0.67      0.71      0.69       161\n",
      "           1       0.65      0.60      0.63       124\n",
      "           2       0.80      0.79      0.79       290\n",
      "           3       0.70      0.72      0.71       145\n",
      "\n",
      "    accuracy                           0.72       720\n",
      "   macro avg       0.71      0.70      0.71       720\n",
      "weighted avg       0.72      0.72      0.72       720\n",
      "\n"
     ]
    }
   ],
   "source": [
    "from sklearn.svm import LinearSVC\n",
    "SVC_model = LinearSVC(\n",
    "                        penalty=\"l1\" ,\n",
    "                        class_weight=\"balanced\",\n",
    "                        random_state=42\n",
    "                    )\n",
    "SVC_model.fit(X_train_vectorized, y_train)  \n",
    "y_pred = SVC_model.predict(X_test_vectorized)  \n",
    "print(SVC_model.score(X_test_vectorized,y_test))\n",
    "print(classification_report(y_test, y_pred))"
   ]
  },
  {
   "cell_type": "code",
   "execution_count": 422,
   "id": "1e1d38e8",
   "metadata": {},
   "outputs": [
    {
     "data": {
      "image/png": "[encoded data removed]",
      "text/plain": [
       "<Figure size 640x480 with 2 Axes>"
      ]
     },
     "metadata": {},
     "output_type": "display_data"
    }
   ],
   "source": [
    "from sklearn.metrics import ConfusionMatrixDisplay\n",
    "ConfusionMatrixDisplay.from_estimator(SVC_model, X_test_vectorized, y_test)\n",
    "plt.show()"
   ]
  },
  {
   "cell_type": "markdown",
   "id": "12539cf5",
   "metadata": {},
   "source": [
    "LogisticRegression\n",
    "---"
   ]
  },
  {
   "cell_type": "code",
   "execution_count": 423,
   "id": "a6ca6f7e",
   "metadata": {},
   "outputs": [
    {
     "name": "stdout",
     "output_type": "stream",
     "text": [
      "0.7125\n",
      "              precision    recall  f1-score   support\n",
      "\n",
      "           0       0.68      0.69      0.68       161\n",
      "           1       0.59      0.59      0.59       124\n",
      "           2       0.79      0.79      0.79       290\n",
      "           3       0.70      0.70      0.70       145\n",
      "\n",
      "    accuracy                           0.71       720\n",
      "   macro avg       0.69      0.69      0.69       720\n",
      "weighted avg       0.71      0.71      0.71       720\n",
      "\n"
     ]
    }
   ],
   "source": [
    "from sklearn.linear_model import LogisticRegression\n",
    "LR = LogisticRegression(class_weight=\"balanced\")\n",
    "LR.fit(X_train_vectorized, y_train)  \n",
    "y_pred = LR.predict(X_test_vectorized)  \n",
    "print(LR.score(X_test_vectorized,y_test))\n",
    "print(classification_report(y_test, y_pred))"
   ]
  },
  {
   "cell_type": "code",
   "execution_count": 424,
   "id": "178054ee",
   "metadata": {},
   "outputs": [
    {
     "data": {
      "image/png": "[encoded data removed]",
      "text/plain": [
       "<Figure size 640x480 with 2 Axes>"
      ]
     },
     "metadata": {},
     "output_type": "display_data"
    }
   ],
   "source": [
    "from sklearn.metrics import ConfusionMatrixDisplay\n",
    "ConfusionMatrixDisplay.from_estimator(LR, X_test_vectorized, y_test)\n",
    "plt.show()"
   ]
  },
  {
   "cell_type": "markdown",
   "id": "32f212b2",
   "metadata": {},
   "source": [
    "SGDClassifier\n",
    "---"
   ]
  },
  {
   "cell_type": "code",
   "execution_count": 425,
   "id": "7a238369",
   "metadata": {},
   "outputs": [
    {
     "name": "stdout",
     "output_type": "stream",
     "text": [
      "0.6930555555555555\n",
      "              precision    recall  f1-score   support\n",
      "\n",
      "           0       0.59      0.77      0.67       161\n",
      "           1       0.66      0.48      0.55       124\n",
      "           2       0.79      0.77      0.78       290\n",
      "           3       0.66      0.64      0.65       145\n",
      "\n",
      "    accuracy                           0.69       720\n",
      "   macro avg       0.68      0.66      0.66       720\n",
      "weighted avg       0.70      0.69      0.69       720\n",
      "\n"
     ]
    }
   ],
   "source": [
    "from sklearn.linear_model import SGDClassifier \n",
    "SGD = SGDClassifier(\n",
    "                    penalty=\"elasticnet\", \n",
    "                    class_weight=\"balanced\",\n",
    "                    random_state=42 \n",
    "                )\n",
    "SGD.fit(X_train_vectorized, y_train)  \n",
    "y_pred = SGD.predict(X_test_vectorized)  \n",
    "print(SGD.score(X_test_vectorized,y_test))\n",
    "print(classification_report(y_test, y_pred))"
   ]
  },
  {
   "cell_type": "code",
   "execution_count": 426,
   "id": "1fac94d0",
   "metadata": {},
   "outputs": [
    {
     "data": {
      "image/png": "[encoded data removed]",
      "text/plain": [
       "<Figure size 640x480 with 2 Axes>"
      ]
     },
     "metadata": {},
     "output_type": "display_data"
    }
   ],
   "source": [
    "from sklearn.metrics import ConfusionMatrixDisplay\n",
    "ConfusionMatrixDisplay.from_estimator(SGD, X_test_vectorized, y_test)\n",
    "plt.show()"
   ]
  },
  {
   "cell_type": "markdown",
   "id": "d3f5e1d8",
   "metadata": {},
   "source": [
    "交叉驗證-1\n",
    "---"
   ]
  },
  {
   "cell_type": "code",
   "execution_count": 427,
   "id": "82021019",
   "metadata": {},
   "outputs": [
    {
     "name": "stdout",
     "output_type": "stream",
     "text": [
      "LR :  0.5694444444444444\n",
      "SVC :  0.6069444444444445\n",
      "SGD :  0.5638888888888889\n"
     ]
    }
   ],
   "source": [
    "from sklearn.model_selection import cross_val_score\n",
    "\n",
    "print(\"LR : \" , cross_val_score(LR, X_test_vectorized, y_test, cv=5).mean())\n",
    "print(\"SVC : \",cross_val_score(SVC_model, X_test_vectorized, y_test, cv=5).mean())\n",
    "print(\"SGD : \",cross_val_score(SGD, X_test_vectorized, y_test, cv=5).mean())"
   ]
  },
  {
   "cell_type": "markdown",
   "id": "eed5c20c",
   "metadata": {},
   "source": [
    "# 超參數搜尋"
   ]
  },
  {
   "cell_type": "markdown",
   "id": "7aaf7298",
   "metadata": {},
   "source": [
    "linear-svc\n",
    "---"
   ]
  },
  {
   "cell_type": "code",
   "execution_count": 429,
   "id": "10c99d63",
   "metadata": {},
   "outputs": [
    {
     "name": "stdout",
     "output_type": "stream",
     "text": [
      "0.715625\n",
      "{'C': 1, 'penalty': 'l1', 'tol': 0.0001}\n"
     ]
    }
   ],
   "source": [
    "from sklearn.model_selection import GridSearchCV\n",
    "from sklearn.svm import LinearSVC\n",
    "\n",
    "svc_param_grid = {\n",
    "    'penalty': ['l1', 'l2'],\n",
    "    'C': [1e-2 , 0.1 , 1 ,2 ,3],\n",
    "    'tol': [1e-4, 1e-3]\n",
    "}\n",
    "\n",
    "svc_model = LinearSVC(random_state=42 , class_weight=\"balanced\")\n",
    "grid_svc = GridSearchCV(svc_model, svc_param_grid, cv=5, scoring='accuracy', n_jobs=-1)\n",
    "grid_svc.fit(X_train_vectorized, y_train)\n",
    "\n",
    "print(grid_svc.best_score_)\n",
    "print(grid_svc.best_params_)"
   ]
  },
  {
   "cell_type": "code",
   "execution_count": 430,
   "id": "63cd06f7",
   "metadata": {},
   "outputs": [
    {
     "name": "stdout",
     "output_type": "stream",
     "text": [
      "              precision    recall  f1-score   support\n",
      "\n",
      "           0       0.67      0.71      0.69       161\n",
      "           1       0.65      0.60      0.63       124\n",
      "           2       0.80      0.79      0.79       290\n",
      "           3       0.70      0.72      0.71       145\n",
      "\n",
      "    accuracy                           0.72       720\n",
      "   macro avg       0.71      0.70      0.71       720\n",
      "weighted avg       0.72      0.72      0.72       720\n",
      "\n"
     ]
    }
   ],
   "source": [
    "print(classification_report(y_test, grid_svc.predict(X_test_vectorized)))"
   ]
  },
  {
   "cell_type": "code",
   "execution_count": 431,
   "id": "8921cc60",
   "metadata": {},
   "outputs": [
    {
     "data": {
      "image/png": "[encoded data removed]",
      "text/plain": [
       "<Figure size 640x480 with 2 Axes>"
      ]
     },
     "metadata": {},
     "output_type": "display_data"
    }
   ],
   "source": [
    "ConfusionMatrixDisplay.from_estimator(grid_svc.best_estimator_, X_test_vectorized, y_test)\n",
    "plt.show()"
   ]
  },
  {
   "cell_type": "markdown",
   "id": "02b29a33",
   "metadata": {},
   "source": [
    "logistic-regression\n",
    "---"
   ]
  },
  {
   "cell_type": "code",
   "execution_count": 443,
   "id": "cafdbb53",
   "metadata": {},
   "outputs": [
    {
     "name": "stdout",
     "output_type": "stream",
     "text": [
      "0.7\n",
      "{'C': 1, 'l1_ratio': 0.5, 'tol': 0.001}\n"
     ]
    },
    {
     "name": "stderr",
     "output_type": "stream",
     "text": [
      "c:\\Users\\user\\Downloads\\Program_project_py\\ML\\.venv\\Lib\\site-packages\\sklearn\\linear_model\\_logistic.py:1196: UserWarning: l1_ratio parameter is only used when penalty is 'elasticnet'. Got (penalty=l1)\n",
      "  warnings.warn(\n"
     ]
    }
   ],
   "source": [
    "from sklearn.linear_model import LogisticRegression \n",
    "\n",
    "lr_param_grid = {\n",
    "    'C': [1e-4, 1e-3, 1e-2, 0.1, 1],\n",
    "    'tol': [1e-3, 1e-4],\n",
    "    'l1_ratio': [0.5, 0.7, 0.9, 1.0]\n",
    "}\n",
    "\n",
    "lr_model = LogisticRegression(\n",
    "                              penalty='l1',\n",
    "                              class_weight='balanced',\n",
    "                              solver='liblinear',\n",
    "                              max_iter=1000,\n",
    "                              random_state=42\n",
    "                            )\n",
    "grid_lr = GridSearchCV(lr_model, lr_param_grid, cv=5, scoring='accuracy', n_jobs=-1)\n",
    "grid_lr.fit(X_train_vectorized, y_train)\n",
    "\n",
    "print(grid_lr.best_score_)\n",
    "print(grid_lr.best_params_)"
   ]
  },
  {
   "cell_type": "code",
   "execution_count": 444,
   "id": "17ec6e53",
   "metadata": {},
   "outputs": [
    {
     "name": "stdout",
     "output_type": "stream",
     "text": [
      "              precision    recall  f1-score   support\n",
      "\n",
      "           0       0.67      0.68      0.68       161\n",
      "           1       0.55      0.60      0.58       124\n",
      "           2       0.82      0.77      0.80       290\n",
      "           3       0.68      0.70      0.69       145\n",
      "\n",
      "    accuracy                           0.71       720\n",
      "   macro avg       0.68      0.69      0.69       720\n",
      "weighted avg       0.71      0.71      0.71       720\n",
      "\n"
     ]
    }
   ],
   "source": [
    "print(classification_report(y_test, grid_lr.predict(X_test_vectorized)))\n"
   ]
  },
  {
   "cell_type": "code",
   "execution_count": 434,
   "id": "9adacadb",
   "metadata": {},
   "outputs": [
    {
     "data": {
      "image/png": "[encoded data removed]",
      "text/plain": [
       "<Figure size 640x480 with 2 Axes>"
      ]
     },
     "metadata": {},
     "output_type": "display_data"
    }
   ],
   "source": [
    "ConfusionMatrixDisplay.from_estimator(grid_lr.best_estimator_, X_test_vectorized, y_test)\n",
    "plt.show()"
   ]
  },
  {
   "cell_type": "markdown",
   "id": "4e0f3fce",
   "metadata": {},
   "source": [
    "SGDClassifier\n",
    "---"
   ]
  },
  {
   "cell_type": "code",
   "execution_count": 446,
   "id": "1de5cc83",
   "metadata": {},
   "outputs": [
    {
     "name": "stdout",
     "output_type": "stream",
     "text": [
      "0.7149305555555556\n",
      "{'alpha': 0.0005, 'class_weight': 'balanced', 'epsilon': 0.1, 'l1_ratio': 0.7, 'max_iter': 1000, 'penalty': 'elasticnet', 'tol': 0.001}\n"
     ]
    }
   ],
   "source": [
    "from sklearn.linear_model import SGDClassifier\n",
    "\n",
    "sgd_param_grid = {\n",
    "    'penalty': ['elasticnet'],\n",
    "    'alpha': [1e-4, 5e-4, 1e-3],\n",
    "    'l1_ratio': [0.7, 0.9, 1.0],\n",
    "    'class_weight': ['balanced'],\n",
    "    'max_iter': [1000],\n",
    "    'epsilon': [0.1],\n",
    "    'tol' : [1e-3, 1e-2]\n",
    "}\n",
    "\n",
    "\n",
    "sgd_model = SGDClassifier(random_state=42)\n",
    "grid_sgd = GridSearchCV(sgd_model, sgd_param_grid, cv=5, scoring='accuracy', n_jobs=-1)\n",
    "grid_sgd.fit(X_train_vectorized, y_train)\n",
    "\n",
    "print(grid_sgd.best_score_)\n",
    "print(grid_sgd.best_params_)"
   ]
  },
  {
   "cell_type": "code",
   "execution_count": 436,
   "id": "75117b46",
   "metadata": {},
   "outputs": [
    {
     "name": "stdout",
     "output_type": "stream",
     "text": [
      "              precision    recall  f1-score   support\n",
      "\n",
      "           0       0.60      0.71      0.65       161\n",
      "           1       0.69      0.51      0.59       124\n",
      "           2       0.81      0.77      0.79       290\n",
      "           3       0.65      0.72      0.68       145\n",
      "\n",
      "    accuracy                           0.70       720\n",
      "   macro avg       0.69      0.68      0.68       720\n",
      "weighted avg       0.71      0.70      0.70       720\n",
      "\n"
     ]
    }
   ],
   "source": [
    "print(classification_report(y_test, grid_sgd.predict(X_test_vectorized)))"
   ]
  },
  {
   "cell_type": "code",
   "execution_count": 437,
   "id": "3dda11c0",
   "metadata": {},
   "outputs": [
    {
     "data": {
      "image/png": "[encoded data removed]",
      "text/plain": [
       "<Figure size 640x480 with 2 Axes>"
      ]
     },
     "metadata": {},
     "output_type": "display_data"
    }
   ],
   "source": [
    "ConfusionMatrixDisplay.from_estimator(grid_sgd.best_estimator_, X_test_vectorized, y_test)\n",
    "plt.show()"
   ]
  },
  {
   "cell_type": "markdown",
   "id": "0902519c",
   "metadata": {},
   "source": [
    "交叉驗證-2\n",
    "---"
   ]
  },
  {
   "cell_type": "code",
   "execution_count": 447,
   "id": "2888c069",
   "metadata": {},
   "outputs": [
    {
     "name": "stdout",
     "output_type": "stream",
     "text": [
      "0.715625\n"
     ]
    },
    {
     "name": "stderr",
     "output_type": "stream",
     "text": [
      "c:\\Users\\user\\Downloads\\Program_project_py\\ML\\.venv\\Lib\\site-packages\\sklearn\\linear_model\\_logistic.py:1196: UserWarning: l1_ratio parameter is only used when penalty is 'elasticnet'. Got (penalty=l1)\n",
      "  warnings.warn(\n",
      "c:\\Users\\user\\Downloads\\Program_project_py\\ML\\.venv\\Lib\\site-packages\\sklearn\\linear_model\\_logistic.py:1196: UserWarning: l1_ratio parameter is only used when penalty is 'elasticnet'. Got (penalty=l1)\n",
      "  warnings.warn(\n",
      "c:\\Users\\user\\Downloads\\Program_project_py\\ML\\.venv\\Lib\\site-packages\\sklearn\\linear_model\\_logistic.py:1196: UserWarning: l1_ratio parameter is only used when penalty is 'elasticnet'. Got (penalty=l1)\n",
      "  warnings.warn(\n",
      "c:\\Users\\user\\Downloads\\Program_project_py\\ML\\.venv\\Lib\\site-packages\\sklearn\\linear_model\\_logistic.py:1196: UserWarning: l1_ratio parameter is only used when penalty is 'elasticnet'. Got (penalty=l1)\n",
      "  warnings.warn(\n",
      "c:\\Users\\user\\Downloads\\Program_project_py\\ML\\.venv\\Lib\\site-packages\\sklearn\\linear_model\\_logistic.py:1196: UserWarning: l1_ratio parameter is only used when penalty is 'elasticnet'. Got (penalty=l1)\n",
      "  warnings.warn(\n"
     ]
    },
    {
     "name": "stdout",
     "output_type": "stream",
     "text": [
      "0.7\n",
      "0.7149305555555556\n"
     ]
    }
   ],
   "source": [
    "models = [\n",
    "            grid_svc.best_estimator_, \n",
    "            grid_lr.best_estimator_, \n",
    "            grid_sgd.best_estimator_,\n",
    "        ]\n",
    "for model in models:\n",
    "    print(cross_val_score(model, X_train_vectorized, y_train, cv=5).mean())"
   ]
  },
  {
   "cell_type": "markdown",
   "id": "48e132be",
   "metadata": {},
   "source": [
    "predicted_topic"
   ]
  },
  {
   "cell_type": "code",
   "execution_count": 448,
   "id": "b523256b",
   "metadata": {},
   "outputs": [
    {
     "name": "stdout",
     "output_type": "stream",
     "text": [
      "LinearSVC accuracy: 0.725\n",
      "LogisticRegression accuracy: 0.7083333333333334\n",
      "SGDClassifier accuracy: 0.7027777777777777\n"
     ]
    }
   ],
   "source": [
    "# 使用所有模型對 X_test_vectorized 進行預測並顯示準確率\n",
    "from sklearn.metrics import accuracy_score\n",
    "for model in models:\n",
    "    y_pred = model.predict(X_test_vectorized)\n",
    "    print(f\"{model.__class__.__name__} accuracy: {accuracy_score( y_test,y_pred )}\")"
   ]
  },
  {
   "cell_type": "code",
   "execution_count": 449,
   "id": "25152a2c",
   "metadata": {},
   "outputs": [
    {
     "data": {
      "text/plain": [
       "['best_sgd_classifier_model.joblib']"
      ]
     },
     "execution_count": 449,
     "metadata": {},
     "output_type": "execute_result"
    }
   ],
   "source": [
    "import joblib\n",
    "\n",
    "# 存儲最佳模型\n",
    "joblib.dump(grid_svc.best_estimator_, \"best_linear_svc_model.joblib\")\n",
    "joblib.dump(grid_lr.best_estimator_, \"best_logistic_regression_model.joblib\")\n",
    "joblib.dump(grid_sgd.best_estimator_, \"best_sgd_classifier_model.joblib\")"
   ]
  }
 ],
 "metadata": {
  "kernelspec": {
   "display_name": ".venv",
   "language": "python",
   "name": "python3"
  },
  "language_info": {
   "codemirror_mode": {
    "name": "ipython",
    "version": 3
   },
   "file_extension": ".py",
   "mimetype": "text/x-python",
   "name": "python",
   "nbconvert_exporter": "python",
   "pygments_lexer": "ipython3",
   "version": "3.12.7"
  }
 },
 "nbformat": 4,
 "nbformat_minor": 5
}
