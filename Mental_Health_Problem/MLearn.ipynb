{
 "cells": [
  {
   "cell_type": "code",
   "execution_count": 73,
   "id": "b9b77b54",
   "metadata": {},
   "outputs": [],
   "source": [
    "import kagglehub\n",
    "# Download latest version\n",
    "path = kagglehub.dataset_download(\"xinwangcs/stressor-cause-of-mental-health-problem-dataset\")\n",
    "#print(path)"
   ]
  },
  {
   "cell_type": "code",
   "execution_count": 74,
   "id": "08e7b8d4",
   "metadata": {},
   "outputs": [],
   "source": [
    "import os\n",
    "import numpy as np\n",
    "import pandas as pd\n",
    "import matplotlib.pyplot as plt\n",
    "FILES = []\n",
    "for file in os.listdir(path):\n",
    "    if file.endswith(\".json\"):\n",
    "        PATH = os.path.join(path, file)\n",
    "        FILES.append(PATH )\n",
    "#print(\"Files in dataset:\", FILES)\n",
    "\n"
   ]
  },
  {
   "cell_type": "code",
   "execution_count": 75,
   "id": "070eddce",
   "metadata": {},
   "outputs": [
    {
     "data": {
      "text/html": [
       "<div>\n",
       "<style scoped>\n",
       "    .dataframe tbody tr th:only-of-type {\n",
       "        vertical-align: middle;\n",
       "    }\n",
       "\n",
       "    .dataframe tbody tr th {\n",
       "        vertical-align: top;\n",
       "    }\n",
       "\n",
       "    .dataframe thead th {\n",
       "        text-align: right;\n",
       "    }\n",
       "</style>\n",
       "<table border=\"1\" class=\"dataframe\">\n",
       "  <thead>\n",
       "    <tr style=\"text-align: right;\">\n",
       "      <th></th>\n",
       "      <th>text</th>\n",
       "      <th>stressor_class</th>\n",
       "      <th>stressor_word</th>\n",
       "      <th>interval</th>\n",
       "    </tr>\n",
       "  </thead>\n",
       "  <tbody>\n",
       "    <tr>\n",
       "      <th>0</th>\n",
       "      <td>Why are there always trivial matters in life t...</td>\n",
       "      <td>T1</td>\n",
       "      <td>financial</td>\n",
       "      <td>8</td>\n",
       "    </tr>\n",
       "    <tr>\n",
       "      <th>1</th>\n",
       "      <td>After celebrating my 21st birthday, I truly fe...</td>\n",
       "      <td>T1</td>\n",
       "      <td>urged to marry</td>\n",
       "      <td>8</td>\n",
       "    </tr>\n",
       "    <tr>\n",
       "      <th>2</th>\n",
       "      <td>In the coming March, my work pressure will be ...</td>\n",
       "      <td>T1</td>\n",
       "      <td>work</td>\n",
       "      <td>8</td>\n",
       "    </tr>\n",
       "    <tr>\n",
       "      <th>3</th>\n",
       "      <td>Indeed, the pressure of writing papers now is ...</td>\n",
       "      <td>T1</td>\n",
       "      <td>papers</td>\n",
       "      <td>8</td>\n",
       "    </tr>\n",
       "    <tr>\n",
       "      <th>4</th>\n",
       "      <td>I can't learn it anymore, so let's just give u...</td>\n",
       "      <td>T1</td>\n",
       "      <td>can't learn it</td>\n",
       "      <td>8</td>\n",
       "    </tr>\n",
       "  </tbody>\n",
       "</table>\n",
       "</div>"
      ],
      "text/plain": [
       "                                                text stressor_class  \\\n",
       "0  Why are there always trivial matters in life t...             T1   \n",
       "1  After celebrating my 21st birthday, I truly fe...             T1   \n",
       "2  In the coming March, my work pressure will be ...             T1   \n",
       "3  Indeed, the pressure of writing papers now is ...             T1   \n",
       "4  I can't learn it anymore, so let's just give u...             T1   \n",
       "\n",
       "    stressor_word  interval  \n",
       "0       financial         8  \n",
       "1  urged to marry         8  \n",
       "2            work         8  \n",
       "3          papers         8  \n",
       "4  can't learn it         8  "
      ]
     },
     "execution_count": 75,
     "metadata": {},
     "output_type": "execute_result"
    }
   ],
   "source": [
    "from nlprocess import load_data2dataframe\n",
    "\n",
    "dataframes = [load_data2dataframe(f) for f in FILES]\n",
    "df = pd.concat(dataframes, ignore_index=True)\n",
    "df.head()"
   ]
  },
  {
   "cell_type": "code",
   "execution_count": 76,
   "id": "f57249dc",
   "metadata": {},
   "outputs": [
    {
     "data": {
      "text/plain": [
       "text              0\n",
       "stressor_class    0\n",
       "stressor_word     0\n",
       "interval          0\n",
       "dtype: int64"
      ]
     },
     "execution_count": 76,
     "metadata": {},
     "output_type": "execute_result"
    }
   ],
   "source": [
    "df.dropna(inplace=True)\n",
    "df.isna().sum()"
   ]
  },
  {
   "cell_type": "code",
   "execution_count": 77,
   "id": "8a650a10",
   "metadata": {},
   "outputs": [
    {
     "name": "stderr",
     "output_type": "stream",
     "text": [
      "Normalizing: 100%|██████████| 3985/3985 [00:15<00:00, 261.51it/s]\n",
      "Building BOW Corpus: 100%|██████████| 3885/3885 [00:00<00:00, 647418.29it/s]\n"
     ]
    }
   ],
   "source": [
    "from nlprocess import normalize_spacy\n",
    "from nlprocess import to_corpus\n",
    "import spacy\n",
    "nlp = spacy.load(\"en_core_web_sm\") \n",
    "Dict = to_corpus(df, \"stressor_word\", \"bow\" , nlp = nlp)"
   ]
  },
  {
   "cell_type": "code",
   "execution_count": 78,
   "id": "3aa7edbc",
   "metadata": {},
   "outputs": [],
   "source": [
    "ddf , texts ,dictionary ,corpus = Dict[\"df\"], Dict[\"texts\"], Dict[\"dictionary\"], Dict[\"corpus\"]"
   ]
  },
  {
   "cell_type": "code",
   "execution_count": 79,
   "id": "2cf7aa09",
   "metadata": {},
   "outputs": [
    {
     "data": {
      "text/html": [
       "<div>\n",
       "<style scoped>\n",
       "    .dataframe tbody tr th:only-of-type {\n",
       "        vertical-align: middle;\n",
       "    }\n",
       "\n",
       "    .dataframe tbody tr th {\n",
       "        vertical-align: top;\n",
       "    }\n",
       "\n",
       "    .dataframe thead th {\n",
       "        text-align: right;\n",
       "    }\n",
       "</style>\n",
       "<table border=\"1\" class=\"dataframe\">\n",
       "  <thead>\n",
       "    <tr style=\"text-align: right;\">\n",
       "      <th></th>\n",
       "      <th>text</th>\n",
       "      <th>stressor_class</th>\n",
       "      <th>stressor_word</th>\n",
       "      <th>interval</th>\n",
       "      <th>normalized</th>\n",
       "    </tr>\n",
       "  </thead>\n",
       "  <tbody>\n",
       "    <tr>\n",
       "      <th>0</th>\n",
       "      <td>Why are there always trivial matters in life t...</td>\n",
       "      <td>T1</td>\n",
       "      <td>financial</td>\n",
       "      <td>8</td>\n",
       "      <td>[financial]</td>\n",
       "    </tr>\n",
       "    <tr>\n",
       "      <th>1</th>\n",
       "      <td>After celebrating my 21st birthday, I truly fe...</td>\n",
       "      <td>T1</td>\n",
       "      <td>urged to marry</td>\n",
       "      <td>8</td>\n",
       "      <td>[urge, marry]</td>\n",
       "    </tr>\n",
       "    <tr>\n",
       "      <th>2</th>\n",
       "      <td>In the coming March, my work pressure will be ...</td>\n",
       "      <td>T1</td>\n",
       "      <td>work</td>\n",
       "      <td>8</td>\n",
       "      <td>[work]</td>\n",
       "    </tr>\n",
       "    <tr>\n",
       "      <th>3</th>\n",
       "      <td>Indeed, the pressure of writing papers now is ...</td>\n",
       "      <td>T1</td>\n",
       "      <td>papers</td>\n",
       "      <td>8</td>\n",
       "      <td>[paper]</td>\n",
       "    </tr>\n",
       "    <tr>\n",
       "      <th>4</th>\n",
       "      <td>I can't learn it anymore, so let's just give u...</td>\n",
       "      <td>T1</td>\n",
       "      <td>can't learn it</td>\n",
       "      <td>8</td>\n",
       "      <td>[learn]</td>\n",
       "    </tr>\n",
       "  </tbody>\n",
       "</table>\n",
       "</div>"
      ],
      "text/plain": [
       "                                                text stressor_class  \\\n",
       "0  Why are there always trivial matters in life t...             T1   \n",
       "1  After celebrating my 21st birthday, I truly fe...             T1   \n",
       "2  In the coming March, my work pressure will be ...             T1   \n",
       "3  Indeed, the pressure of writing papers now is ...             T1   \n",
       "4  I can't learn it anymore, so let's just give u...             T1   \n",
       "\n",
       "    stressor_word  interval     normalized  \n",
       "0       financial         8    [financial]  \n",
       "1  urged to marry         8  [urge, marry]  \n",
       "2            work         8         [work]  \n",
       "3          papers         8        [paper]  \n",
       "4  can't learn it         8        [learn]  "
      ]
     },
     "execution_count": 79,
     "metadata": {},
     "output_type": "execute_result"
    }
   ],
   "source": [
    "ddf.head()"
   ]
  },
  {
   "cell_type": "markdown",
   "id": "00bb7c17",
   "metadata": {},
   "source": [
    "計算最佳主題數 4群 泛化能力稍佳\n",
    "---"
   ]
  },
  {
   "cell_type": "code",
   "execution_count": 9,
   "id": "1bd4b3b8",
   "metadata": {},
   "outputs": [
    {
     "name": "stderr",
     "output_type": "stream",
     "text": [
      "Training LDA models: 100%|██████████| 9/9 [01:01<00:00,  6.88s/it]\n",
      "Training LDA models: 100%|██████████| 9/9 [01:06<00:00,  7.35s/it]s/it]\n",
      "Training LDA models: 100%|██████████| 9/9 [01:06<00:00,  7.42s/it]s/it]\n",
      "Training LDA models: 100%|██████████| 9/9 [01:07<00:00,  7.53s/it]s/it]\n",
      "Training LDA models: 100%|██████████| 9/9 [01:09<00:00,  7.70s/it]s/it]\n",
      "Running coherence scores: 100%|██████████| 5/5 [05:31<00:00, 66.40s/it]\n"
     ]
    }
   ],
   "source": [
    "from find_best_number_of_topic import score_coherence\n",
    "avg_values = score_coherence(dictionary , corpus, texts, \"c_v\", start=2, limit=10, num_runs=5, alpha='auto', eta='auto', passes=10)"
   ]
  },
  {
   "cell_type": "code",
   "execution_count": 12,
   "id": "cf7a492d",
   "metadata": {},
   "outputs": [
    {
     "data": {
      "image/png": "[encoded data removed]",
      "text/plain": [
       "<Figure size 640x480 with 1 Axes>"
      ]
     },
     "metadata": {},
     "output_type": "display_data"
    }
   ],
   "source": [
    "\n",
    "x = range(2,11)\n",
    "plt.plot(x, np.mean(avg_values , axis=0))\n",
    "plt.title(\"Optimal Number of Topics\")\n",
    "plt.grid(axis=\"x\" , linestyle='--')\n",
    "plt.xlabel(\"Number of Topics\")\n",
    "plt.ylabel(\"Coherence Score\")\n",
    "plt.show()"
   ]
  },
  {
   "cell_type": "markdown",
   "id": "64ba291e",
   "metadata": {},
   "source": [
    "Load model\n",
    "---"
   ]
  },
  {
   "cell_type": "code",
   "execution_count": 80,
   "id": "f44438af",
   "metadata": {},
   "outputs": [],
   "source": [
    "# 讀取模型\n",
    "from gensim.models import LdaModel\n",
    "lda_model = LdaModel.load(\"LDA/topics_4_best_model.model\")\n",
    "# 取得每筆資料的主題分佈\n",
    "topic_distributions = [lda_model.get_document_topics(bow) for bow in corpus]\n",
    "\n",
    "# 取最大主題編號作為群標籤\n",
    "topic_labels = [max(dist, key=lambda x: x[1])[0] for dist in topic_distributions]"
   ]
  },
  {
   "cell_type": "code",
   "execution_count": 82,
   "id": "a947e5eb",
   "metadata": {},
   "outputs": [
    {
     "data": {
      "text/plain": [
       "[(0,\n",
       "  '0.108*\"exam\" + 0.087*\"study\" + 0.070*\"job\" + 0.038*\"home\" + 0.027*\"go\" + 0.017*\"friend\" + 0.017*\"panic\" + 0.015*\"expectation\" + 0.014*\"brother\" + 0.013*\"project\"'),\n",
       " (1,\n",
       "  '0.077*\"school\" + 0.041*\"entrance\" + 0.040*\"family\" + 0.037*\"mom\" + 0.035*\"start\" + 0.033*\"graduate\" + 0.030*\"year\" + 0.028*\"examination\" + 0.027*\"new\" + 0.020*\"high\"'),\n",
       " (2,\n",
       "  '0.026*\"peer\" + 0.025*\"academic\" + 0.022*\"social\" + 0.020*\"people\" + 0.019*\"house\" + 0.017*\"partner\" + 0.016*\"interview\" + 0.015*\"buy\" + 0.015*\"second\" + 0.015*\"performance\"'),\n",
       " (3,\n",
       "  '0.326*\"work\" + 0.163*\"life\" + 0.028*\"parent\" + 0.026*\"money\" + 0.017*\"marry\" + 0.016*\"paper\" + 0.014*\"sister\" + 0.012*\"teacher\" + 0.010*\"urge\" + 0.009*\"student\"')]"
      ]
     },
     "execution_count": 82,
     "metadata": {},
     "output_type": "execute_result"
    }
   ],
   "source": [
    "lda_model.print_topics()"
   ]
  },
  {
   "cell_type": "code",
   "execution_count": 83,
   "id": "99ce3a75",
   "metadata": {},
   "outputs": [
    {
     "data": {
      "text/html": [
       "<div>\n",
       "<style scoped>\n",
       "    .dataframe tbody tr th:only-of-type {\n",
       "        vertical-align: middle;\n",
       "    }\n",
       "\n",
       "    .dataframe tbody tr th {\n",
       "        vertical-align: top;\n",
       "    }\n",
       "\n",
       "    .dataframe thead th {\n",
       "        text-align: right;\n",
       "    }\n",
       "</style>\n",
       "<table border=\"1\" class=\"dataframe\">\n",
       "  <thead>\n",
       "    <tr style=\"text-align: right;\">\n",
       "      <th></th>\n",
       "      <th>text</th>\n",
       "      <th>stressor_class</th>\n",
       "      <th>stressor_word</th>\n",
       "      <th>interval</th>\n",
       "      <th>normalized</th>\n",
       "      <th>topic</th>\n",
       "    </tr>\n",
       "  </thead>\n",
       "  <tbody>\n",
       "    <tr>\n",
       "      <th>0</th>\n",
       "      <td>Why are there always trivial matters in life t...</td>\n",
       "      <td>T1</td>\n",
       "      <td>financial</td>\n",
       "      <td>8</td>\n",
       "      <td>[financial]</td>\n",
       "      <td>0</td>\n",
       "    </tr>\n",
       "    <tr>\n",
       "      <th>1</th>\n",
       "      <td>After celebrating my 21st birthday, I truly fe...</td>\n",
       "      <td>T1</td>\n",
       "      <td>urged to marry</td>\n",
       "      <td>8</td>\n",
       "      <td>[urge, marry]</td>\n",
       "      <td>3</td>\n",
       "    </tr>\n",
       "    <tr>\n",
       "      <th>2</th>\n",
       "      <td>In the coming March, my work pressure will be ...</td>\n",
       "      <td>T1</td>\n",
       "      <td>work</td>\n",
       "      <td>8</td>\n",
       "      <td>[work]</td>\n",
       "      <td>3</td>\n",
       "    </tr>\n",
       "    <tr>\n",
       "      <th>3</th>\n",
       "      <td>Indeed, the pressure of writing papers now is ...</td>\n",
       "      <td>T1</td>\n",
       "      <td>papers</td>\n",
       "      <td>8</td>\n",
       "      <td>[paper]</td>\n",
       "      <td>3</td>\n",
       "    </tr>\n",
       "    <tr>\n",
       "      <th>4</th>\n",
       "      <td>I can't learn it anymore, so let's just give u...</td>\n",
       "      <td>T1</td>\n",
       "      <td>can't learn it</td>\n",
       "      <td>8</td>\n",
       "      <td>[learn]</td>\n",
       "      <td>0</td>\n",
       "    </tr>\n",
       "    <tr>\n",
       "      <th>5</th>\n",
       "      <td>Staying up late is irreparable damage. I've st...</td>\n",
       "      <td>T1</td>\n",
       "      <td>learn</td>\n",
       "      <td>8</td>\n",
       "      <td>[learn]</td>\n",
       "      <td>0</td>\n",
       "    </tr>\n",
       "    <tr>\n",
       "      <th>6</th>\n",
       "      <td>Watching decompressing videos on Douyin increa...</td>\n",
       "      <td>T1</td>\n",
       "      <td>decompressing videos</td>\n",
       "      <td>8</td>\n",
       "      <td>[decompress, video]</td>\n",
       "      <td>2</td>\n",
       "    </tr>\n",
       "    <tr>\n",
       "      <th>7</th>\n",
       "      <td>The pressure from scrolling through Xiaohongsh...</td>\n",
       "      <td>T1</td>\n",
       "      <td>Xiaohongshu</td>\n",
       "      <td>8</td>\n",
       "      <td>[xiaohongshu]</td>\n",
       "      <td>0</td>\n",
       "    </tr>\n",
       "    <tr>\n",
       "      <th>8</th>\n",
       "      <td>I'm out of money... the baby clothing store is...</td>\n",
       "      <td>T1</td>\n",
       "      <td>baby clothing store</td>\n",
       "      <td>8</td>\n",
       "      <td>[baby, clothing, store]</td>\n",
       "      <td>0</td>\n",
       "    </tr>\n",
       "    <tr>\n",
       "      <th>9</th>\n",
       "      <td>All the pressure and obstacles are given by my...</td>\n",
       "      <td>T1</td>\n",
       "      <td>my family</td>\n",
       "      <td>8</td>\n",
       "      <td>[family]</td>\n",
       "      <td>1</td>\n",
       "    </tr>\n",
       "  </tbody>\n",
       "</table>\n",
       "</div>"
      ],
      "text/plain": [
       "                                                text stressor_class  \\\n",
       "0  Why are there always trivial matters in life t...             T1   \n",
       "1  After celebrating my 21st birthday, I truly fe...             T1   \n",
       "2  In the coming March, my work pressure will be ...             T1   \n",
       "3  Indeed, the pressure of writing papers now is ...             T1   \n",
       "4  I can't learn it anymore, so let's just give u...             T1   \n",
       "5  Staying up late is irreparable damage. I've st...             T1   \n",
       "6  Watching decompressing videos on Douyin increa...             T1   \n",
       "7  The pressure from scrolling through Xiaohongsh...             T1   \n",
       "8  I'm out of money... the baby clothing store is...             T1   \n",
       "9  All the pressure and obstacles are given by my...             T1   \n",
       "\n",
       "          stressor_word  interval               normalized  topic  \n",
       "0             financial         8              [financial]      0  \n",
       "1        urged to marry         8            [urge, marry]      3  \n",
       "2                  work         8                   [work]      3  \n",
       "3                papers         8                  [paper]      3  \n",
       "4        can't learn it         8                  [learn]      0  \n",
       "5                 learn         8                  [learn]      0  \n",
       "6  decompressing videos         8      [decompress, video]      2  \n",
       "7           Xiaohongshu         8            [xiaohongshu]      0  \n",
       "8   baby clothing store         8  [baby, clothing, store]      0  \n",
       "9             my family         8                 [family]      1  "
      ]
     },
     "execution_count": 83,
     "metadata": {},
     "output_type": "execute_result"
    }
   ],
   "source": [
    "ddf[\"topic\"] = topic_labels\n",
    "ddf.head(10)"
   ]
  },
  {
   "cell_type": "code",
   "execution_count": 85,
   "id": "5d757343",
   "metadata": {},
   "outputs": [
    {
     "data": {
      "text/plain": [
       "topic\n",
       "3    1390\n",
       "1     808\n",
       "0     748\n",
       "2     654\n",
       "Name: count, dtype: int64"
      ]
     },
     "execution_count": 85,
     "metadata": {},
     "output_type": "execute_result"
    }
   ],
   "source": [
    "ddf[\"topic\"].value_counts()"
   ]
  },
  {
   "cell_type": "code",
   "execution_count": 84,
   "id": "9ac98f65",
   "metadata": {},
   "outputs": [
    {
     "data": {
      "text/plain": [
       "(3600, 6)"
      ]
     },
     "execution_count": 84,
     "metadata": {},
     "output_type": "execute_result"
    }
   ],
   "source": [
    "ddf.shape"
   ]
  },
  {
   "cell_type": "markdown",
   "id": "2cac4d8c",
   "metadata": {},
   "source": [
    "# Data process"
   ]
  },
  {
   "cell_type": "code",
   "execution_count": 86,
   "id": "2aeab45c",
   "metadata": {},
   "outputs": [],
   "source": [
    "from sklearn.model_selection import train_test_split\n",
    "from sklearn.metrics import classification_report\n",
    "X = ddf[\"text\"]\n",
    "y = ddf[\"topic\"]\n",
    "X_train, X_test, y_train, y_test = train_test_split(X, y, test_size=0.2 , stratify=y)\n"
   ]
  },
  {
   "cell_type": "code",
   "execution_count": 87,
   "id": "bece665f",
   "metadata": {},
   "outputs": [],
   "source": [
    "from gensim.corpora.dictionary import Dictionary\n",
    "from gensim.models.tfidfmodel import TfidfModel\n",
    "from nlprocess import normalize_spacy\n",
    "import spacy\n",
    "nlp = spacy.load(\"en_core_web_sm\") \n",
    "texts = [normalize_spacy(word , nlp) for word in X]\n",
    "dictionary = Dictionary(texts)\n",
    "\n",
    "X_train_tokens = [normalize_spacy(text, nlp) for text in X_train]\n",
    "X_test_tokens = [normalize_spacy(text, nlp) for text in X_test]\n",
    "\n",
    "X_train_vectorized = [dictionary.doc2bow(text) for text in X_train_tokens]\n",
    "X_test_vectorized = [dictionary.doc2bow(text) for text in X_test_tokens]\n",
    "\n",
    "\n",
    "tfidf_model = TfidfModel(X_train_vectorized)\n",
    "X_train_tfidf = [tfidf_model[doc] for doc in X_train_vectorized]\n",
    "X_test_tfidf = [tfidf_model[doc] for doc in X_test_vectorized]\n"
   ]
  },
  {
   "cell_type": "code",
   "execution_count": 88,
   "id": "d446b533",
   "metadata": {},
   "outputs": [],
   "source": [
    "from gensim import matutils\n",
    "import numpy as np\n",
    "\n",
    "# 將稀疏向量轉成稠密矩陣\n",
    "def bow_to_dense(corpus, dictionary):\n",
    "    return np.array([\n",
    "        matutils.corpus2dense([bow], num_terms=len(dictionary)).T[0]\n",
    "        for bow in corpus\n",
    "    ])\n",
    "\n",
    "X_train_vectorized = bow_to_dense(X_train_tfidf, dictionary)\n",
    "X_test_vectorized = bow_to_dense(X_test_tfidf, dictionary)\n"
   ]
  },
  {
   "cell_type": "code",
   "execution_count": 89,
   "id": "e8c5c865",
   "metadata": {},
   "outputs": [
    {
     "data": {
      "text/plain": [
       "((2880, 4687), (720, 4687))"
      ]
     },
     "execution_count": 89,
     "metadata": {},
     "output_type": "execute_result"
    }
   ],
   "source": [
    "X_train_vectorized.shape , X_test_vectorized.shape"
   ]
  },
  {
   "cell_type": "markdown",
   "id": "6526a8ef",
   "metadata": {},
   "source": [
    "# 模型比對\n"
   ]
  },
  {
   "cell_type": "markdown",
   "id": "1856aa21",
   "metadata": {},
   "source": [
    "RandomForest\n",
    "---"
   ]
  },
  {
   "cell_type": "code",
   "execution_count": 90,
   "id": "4483f3d2",
   "metadata": {},
   "outputs": [
    {
     "name": "stdout",
     "output_type": "stream",
     "text": [
      "0.7097222222222223\n",
      "              precision    recall  f1-score   support\n",
      "\n",
      "           0       0.72      0.61      0.66       150\n",
      "           1       0.66      0.65      0.66       161\n",
      "           2       0.67      0.50      0.57       131\n",
      "           3       0.74      0.89      0.81       278\n",
      "\n",
      "    accuracy                           0.71       720\n",
      "   macro avg       0.70      0.67      0.68       720\n",
      "weighted avg       0.71      0.71      0.70       720\n",
      "\n"
     ]
    }
   ],
   "source": [
    "from sklearn.ensemble import RandomForestClassifier \n",
    "from sklearn.metrics import classification_report\n",
    "\n",
    "RF = RandomForestClassifier(n_estimators=150 ,class_weight=\"balanced\")\n",
    "RF.fit(X_train_vectorized, y_train)  \n",
    "y_pred = RF.predict(X_test_vectorized)  \n",
    "print(RF.score(X_test_vectorized,y_test))\n",
    "print(classification_report(y_test, y_pred))"
   ]
  },
  {
   "cell_type": "code",
   "execution_count": 91,
   "id": "3c1310f3",
   "metadata": {},
   "outputs": [
    {
     "data": {
      "image/png": "[encoded data removed]",
      "text/plain": [
       "<Figure size 640x480 with 2 Axes>"
      ]
     },
     "metadata": {},
     "output_type": "display_data"
    }
   ],
   "source": [
    "from sklearn.metrics import ConfusionMatrixDisplay\n",
    "ConfusionMatrixDisplay.from_estimator(RF, X_test_vectorized, y_test)\n",
    "plt.show()"
   ]
  },
  {
   "cell_type": "markdown",
   "id": "58a10c1c",
   "metadata": {},
   "source": [
    "linear-SVC\n",
    "---"
   ]
  },
  {
   "cell_type": "code",
   "execution_count": 92,
   "id": "1ea4e75d",
   "metadata": {},
   "outputs": [
    {
     "name": "stdout",
     "output_type": "stream",
     "text": [
      "0.7111111111111111\n",
      "              precision    recall  f1-score   support\n",
      "\n",
      "           0       0.72      0.65      0.69       150\n",
      "           1       0.67      0.68      0.67       161\n",
      "           2       0.60      0.60      0.60       131\n",
      "           3       0.77      0.82      0.80       278\n",
      "\n",
      "    accuracy                           0.71       720\n",
      "   macro avg       0.69      0.69      0.69       720\n",
      "weighted avg       0.71      0.71      0.71       720\n",
      "\n"
     ]
    }
   ],
   "source": [
    "from sklearn.svm import LinearSVC\n",
    "SVC_model = LinearSVC(\n",
    "                        penalty=\"l1\" ,\n",
    "                        class_weight=\"balanced\",\n",
    "                        random_state=42\n",
    "                    )\n",
    "SVC_model.fit(X_train_vectorized, y_train)  \n",
    "y_pred = SVC_model.predict(X_test_vectorized)  \n",
    "print(SVC_model.score(X_test_vectorized,y_test))\n",
    "print(classification_report(y_test, y_pred))"
   ]
  },
  {
   "cell_type": "code",
   "execution_count": 93,
   "id": "1e1d38e8",
   "metadata": {},
   "outputs": [
    {
     "data": {
      "image/png": "[encoded data removed]",
      "text/plain": [
       "<Figure size 640x480 with 2 Axes>"
      ]
     },
     "metadata": {},
     "output_type": "display_data"
    }
   ],
   "source": [
    "from sklearn.metrics import ConfusionMatrixDisplay\n",
    "ConfusionMatrixDisplay.from_estimator(SVC_model, X_test_vectorized, y_test)\n",
    "plt.show()"
   ]
  },
  {
   "cell_type": "markdown",
   "id": "12539cf5",
   "metadata": {},
   "source": [
    "LogisticRegression\n",
    "---"
   ]
  },
  {
   "cell_type": "code",
   "execution_count": 94,
   "id": "a6ca6f7e",
   "metadata": {},
   "outputs": [
    {
     "name": "stdout",
     "output_type": "stream",
     "text": [
      "0.7083333333333334\n",
      "              precision    recall  f1-score   support\n",
      "\n",
      "           0       0.73      0.63      0.68       150\n",
      "           1       0.65      0.66      0.65       161\n",
      "           2       0.56      0.60      0.58       131\n",
      "           3       0.81      0.83      0.82       278\n",
      "\n",
      "    accuracy                           0.71       720\n",
      "   macro avg       0.69      0.68      0.68       720\n",
      "weighted avg       0.71      0.71      0.71       720\n",
      "\n"
     ]
    }
   ],
   "source": [
    "from sklearn.linear_model import LogisticRegression\n",
    "LR = LogisticRegression(class_weight=\"balanced\")\n",
    "LR.fit(X_train_vectorized, y_train)  \n",
    "y_pred = LR.predict(X_test_vectorized)  \n",
    "print(LR.score(X_test_vectorized,y_test))\n",
    "print(classification_report(y_test, y_pred))"
   ]
  },
  {
   "cell_type": "code",
   "execution_count": 95,
   "id": "178054ee",
   "metadata": {},
   "outputs": [
    {
     "data": {
      "image/png": "[encoded data removed]",
      "text/plain": [
       "<Figure size 640x480 with 2 Axes>"
      ]
     },
     "metadata": {},
     "output_type": "display_data"
    }
   ],
   "source": [
    "from sklearn.metrics import ConfusionMatrixDisplay\n",
    "ConfusionMatrixDisplay.from_estimator(LR, X_test_vectorized, y_test)\n",
    "plt.show()"
   ]
  },
  {
   "cell_type": "markdown",
   "id": "32f212b2",
   "metadata": {},
   "source": [
    "SGDClassifier\n",
    "---"
   ]
  },
  {
   "cell_type": "code",
   "execution_count": 96,
   "id": "7a238369",
   "metadata": {},
   "outputs": [
    {
     "name": "stdout",
     "output_type": "stream",
     "text": [
      "0.6958333333333333\n",
      "              precision    recall  f1-score   support\n",
      "\n",
      "           0       0.66      0.68      0.67       150\n",
      "           1       0.66      0.66      0.66       161\n",
      "           2       0.59      0.54      0.56       131\n",
      "           3       0.78      0.80      0.79       278\n",
      "\n",
      "    accuracy                           0.70       720\n",
      "   macro avg       0.67      0.67      0.67       720\n",
      "weighted avg       0.69      0.70      0.69       720\n",
      "\n"
     ]
    }
   ],
   "source": [
    "from sklearn.linear_model import SGDClassifier \n",
    "SGD = SGDClassifier(\n",
    "                    penalty=\"l1\",\n",
    "                    class_weight=\"balanced\",\n",
    "                    random_state=42 \n",
    "                )\n",
    "SGD.fit(X_train_vectorized, y_train)  \n",
    "y_pred = SGD.predict(X_test_vectorized)  \n",
    "print(SGD.score(X_test_vectorized,y_test))\n",
    "print(classification_report(y_test, y_pred))"
   ]
  },
  {
   "cell_type": "code",
   "execution_count": 97,
   "id": "1fac94d0",
   "metadata": {},
   "outputs": [
    {
     "data": {
      "image/png": "[encoded data removed]",
      "text/plain": [
       "<Figure size 640x480 with 2 Axes>"
      ]
     },
     "metadata": {},
     "output_type": "display_data"
    }
   ],
   "source": [
    "from sklearn.metrics import ConfusionMatrixDisplay\n",
    "ConfusionMatrixDisplay.from_estimator(SGD, X_test_vectorized, y_test)\n",
    "plt.show()"
   ]
  },
  {
   "cell_type": "markdown",
   "id": "d3f5e1d8",
   "metadata": {},
   "source": [
    "交叉驗證-1\n",
    "---"
   ]
  },
  {
   "cell_type": "code",
   "execution_count": 98,
   "id": "82021019",
   "metadata": {},
   "outputs": [
    {
     "name": "stdout",
     "output_type": "stream",
     "text": [
      "LR :  0.5930555555555556\n",
      "SVC :  0.6305555555555556\n",
      "SGD :  0.6152777777777778\n",
      "RF :  0.5888888888888889\n"
     ]
    }
   ],
   "source": [
    "from sklearn.model_selection import cross_val_score\n",
    "\n",
    "print(\"LR : \" , cross_val_score(LR, X_test_vectorized, y_test, cv=5).mean())\n",
    "print(\"SVC : \",cross_val_score(SVC_model, X_test_vectorized, y_test, cv=5).mean())\n",
    "print(\"SGD : \",cross_val_score(SGD, X_test_vectorized, y_test, cv=5).mean())\n",
    "print(\"RF : \",cross_val_score(RF, X_test_vectorized, y_test, cv=5).mean())"
   ]
  },
  {
   "cell_type": "markdown",
   "id": "eed5c20c",
   "metadata": {},
   "source": [
    "# 超參數搜尋"
   ]
  },
  {
   "cell_type": "markdown",
   "id": "7aaf7298",
   "metadata": {},
   "source": [
    "linear-svc\n",
    "---"
   ]
  },
  {
   "cell_type": "code",
   "execution_count": 182,
   "id": "10c99d63",
   "metadata": {},
   "outputs": [
    {
     "name": "stdout",
     "output_type": "stream",
     "text": [
      "Fitting 5 folds for each of 30 candidates, totalling 150 fits\n",
      "0.7051798681024033\n",
      "{'C': 1, 'penalty': 'l1', 'tol': 1e-05}\n"
     ]
    }
   ],
   "source": [
    "from sklearn.model_selection import GridSearchCV\n",
    "from sklearn.svm import LinearSVC\n",
    "\n",
    "svc_param_grid = {\n",
    "    'penalty': ['l1', 'l2'],\n",
    "    'C': [1e-2 , 0.1 , 1 ,2 ,3],\n",
    "    'tol': [1e-5 , 1e-4 , 1e-3]\n",
    "}\n",
    "\n",
    "svc_model = LinearSVC(random_state=42 , class_weight=\"balanced\")\n",
    "grid_svc = GridSearchCV(\n",
    "    svc_model, \n",
    "    svc_param_grid, \n",
    "    cv=5, \n",
    "    scoring='f1_weighted' ,\n",
    "    verbose=1, \n",
    "    n_jobs=-1\n",
    ")\n",
    "grid_svc.fit(X_train_vectorized, y_train)\n",
    "\n",
    "print(grid_svc.best_score_)\n",
    "print(grid_svc.best_params_)"
   ]
  },
  {
   "cell_type": "code",
   "execution_count": 183,
   "id": "5c4754ea",
   "metadata": {},
   "outputs": [
    {
     "data": {
      "text/plain": [
       "0.7111111111111111"
      ]
     },
     "execution_count": 183,
     "metadata": {},
     "output_type": "execute_result"
    }
   ],
   "source": [
    "from sklearn.metrics import accuracy_score\n",
    "accuracy_score(y_test, grid_svc.predict(X_test_vectorized))"
   ]
  },
  {
   "cell_type": "code",
   "execution_count": 184,
   "id": "63cd06f7",
   "metadata": {},
   "outputs": [
    {
     "name": "stdout",
     "output_type": "stream",
     "text": [
      "              precision    recall  f1-score   support\n",
      "\n",
      "           0       0.72      0.65      0.69       150\n",
      "           1       0.67      0.68      0.67       161\n",
      "           2       0.60      0.60      0.60       131\n",
      "           3       0.77      0.82      0.80       278\n",
      "\n",
      "    accuracy                           0.71       720\n",
      "   macro avg       0.69      0.69      0.69       720\n",
      "weighted avg       0.71      0.71      0.71       720\n",
      "\n"
     ]
    }
   ],
   "source": [
    "print(classification_report(y_test, grid_svc.predict(X_test_vectorized)))"
   ]
  },
  {
   "cell_type": "code",
   "execution_count": 185,
   "id": "8921cc60",
   "metadata": {},
   "outputs": [
    {
     "data": {
      "image/png": "[encoded data removed]",
      "text/plain": [
       "<Figure size 640x480 with 2 Axes>"
      ]
     },
     "metadata": {},
     "output_type": "display_data"
    }
   ],
   "source": [
    "ConfusionMatrixDisplay.from_estimator(grid_svc.best_estimator_, X_test_vectorized, y_test)\n",
    "plt.show()"
   ]
  },
  {
   "cell_type": "markdown",
   "id": "02b29a33",
   "metadata": {},
   "source": [
    "logistic-regression\n",
    "---"
   ]
  },
  {
   "cell_type": "code",
   "execution_count": 116,
   "id": "cafdbb53",
   "metadata": {},
   "outputs": [
    {
     "name": "stdout",
     "output_type": "stream",
     "text": [
      "Fitting 5 folds for each of 50 candidates, totalling 250 fits\n",
      "0.71325900604697\n",
      "{'C': 2, 'l1_ratio': 0.9, 'penalty': 'elasticnet', 'solver': 'saga', 'tol': 0.001}\n"
     ]
    }
   ],
   "source": [
    "from sklearn.linear_model import LogisticRegression \n",
    "lr_param_grid_elasticnet = {\n",
    "    'penalty': ['elasticnet'],\n",
    "    'solver': ['saga'],\n",
    "    'l1_ratio': [0.1 , 0.5 ,0.7, 0.9, 1.0],\n",
    "    'C': [1e-2, 0.1, 1, 2,3],\n",
    "    'tol': [1e-3, 1e-4],\n",
    "}\n",
    "\n",
    "lr_param_grid_others = {\n",
    "    'penalty': ['l1', 'l2'],\n",
    "    'solver': ['liblinear'],\n",
    "    'C': [0.1, 1, 2, 3 , 4],\n",
    "    'tol': [1e-3, 1e-4],\n",
    "}\n",
    "\n",
    "lr_model = LogisticRegression(\n",
    "                              class_weight='balanced',\n",
    "                              max_iter=1000,\n",
    "                              random_state=42\n",
    "                            )\n",
    "grid_lr_elasticnet = GridSearchCV(\n",
    "  lr_model, \n",
    "  lr_param_grid_elasticnet, \n",
    "  cv=5, \n",
    "  scoring='f1_weighted' , \n",
    "  verbose=1, \n",
    "  n_jobs=-1\n",
    ")\n",
    "grid_lr_elasticnet .fit(X_train_vectorized, y_train)\n",
    "\n",
    "print(grid_lr_elasticnet .best_score_)\n",
    "print(grid_lr_elasticnet .best_params_)"
   ]
  },
  {
   "cell_type": "code",
   "execution_count": 117,
   "id": "f985943a",
   "metadata": {},
   "outputs": [
    {
     "name": "stdout",
     "output_type": "stream",
     "text": [
      "Fitting 5 folds for each of 20 candidates, totalling 100 fits\n",
      "0.7139708517347689\n",
      "{'C': 2, 'penalty': 'l1', 'solver': 'liblinear', 'tol': 0.001}\n"
     ]
    }
   ],
   "source": [
    "grid_lr_others = GridSearchCV(\n",
    "  lr_model, \n",
    "  lr_param_grid_others, \n",
    "  cv=5, \n",
    "  scoring='f1_weighted' , \n",
    "  verbose=1, \n",
    "  n_jobs=-1\n",
    ")\n",
    "grid_lr_others .fit(X_train_vectorized, y_train)\n",
    "\n",
    "print(grid_lr_others .best_score_)\n",
    "print(grid_lr_others .best_params_)"
   ]
  },
  {
   "cell_type": "code",
   "execution_count": 136,
   "id": "1b53d375",
   "metadata": {},
   "outputs": [
    {
     "name": "stdout",
     "output_type": "stream",
     "text": [
      "elasticnet\n",
      "0.7291666666666666\n",
      "L1 L2\n",
      "0.7208333333333333\n"
     ]
    }
   ],
   "source": [
    "from sklearn.metrics import accuracy_score\n",
    "print(\"elasticnet\")\n",
    "print(accuracy_score(y_test, grid_lr_elasticnet.predict(X_test_vectorized)))\n",
    "print(\"L1 L2\") \n",
    "print(accuracy_score(y_test, grid_lr_others.predict(X_test_vectorized)))"
   ]
  },
  {
   "cell_type": "code",
   "execution_count": 119,
   "id": "17ec6e53",
   "metadata": {},
   "outputs": [
    {
     "name": "stdout",
     "output_type": "stream",
     "text": [
      "              precision    recall  f1-score   support\n",
      "\n",
      "           0       0.73      0.69      0.71       150\n",
      "           1       0.67      0.70      0.69       161\n",
      "           2       0.59      0.60      0.60       131\n",
      "           3       0.83      0.83      0.83       278\n",
      "\n",
      "    accuracy                           0.73       720\n",
      "   macro avg       0.71      0.70      0.70       720\n",
      "weighted avg       0.73      0.73      0.73       720\n",
      "\n"
     ]
    }
   ],
   "source": [
    "print(classification_report(y_test, grid_lr_elasticnet.predict(X_test_vectorized)))\n"
   ]
  },
  {
   "cell_type": "code",
   "execution_count": 120,
   "id": "474b03fe",
   "metadata": {},
   "outputs": [
    {
     "name": "stdout",
     "output_type": "stream",
     "text": [
      "              precision    recall  f1-score   support\n",
      "\n",
      "           0       0.71      0.69      0.70       150\n",
      "           1       0.69      0.66      0.68       161\n",
      "           2       0.61      0.60      0.61       131\n",
      "           3       0.80      0.83      0.81       278\n",
      "\n",
      "    accuracy                           0.72       720\n",
      "   macro avg       0.70      0.70      0.70       720\n",
      "weighted avg       0.72      0.72      0.72       720\n",
      "\n"
     ]
    }
   ],
   "source": [
    "print(classification_report(y_test, grid_lr_others.predict(X_test_vectorized)))"
   ]
  },
  {
   "cell_type": "code",
   "execution_count": 121,
   "id": "9adacadb",
   "metadata": {},
   "outputs": [
    {
     "data": {
      "image/png": "[encoded data removed]",
      "text/plain": [
       "<Figure size 640x480 with 2 Axes>"
      ]
     },
     "metadata": {},
     "output_type": "display_data"
    }
   ],
   "source": [
    "ConfusionMatrixDisplay.from_estimator(grid_lr_elasticnet.best_estimator_, X_test_vectorized, y_test)\n",
    "plt.show()"
   ]
  },
  {
   "cell_type": "code",
   "execution_count": 122,
   "id": "da262300",
   "metadata": {},
   "outputs": [
    {
     "data": {
      "image/png": "[encoded data removed]",
      "text/plain": [
       "<Figure size 640x480 with 2 Axes>"
      ]
     },
     "metadata": {},
     "output_type": "display_data"
    }
   ],
   "source": [
    "ConfusionMatrixDisplay.from_estimator(grid_lr_others.best_estimator_, X_test_vectorized, y_test)\n",
    "plt.show()"
   ]
  },
  {
   "cell_type": "markdown",
   "id": "4e0f3fce",
   "metadata": {},
   "source": [
    "SGDClassifier\n",
    "---"
   ]
  },
  {
   "cell_type": "code",
   "execution_count": 123,
   "id": "1de5cc83",
   "metadata": {},
   "outputs": [
    {
     "name": "stdout",
     "output_type": "stream",
     "text": [
      "Fitting 5 folds for each of 54 candidates, totalling 270 fits\n",
      "0.6913691538191858\n",
      "{'alpha': 0.0001, 'epsilon': 0.1, 'l1_ratio': 1.0, 'penalty': 'elasticnet', 'tol': 0.01}\n"
     ]
    }
   ],
   "source": [
    "from sklearn.linear_model import SGDClassifier\n",
    "grid_elasticnet = {\n",
    "    'penalty': ['elasticnet'],\n",
    "    'alpha': [1e-5, 1e-4, 1e-3],\n",
    "    'l1_ratio': [0.7, 0.9, 1.0],\n",
    "    'epsilon': [0.1, 0.3, 0.5],\n",
    "    'tol': [1e-3, 1e-2]\n",
    "}\n",
    "\n",
    "grid_others = {\n",
    "    'penalty': ['l1', 'l2'],\n",
    "    'alpha': [1e-5, 1e-4, 1e-3 , 1e-2 , 0.1],\n",
    "    'epsilon': [0.1, 0.3, 0.5],\n",
    "    'tol': [1e-3, 1e-2]\n",
    "}\n",
    "\n",
    "# 分別跑兩次 GridSearch，再比較最佳參數\n",
    "\n",
    "\n",
    "sgd_model = SGDClassifier(class_weight=\"balanced\", max_iter=1000 , random_state=42 )\n",
    "grid_sgd_elasticnet = GridSearchCV(\n",
    "    sgd_model, \n",
    "    grid_elasticnet, \n",
    "    cv=5, \n",
    "    scoring='f1_weighted' ,\n",
    "    verbose=1 , \n",
    "    n_jobs=-1\n",
    ")\n",
    "grid_sgd_elasticnet.fit(X_train_vectorized, y_train)\n",
    "\n",
    "print(grid_sgd_elasticnet.best_score_)\n",
    "print(grid_sgd_elasticnet.best_params_)"
   ]
  },
  {
   "cell_type": "code",
   "execution_count": 124,
   "id": "9573a3ba",
   "metadata": {},
   "outputs": [
    {
     "name": "stdout",
     "output_type": "stream",
     "text": [
      "Fitting 5 folds for each of 60 candidates, totalling 300 fits\n",
      "0.6951455871534835\n",
      "{'alpha': 0.001, 'epsilon': 0.1, 'penalty': 'l2', 'tol': 0.001}\n"
     ]
    }
   ],
   "source": [
    "grid_sgd_others= GridSearchCV(\n",
    "    sgd_model, \n",
    "    grid_others, \n",
    "    cv=5, \n",
    "    scoring='f1_weighted' ,\n",
    "    verbose=1 , \n",
    "    n_jobs=-1\n",
    ")\n",
    "grid_sgd_others.fit(X_train_vectorized, y_train)\n",
    "\n",
    "print(grid_sgd_others.best_score_)\n",
    "print(grid_sgd_others.best_params_)"
   ]
  },
  {
   "cell_type": "code",
   "execution_count": 125,
   "id": "b3bfc39a",
   "metadata": {},
   "outputs": [
    {
     "name": "stdout",
     "output_type": "stream",
     "text": [
      "elasticnet\n",
      "0.7013888888888888\n",
      "L1 L2\n",
      "0.7111111111111111\n"
     ]
    }
   ],
   "source": [
    "from sklearn.metrics import accuracy_score\n",
    "print(\"elasticnet\")\n",
    "print(accuracy_score(y_test, grid_sgd_elasticnet.predict(X_test_vectorized)))\n",
    "print(\"L1 L2\")\n",
    "print(accuracy_score(y_test, grid_sgd_others.predict(X_test_vectorized)))\n"
   ]
  },
  {
   "cell_type": "code",
   "execution_count": 126,
   "id": "75117b46",
   "metadata": {},
   "outputs": [
    {
     "name": "stdout",
     "output_type": "stream",
     "text": [
      "              precision    recall  f1-score   support\n",
      "\n",
      "           0       0.66      0.68      0.67       150\n",
      "           1       0.68      0.61      0.65       161\n",
      "           2       0.59      0.58      0.58       131\n",
      "           3       0.78      0.82      0.80       278\n",
      "\n",
      "    accuracy                           0.70       720\n",
      "   macro avg       0.68      0.67      0.68       720\n",
      "weighted avg       0.70      0.70      0.70       720\n",
      "\n"
     ]
    }
   ],
   "source": [
    "print(classification_report(y_test, grid_sgd_elasticnet.predict(X_test_vectorized)))"
   ]
  },
  {
   "cell_type": "code",
   "execution_count": 127,
   "id": "59034635",
   "metadata": {},
   "outputs": [
    {
     "name": "stdout",
     "output_type": "stream",
     "text": [
      "              precision    recall  f1-score   support\n",
      "\n",
      "           0       0.73      0.64      0.68       150\n",
      "           1       0.68      0.65      0.66       161\n",
      "           2       0.61      0.55      0.58       131\n",
      "           3       0.76      0.86      0.81       278\n",
      "\n",
      "    accuracy                           0.71       720\n",
      "   macro avg       0.69      0.67      0.68       720\n",
      "weighted avg       0.71      0.71      0.71       720\n",
      "\n"
     ]
    }
   ],
   "source": [
    "print(classification_report(y_test, grid_sgd_others.predict(X_test_vectorized)))"
   ]
  },
  {
   "cell_type": "code",
   "execution_count": 128,
   "id": "3dda11c0",
   "metadata": {},
   "outputs": [
    {
     "data": {
      "image/png": "[encoded data removed]",
      "text/plain": [
       "<Figure size 640x480 with 2 Axes>"
      ]
     },
     "metadata": {},
     "output_type": "display_data"
    }
   ],
   "source": [
    "ConfusionMatrixDisplay.from_estimator(grid_sgd_elasticnet.best_estimator_, X_test_vectorized, y_test)\n",
    "plt.show()"
   ]
  },
  {
   "cell_type": "code",
   "execution_count": 129,
   "id": "711b8bb6",
   "metadata": {},
   "outputs": [
    {
     "data": {
      "image/png": "[encoded data removed]",
      "text/plain": [
       "<Figure size 640x480 with 2 Axes>"
      ]
     },
     "metadata": {},
     "output_type": "display_data"
    }
   ],
   "source": [
    "ConfusionMatrixDisplay.from_estimator(grid_sgd_others.best_estimator_, X_test_vectorized, y_test)\n",
    "plt.show()"
   ]
  },
  {
   "cell_type": "markdown",
   "id": "1ff65459",
   "metadata": {},
   "source": [
    "RandomForestClassifier\n",
    "---"
   ]
  },
  {
   "cell_type": "code",
   "execution_count": 130,
   "id": "0c7d2f98",
   "metadata": {},
   "outputs": [
    {
     "name": "stdout",
     "output_type": "stream",
     "text": [
      "Fitting 5 folds for each of 72 candidates, totalling 360 fits\n",
      "0.6958605524123209\n",
      "{'class_weight': 'balanced', 'criterion': 'gini', 'min_samples_leaf': 2, 'min_samples_split': 2, 'n_estimators': 500}\n"
     ]
    }
   ],
   "source": [
    "from sklearn.ensemble import RandomForestClassifier\n",
    "\n",
    "rf_param_grid = {\n",
    "    'criterion': ['gini', 'entropy'],\n",
    "    'n_estimators': [150 ,200, 300 , 500],\n",
    "    'min_samples_split': [2, 5, 10],\n",
    "    'min_samples_leaf': [1, 2, 4],\n",
    "    'class_weight': ['balanced']\n",
    "}\n",
    "\n",
    "rf_model = RandomForestClassifier(class_weight=\"balanced\", random_state=42)\n",
    "grid_rf = GridSearchCV(\n",
    "    rf_model, \n",
    "    rf_param_grid, \n",
    "    cv=5, \n",
    "    scoring='f1_weighted' , \n",
    "    verbose=1, \n",
    "    n_jobs=-1\n",
    ")\n",
    "grid_rf.fit(X_train_vectorized, y_train)\n",
    "\n",
    "print(grid_rf.best_score_)\n",
    "print(grid_rf.best_params_)"
   ]
  },
  {
   "cell_type": "code",
   "execution_count": 131,
   "id": "38a55477",
   "metadata": {},
   "outputs": [
    {
     "data": {
      "text/plain": [
       "0.7180555555555556"
      ]
     },
     "execution_count": 131,
     "metadata": {},
     "output_type": "execute_result"
    }
   ],
   "source": [
    "from sklearn.metrics import accuracy_score\n",
    "accuracy_score(y_test, grid_rf.predict(X_test_vectorized))"
   ]
  },
  {
   "cell_type": "code",
   "execution_count": 132,
   "id": "f0f405de",
   "metadata": {},
   "outputs": [
    {
     "name": "stdout",
     "output_type": "stream",
     "text": [
      "              precision    recall  f1-score   support\n",
      "\n",
      "           0       0.70      0.65      0.68       150\n",
      "           1       0.64      0.65      0.64       161\n",
      "           2       0.60      0.63      0.61       131\n",
      "           3       0.83      0.83      0.83       278\n",
      "\n",
      "    accuracy                           0.72       720\n",
      "   macro avg       0.69      0.69      0.69       720\n",
      "weighted avg       0.72      0.72      0.72       720\n",
      "\n"
     ]
    }
   ],
   "source": [
    "print(classification_report(y_test, grid_rf.predict(X_test_vectorized)))"
   ]
  },
  {
   "cell_type": "code",
   "execution_count": 133,
   "id": "68e02e51",
   "metadata": {},
   "outputs": [
    {
     "data": {
      "image/png": "[encoded data removed]",
      "text/plain": [
       "<Figure size 640x480 with 2 Axes>"
      ]
     },
     "metadata": {},
     "output_type": "display_data"
    }
   ],
   "source": [
    "ConfusionMatrixDisplay.from_estimator(grid_rf.best_estimator_, X_test_vectorized, y_test)\n",
    "plt.show()"
   ]
  },
  {
   "cell_type": "markdown",
   "id": "0902519c",
   "metadata": {},
   "source": [
    "交叉驗證-2\n",
    "---"
   ]
  },
  {
   "cell_type": "code",
   "execution_count": 139,
   "id": "2888c069",
   "metadata": {},
   "outputs": [
    {
     "name": "stdout",
     "output_type": "stream",
     "text": [
      "每類別正確率平均\t解決類別不平衡的 accuracy\n",
      "balanced_accuracy\n",
      "0.68\n",
      "0.7\n",
      "0.69\n",
      "0.67\n",
      "0.67\n",
      "0.68\n"
     ]
    }
   ],
   "source": [
    "models = [\n",
    "            grid_svc.best_estimator_, \n",
    "            grid_lr_elasticnet.best_estimator_,\n",
    "            grid_lr_others.best_estimator_, \n",
    "            grid_sgd_elasticnet.best_estimator_,\n",
    "            grid_sgd_others.best_estimator_,\n",
    "            grid_rf.best_estimator_\n",
    "        ]\n",
    "print(\"每類別正確率平均\t解決類別不平衡的 accuracy\")\n",
    "print(\"balanced_accuracy\")\n",
    "for model in models:\n",
    "    print(round(cross_val_score(model, X_train_vectorized, y_train, scoring='balanced_accuracy', cv=5).mean() , 2))"
   ]
  },
  {
   "cell_type": "markdown",
   "id": "48e132be",
   "metadata": {},
   "source": [
    "predicted_topic"
   ]
  },
  {
   "cell_type": "code",
   "execution_count": 140,
   "id": "b523256b",
   "metadata": {},
   "outputs": [
    {
     "name": "stdout",
     "output_type": "stream",
     "text": [
      "LinearSVC accuracy: 0.71\n",
      "LogisticRegression accuracy: 0.73\n",
      "LogisticRegression accuracy: 0.72\n",
      "SGDClassifier accuracy: 0.7\n",
      "SGDClassifier accuracy: 0.71\n",
      "RandomForestClassifier accuracy: 0.72\n"
     ]
    }
   ],
   "source": [
    "# 使用所有模型對 X_test_vectorized 進行預測並顯示準確率\n",
    "from sklearn.metrics import accuracy_score\n",
    "for model in models:\n",
    "    y_pred = model.predict(X_test_vectorized)\n",
    "    print(f\"{model.__class__.__name__} accuracy: {round(accuracy_score( y_test,y_pred ),2)}\")"
   ]
  },
  {
   "cell_type": "markdown",
   "id": "221098bb",
   "metadata": {},
   "source": [
    "# Ensemble Voting Soft Voting\n"
   ]
  },
  {
   "cell_type": "code",
   "execution_count": 228,
   "id": "d02579e7",
   "metadata": {},
   "outputs": [],
   "source": [
    "from sklearn.ensemble import VotingClassifier\n",
    "from sklearn.calibration import CalibratedClassifierCV\n",
    "# 經過超參數搜尋的最佳模型\n",
    "# grid_svc.best_estimator_ #不支援 `predict_proba`\n",
    "# grid_lr_elasticnet.best_estimator_\n",
    "# grid_lr_others.best_estimator_\n",
    "# grid_sgd_elasticnet.best_estimator_#不支援 `predict_proba`\n",
    "# grid_sgd_others.best_estimator_#不支援 `predict_proba`\n",
    "# grid_rf.best_estimator_\n",
    "\n",
    "\n",
    "estimators = [\n",
    "    ('lr_elasticnet', grid_lr_elasticnet.best_estimator_),\n",
    "    ('lr_others', grid_lr_others.best_estimator_),\n",
    "    ('rf', grid_rf.best_estimator_)\n",
    "]\n",
    "\n",
    "weights = [1,3,2]\n",
    "\n",
    "soft_voting_clf = VotingClassifier(\n",
    "    estimators=estimators,\n",
    "    voting='soft',\n",
    "    weights=weights,\n",
    "    n_jobs=-1\n",
    ")\n",
    "\n",
    "# 訓練投票分類器\n",
    "soft_voting_clf .fit(X_train_vectorized , y_train)\n",
    "# 進行預測\n",
    "y_pred_soft_voting = soft_voting_clf .predict(X_test_vectorized)\n",
    "\n"
   ]
  },
  {
   "cell_type": "code",
   "execution_count": 229,
   "id": "b1e106a0",
   "metadata": {},
   "outputs": [
    {
     "name": "stdout",
     "output_type": "stream",
     "text": [
      "軟式投票融合模型準確率: 0.7333333333333333\n",
      "軟式投票融合模型分類報告:\n",
      "               precision    recall  f1-score   support\n",
      "\n",
      "           0       0.73      0.69      0.71       150\n",
      "           1       0.70      0.70      0.70       161\n",
      "           2       0.61      0.60      0.60       131\n",
      "           3       0.81      0.85      0.83       278\n",
      "\n",
      "    accuracy                           0.73       720\n",
      "   macro avg       0.71      0.71      0.71       720\n",
      "weighted avg       0.73      0.73      0.73       720\n",
      "\n"
     ]
    },
    {
     "data": {
      "image/png": "[encoded data removed]",
      "text/plain": [
       "<Figure size 640x480 with 2 Axes>"
      ]
     },
     "metadata": {},
     "output_type": "display_data"
    }
   ],
   "source": [
    "# 評估結果\n",
    "from sklearn.metrics import classification_report, accuracy_score\n",
    "print(\"軟式投票融合模型準確率:\", accuracy_score(y_test, y_pred_soft_voting))\n",
    "print(\"軟式投票融合模型分類報告:\\n\", classification_report(y_test, y_pred_soft_voting))\n",
    "ConfusionMatrixDisplay.from_predictions(y_test, y_pred_soft_voting)\n",
    "plt.show()"
   ]
  },
  {
   "cell_type": "markdown",
   "id": "f0321286",
   "metadata": {},
   "source": [
    "# Test  - Soft Voting - predict"
   ]
  },
  {
   "cell_type": "code",
   "execution_count": null,
   "id": "d8cdd751",
   "metadata": {},
   "outputs": [
    {
     "name": "stdout",
     "output_type": "stream",
     "text": [
      "              precision    recall  f1-score   support\n",
      "\n",
      "           0       0.83      0.82      0.83       748\n",
      "           1       0.83      0.85      0.84       808\n",
      "           2       0.80      0.81      0.81       654\n",
      "           3       0.89      0.87      0.88      1390\n",
      "\n",
      "    accuracy                           0.85      3600\n",
      "   macro avg       0.84      0.84      0.84      3600\n",
      "weighted avg       0.85      0.85      0.85      3600\n",
      "\n"
     ]
    }
   ],
   "source": [
    "from gensim import matutils\n",
    "import numpy as np\n",
    "from sklearn.metrics import classification_report\n",
    "from nlprocess import normalize_spacy\n",
    "# 使用軟式投票融合模型對全部資料進行預測\n",
    "# 先將所有文本轉換為向量\n",
    "all_texts = [normalize_spacy(text, nlp) for text in ddf[\"text\"]]\n",
    "all_bow = [dictionary.doc2bow(text) for text in all_texts]\n",
    "all_tfidf = [tfidf_model[doc] for doc in all_bow]\n",
    "\n",
    "\n",
    "def bow_to_dense(corpus, dictionary):\n",
    "    return np.array([\n",
    "        matutils.corpus2dense([bow], num_terms=len(dictionary)).T[0]\n",
    "        for bow in corpus\n",
    "    ])\n",
    "\n",
    "all_vectorized = bow_to_dense(all_tfidf, dictionary)\n",
    "\n",
    "# 預測\n",
    "all_pred = soft_voting_clf.predict(all_vectorized)\n",
    "\n",
    "# 輸出總結報告\n",
    "print(classification_report(ddf[\"topic\"], all_pred))"
   ]
  },
  {
   "cell_type": "markdown",
   "id": "902d3eb9",
   "metadata": {},
   "source": [
    "# model save"
   ]
  },
  {
   "cell_type": "code",
   "execution_count": null,
   "id": "c3b43a66",
   "metadata": {},
   "outputs": [
    {
     "data": {
      "text/plain": [
       "['finial_model/random_forest.joblib']"
      ]
     },
     "execution_count": 233,
     "metadata": {},
     "output_type": "execute_result"
    }
   ],
   "source": [
    "import joblib\n",
    "import os\n",
    "os.makedirs(\"finial_model\", exist_ok=True)\n",
    "# 保存軟式投票融合模型\n",
    "joblib.dump(soft_voting_clf, \"finial_model/soft_voting_clf.joblib\")\n",
    "\n",
    "# 保存詞典和tfidf模型\n",
    "dictionary.save(\"finial_model/dictionary.dict\")\n",
    "tfidf_model.save(\"finial_model/tfidf_model.tfidf\")\n",
    "\n",
    "# 保存LDA主題模型\n",
    "lda_model.save(\"finial_model/lda_model.gensim\")\n",
    "\n",
    "# # 保存最佳參數的單一模型（如有需要）\n",
    "# joblib.dump(grid_lr_elasticnet.best_estimator_, \"finial_model/logreg_elasticnet.joblib\")\n",
    "# joblib.dump(grid_lr_others.best_estimator_, \"finial_model/logreg_others.joblib\")\n",
    "# joblib.dump(grid_rf.best_estimator_, \"finial_model/random_forest.joblib\")"
   ]
  }
 ],
 "metadata": {
  "kernelspec": {
   "display_name": ".venv",
   "language": "python",
   "name": "python3"
  },
  "language_info": {
   "codemirror_mode": {
    "name": "ipython",
    "version": 3
   },
   "file_extension": ".py",
   "mimetype": "text/x-python",
   "name": "python",
   "nbconvert_exporter": "python",
   "pygments_lexer": "ipython3",
   "version": "3.12.7"
  }
 },
 "nbformat": 4,
 "nbformat_minor": 5
}
