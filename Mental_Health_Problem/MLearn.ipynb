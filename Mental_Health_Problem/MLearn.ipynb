{
 "cells": [
  {
   "cell_type": "code",
   "execution_count": null,
   "id": "b9b77b54",
   "metadata": {},
   "outputs": [
    {
     "name": "stderr",
     "output_type": "stream",
     "text": [
      "c:\\Users\\user\\Downloads\\Program_project_py\\ML\\.venv\\Lib\\site-packages\\tqdm\\auto.py:21: TqdmWarning: IProgress not found. Please update jupyter and ipywidgets. See https://ipywidgets.readthedocs.io/en/stable/user_install.html\n",
      "  from .autonotebook import tqdm as notebook_tqdm\n"
     ]
    },
    {
     "name": "stdout",
     "output_type": "stream",
     "text": [
      "Path to dataset files: C:\\Users\\user\\.cache\\kagglehub\\datasets\\xinwangcs\\stressor-cause-of-mental-health-problem-dataset\\versions\\1\n"
     ]
    }
   ],
   "source": [
    "import kagglehub\n",
    "# Download latest version\n",
    "path = kagglehub.dataset_download(\"xinwangcs/stressor-cause-of-mental-health-problem-dataset\")\n",
    "#print(path)"
   ]
  },
  {
   "cell_type": "code",
   "execution_count": null,
   "id": "08e7b8d4",
   "metadata": {},
   "outputs": [],
   "source": [
    "import os\n",
    "import numpy as np\n",
    "import pandas as pd\n",
    "import matplotlib.pyplot as plt\n",
    "FILES = []\n",
    "for file in os.listdir(path):\n",
    "    if file.endswith(\".json\"):\n",
    "        PATH = os.path.join(path, file)\n",
    "        FILES.append(PATH )\n",
    "#print(\"Files in dataset:\", FILES)\n",
    "\n"
   ]
  },
  {
   "cell_type": "code",
   "execution_count": 4,
   "id": "070eddce",
   "metadata": {},
   "outputs": [
    {
     "data": {
      "text/html": [
       "<div>\n",
       "<style scoped>\n",
       "    .dataframe tbody tr th:only-of-type {\n",
       "        vertical-align: middle;\n",
       "    }\n",
       "\n",
       "    .dataframe tbody tr th {\n",
       "        vertical-align: top;\n",
       "    }\n",
       "\n",
       "    .dataframe thead th {\n",
       "        text-align: right;\n",
       "    }\n",
       "</style>\n",
       "<table border=\"1\" class=\"dataframe\">\n",
       "  <thead>\n",
       "    <tr style=\"text-align: right;\">\n",
       "      <th></th>\n",
       "      <th>text</th>\n",
       "      <th>stressor_class</th>\n",
       "      <th>stressor_word</th>\n",
       "      <th>interval</th>\n",
       "    </tr>\n",
       "  </thead>\n",
       "  <tbody>\n",
       "    <tr>\n",
       "      <th>0</th>\n",
       "      <td>Why are there always trivial matters in life t...</td>\n",
       "      <td>T1</td>\n",
       "      <td>financial</td>\n",
       "      <td>8</td>\n",
       "    </tr>\n",
       "    <tr>\n",
       "      <th>1</th>\n",
       "      <td>After celebrating my 21st birthday, I truly fe...</td>\n",
       "      <td>T1</td>\n",
       "      <td>urged to marry</td>\n",
       "      <td>8</td>\n",
       "    </tr>\n",
       "    <tr>\n",
       "      <th>2</th>\n",
       "      <td>In the coming March, my work pressure will be ...</td>\n",
       "      <td>T1</td>\n",
       "      <td>work</td>\n",
       "      <td>8</td>\n",
       "    </tr>\n",
       "    <tr>\n",
       "      <th>3</th>\n",
       "      <td>Indeed, the pressure of writing papers now is ...</td>\n",
       "      <td>T1</td>\n",
       "      <td>papers</td>\n",
       "      <td>8</td>\n",
       "    </tr>\n",
       "    <tr>\n",
       "      <th>4</th>\n",
       "      <td>I can't learn it anymore, so let's just give u...</td>\n",
       "      <td>T1</td>\n",
       "      <td>can't learn it</td>\n",
       "      <td>8</td>\n",
       "    </tr>\n",
       "  </tbody>\n",
       "</table>\n",
       "</div>"
      ],
      "text/plain": [
       "                                                text stressor_class  \\\n",
       "0  Why are there always trivial matters in life t...             T1   \n",
       "1  After celebrating my 21st birthday, I truly fe...             T1   \n",
       "2  In the coming March, my work pressure will be ...             T1   \n",
       "3  Indeed, the pressure of writing papers now is ...             T1   \n",
       "4  I can't learn it anymore, so let's just give u...             T1   \n",
       "\n",
       "    stressor_word  interval  \n",
       "0       financial         8  \n",
       "1  urged to marry         8  \n",
       "2            work         8  \n",
       "3          papers         8  \n",
       "4  can't learn it         8  "
      ]
     },
     "execution_count": 4,
     "metadata": {},
     "output_type": "execute_result"
    }
   ],
   "source": [
    "from nlprocess import load_data2dataframe\n",
    "\n",
    "dataframes = [load_data2dataframe(f) for f in FILES]\n",
    "df = pd.concat(dataframes, ignore_index=True)\n",
    "df.head()"
   ]
  },
  {
   "cell_type": "code",
   "execution_count": 5,
   "id": "f57249dc",
   "metadata": {},
   "outputs": [
    {
     "data": {
      "text/plain": [
       "text              0\n",
       "stressor_class    0\n",
       "stressor_word     0\n",
       "interval          0\n",
       "dtype: int64"
      ]
     },
     "execution_count": 5,
     "metadata": {},
     "output_type": "execute_result"
    }
   ],
   "source": [
    "df.dropna(inplace=True)\n",
    "df.isna().sum()"
   ]
  },
  {
   "cell_type": "code",
   "execution_count": 6,
   "id": "8a650a10",
   "metadata": {},
   "outputs": [
    {
     "name": "stderr",
     "output_type": "stream",
     "text": [
      "Normalizing: 100%|██████████| 3985/3985 [00:14<00:00, 272.34it/s]\n",
      "Building BOW Corpus: 100%|██████████| 3885/3885 [00:00<00:00, 993165.79it/s]\n"
     ]
    }
   ],
   "source": [
    "from nlprocess import normalize_spacy\n",
    "from nlprocess import to_corpus\n",
    "import spacy\n",
    "nlp = spacy.load(\"en_core_web_sm\") \n",
    "Dict = to_corpus(df, \"stressor_word\", \"bow\" , nlp = nlp)"
   ]
  },
  {
   "cell_type": "markdown",
   "id": "00bb7c17",
   "metadata": {},
   "source": [
    "計算最佳主題數 4群 泛化能力稍佳\n",
    "---"
   ]
  },
  {
   "cell_type": "code",
   "execution_count": 8,
   "id": "6c9d6b12",
   "metadata": {},
   "outputs": [],
   "source": [
    "ddf , texts ,dictionary ,corpus = Dict[\"df\"], Dict[\"texts\"], Dict[\"dictionary\"], Dict[\"corpus\"]"
   ]
  },
  {
   "cell_type": "code",
   "execution_count": 9,
   "id": "1bd4b3b8",
   "metadata": {},
   "outputs": [
    {
     "name": "stderr",
     "output_type": "stream",
     "text": [
      "Training LDA models: 100%|██████████| 9/9 [01:01<00:00,  6.88s/it]\n",
      "Training LDA models: 100%|██████████| 9/9 [01:06<00:00,  7.35s/it]s/it]\n",
      "Training LDA models: 100%|██████████| 9/9 [01:06<00:00,  7.42s/it]s/it]\n",
      "Training LDA models: 100%|██████████| 9/9 [01:07<00:00,  7.53s/it]s/it]\n",
      "Training LDA models: 100%|██████████| 9/9 [01:09<00:00,  7.70s/it]s/it]\n",
      "Running coherence scores: 100%|██████████| 5/5 [05:31<00:00, 66.40s/it]\n"
     ]
    }
   ],
   "source": [
    "from find_best_number_of_topic import score_coherence\n",
    "avg_values = score_coherence(dictionary , corpus, texts, \"c_v\", start=2, limit=10, num_runs=5, alpha='auto', eta='auto', passes=10)"
   ]
  },
  {
   "cell_type": "code",
   "execution_count": 12,
   "id": "cf7a492d",
   "metadata": {},
   "outputs": [
    {
     "data": {
      "image/png": "[encoded data removed]",
      "text/plain": [
       "<Figure size 640x480 with 1 Axes>"
      ]
     },
     "metadata": {},
     "output_type": "display_data"
    }
   ],
   "source": [
    "\n",
    "x = range(2,11)\n",
    "plt.plot(x, np.mean(avg_values , axis=0))\n",
    "plt.title(\"Optimal Number of Topics\")\n",
    "plt.grid(axis=\"x\" , linestyle='--')\n",
    "plt.xlabel(\"Number of Topics\")\n",
    "plt.ylabel(\"Coherence Score\")\n",
    "plt.show()"
   ]
  },
  {
   "cell_type": "markdown",
   "id": "2747ba29",
   "metadata": {},
   "source": [
    "模型建立-進行主題分群\n",
    "---"
   ]
  },
  {
   "cell_type": "markdown",
   "id": "64ba291e",
   "metadata": {},
   "source": [
    "load model\n",
    "---"
   ]
  },
  {
   "cell_type": "code",
   "execution_count": null,
   "id": "f44438af",
   "metadata": {},
   "outputs": [
    {
     "ename": "FileNotFoundError",
     "evalue": "[Errno 2] No such file or directory: 'lda_model_4topics_best_model.model'",
     "output_type": "error",
     "traceback": [
      "\u001b[31m---------------------------------------------------------------------------\u001b[39m",
      "\u001b[31mFileNotFoundError\u001b[39m                         Traceback (most recent call last)",
      "\u001b[36mCell\u001b[39m\u001b[36m \u001b[39m\u001b[32mIn[86]\u001b[39m\u001b[32m, line 3\u001b[39m\n\u001b[32m      1\u001b[39m \u001b[38;5;66;03m# 讀取模型\u001b[39;00m\n\u001b[32m      2\u001b[39m \u001b[38;5;28;01mfrom\u001b[39;00m\u001b[38;5;250m \u001b[39m\u001b[34;01mgensim\u001b[39;00m\u001b[34;01m.\u001b[39;00m\u001b[34;01mmodels\u001b[39;00m\u001b[38;5;250m \u001b[39m\u001b[38;5;28;01mimport\u001b[39;00m LdaModel\n\u001b[32m----> \u001b[39m\u001b[32m3\u001b[39m lda_model = \u001b[43mLdaModel\u001b[49m\u001b[43m.\u001b[49m\u001b[43mload\u001b[49m\u001b[43m(\u001b[49m\u001b[33;43m\"\u001b[39;49m\u001b[33;43mlda_model_4topics_best_model.model\u001b[39;49m\u001b[33;43m\"\u001b[39;49m\u001b[43m)\u001b[49m\n\u001b[32m      4\u001b[39m \u001b[38;5;66;03m# 取得每筆資料的主題分佈\u001b[39;00m\n\u001b[32m      5\u001b[39m topic_distributions = [lda_model.get_document_topics(bow) \u001b[38;5;28;01mfor\u001b[39;00m bow \u001b[38;5;129;01min\u001b[39;00m corpus]\n",
      "\u001b[36mFile \u001b[39m\u001b[32mc:\\Users\\user\\Downloads\\Program_project_py\\ML\\.venv\\Lib\\site-packages\\gensim\\models\\ldamodel.py:1663\u001b[39m, in \u001b[36mLdaModel.load\u001b[39m\u001b[34m(cls, fname, *args, **kwargs)\u001b[39m\n\u001b[32m   1634\u001b[39m \u001b[38;5;250m\u001b[39m\u001b[33;03m\"\"\"Load a previously saved :class:`gensim.models.ldamodel.LdaModel` from file.\u001b[39;00m\n\u001b[32m   1635\u001b[39m \n\u001b[32m   1636\u001b[39m \u001b[33;03mSee Also\u001b[39;00m\n\u001b[32m   (...)\u001b[39m\u001b[32m   1660\u001b[39m \n\u001b[32m   1661\u001b[39m \u001b[33;03m\"\"\"\u001b[39;00m\n\u001b[32m   1662\u001b[39m kwargs[\u001b[33m'\u001b[39m\u001b[33mmmap\u001b[39m\u001b[33m'\u001b[39m] = kwargs.get(\u001b[33m'\u001b[39m\u001b[33mmmap\u001b[39m\u001b[33m'\u001b[39m, \u001b[38;5;28;01mNone\u001b[39;00m)\n\u001b[32m-> \u001b[39m\u001b[32m1663\u001b[39m result = \u001b[38;5;28;43msuper\u001b[39;49m\u001b[43m(\u001b[49m\u001b[43mLdaModel\u001b[49m\u001b[43m,\u001b[49m\u001b[43m \u001b[49m\u001b[38;5;28;43mcls\u001b[39;49m\u001b[43m)\u001b[49m\u001b[43m.\u001b[49m\u001b[43mload\u001b[49m\u001b[43m(\u001b[49m\u001b[43mfname\u001b[49m\u001b[43m,\u001b[49m\u001b[43m \u001b[49m\u001b[43m*\u001b[49m\u001b[43margs\u001b[49m\u001b[43m,\u001b[49m\u001b[43m \u001b[49m\u001b[43m*\u001b[49m\u001b[43m*\u001b[49m\u001b[43mkwargs\u001b[49m\u001b[43m)\u001b[49m\n\u001b[32m   1665\u001b[39m \u001b[38;5;66;03m# check if `random_state` attribute has been set after main pickle load\u001b[39;00m\n\u001b[32m   1666\u001b[39m \u001b[38;5;66;03m# if set -> the model to be loaded was saved using a >= 0.13.2 version of Gensim\u001b[39;00m\n\u001b[32m   1667\u001b[39m \u001b[38;5;66;03m# if not set -> the model to be loaded was saved using a < 0.13.2 version of Gensim,\u001b[39;00m\n\u001b[32m   1668\u001b[39m \u001b[38;5;66;03m# so set `random_state` as the default value\u001b[39;00m\n\u001b[32m   1669\u001b[39m \u001b[38;5;28;01mif\u001b[39;00m \u001b[38;5;129;01mnot\u001b[39;00m \u001b[38;5;28mhasattr\u001b[39m(result, \u001b[33m'\u001b[39m\u001b[33mrandom_state\u001b[39m\u001b[33m'\u001b[39m):\n",
      "\u001b[36mFile \u001b[39m\u001b[32mc:\\Users\\user\\Downloads\\Program_project_py\\ML\\.venv\\Lib\\site-packages\\gensim\\utils.py:485\u001b[39m, in \u001b[36mSaveLoad.load\u001b[39m\u001b[34m(cls, fname, mmap)\u001b[39m\n\u001b[32m    481\u001b[39m logger.info(\u001b[33m\"\u001b[39m\u001b[33mloading \u001b[39m\u001b[38;5;132;01m%s\u001b[39;00m\u001b[33m object from \u001b[39m\u001b[38;5;132;01m%s\u001b[39;00m\u001b[33m\"\u001b[39m, \u001b[38;5;28mcls\u001b[39m.\u001b[34m__name__\u001b[39m, fname)\n\u001b[32m    483\u001b[39m compress, subname = SaveLoad._adapt_by_suffix(fname)\n\u001b[32m--> \u001b[39m\u001b[32m485\u001b[39m obj = \u001b[43munpickle\u001b[49m\u001b[43m(\u001b[49m\u001b[43mfname\u001b[49m\u001b[43m)\u001b[49m\n\u001b[32m    486\u001b[39m obj._load_specials(fname, mmap, compress, subname)\n\u001b[32m    487\u001b[39m obj.add_lifecycle_event(\u001b[33m\"\u001b[39m\u001b[33mloaded\u001b[39m\u001b[33m\"\u001b[39m, fname=fname)\n",
      "\u001b[36mFile \u001b[39m\u001b[32mc:\\Users\\user\\Downloads\\Program_project_py\\ML\\.venv\\Lib\\site-packages\\gensim\\utils.py:1459\u001b[39m, in \u001b[36munpickle\u001b[39m\u001b[34m(fname)\u001b[39m\n\u001b[32m   1445\u001b[39m \u001b[38;5;28;01mdef\u001b[39;00m\u001b[38;5;250m \u001b[39m\u001b[34munpickle\u001b[39m(fname):\n\u001b[32m   1446\u001b[39m \u001b[38;5;250m    \u001b[39m\u001b[33;03m\"\"\"Load object from `fname`, using smart_open so that `fname` can be on S3, HDFS, compressed etc.\u001b[39;00m\n\u001b[32m   1447\u001b[39m \n\u001b[32m   1448\u001b[39m \u001b[33;03m    Parameters\u001b[39;00m\n\u001b[32m   (...)\u001b[39m\u001b[32m   1457\u001b[39m \n\u001b[32m   1458\u001b[39m \u001b[33;03m    \"\"\"\u001b[39;00m\n\u001b[32m-> \u001b[39m\u001b[32m1459\u001b[39m     \u001b[38;5;28;01mwith\u001b[39;00m \u001b[38;5;28;43mopen\u001b[39;49m\u001b[43m(\u001b[49m\u001b[43mfname\u001b[49m\u001b[43m,\u001b[49m\u001b[43m \u001b[49m\u001b[33;43m'\u001b[39;49m\u001b[33;43mrb\u001b[39;49m\u001b[33;43m'\u001b[39;49m\u001b[43m)\u001b[49m \u001b[38;5;28;01mas\u001b[39;00m f:\n\u001b[32m   1460\u001b[39m         \u001b[38;5;28;01mreturn\u001b[39;00m _pickle.load(f, encoding=\u001b[33m'\u001b[39m\u001b[33mlatin1\u001b[39m\u001b[33m'\u001b[39m)\n",
      "\u001b[36mFile \u001b[39m\u001b[32mc:\\Users\\user\\Downloads\\Program_project_py\\ML\\.venv\\Lib\\site-packages\\smart_open\\smart_open_lib.py:177\u001b[39m, in \u001b[36mopen\u001b[39m\u001b[34m(uri, mode, buffering, encoding, errors, newline, closefd, opener, compression, transport_params)\u001b[39m\n\u001b[32m    174\u001b[39m \u001b[38;5;28;01mif\u001b[39;00m transport_params \u001b[38;5;129;01mis\u001b[39;00m \u001b[38;5;28;01mNone\u001b[39;00m:\n\u001b[32m    175\u001b[39m     transport_params = {}\n\u001b[32m--> \u001b[39m\u001b[32m177\u001b[39m fobj = \u001b[43m_shortcut_open\u001b[49m\u001b[43m(\u001b[49m\n\u001b[32m    178\u001b[39m \u001b[43m    \u001b[49m\u001b[43muri\u001b[49m\u001b[43m,\u001b[49m\n\u001b[32m    179\u001b[39m \u001b[43m    \u001b[49m\u001b[43mmode\u001b[49m\u001b[43m,\u001b[49m\n\u001b[32m    180\u001b[39m \u001b[43m    \u001b[49m\u001b[43mcompression\u001b[49m\u001b[43m=\u001b[49m\u001b[43mcompression\u001b[49m\u001b[43m,\u001b[49m\n\u001b[32m    181\u001b[39m \u001b[43m    \u001b[49m\u001b[43mbuffering\u001b[49m\u001b[43m=\u001b[49m\u001b[43mbuffering\u001b[49m\u001b[43m,\u001b[49m\n\u001b[32m    182\u001b[39m \u001b[43m    \u001b[49m\u001b[43mencoding\u001b[49m\u001b[43m=\u001b[49m\u001b[43mencoding\u001b[49m\u001b[43m,\u001b[49m\n\u001b[32m    183\u001b[39m \u001b[43m    \u001b[49m\u001b[43merrors\u001b[49m\u001b[43m=\u001b[49m\u001b[43merrors\u001b[49m\u001b[43m,\u001b[49m\n\u001b[32m    184\u001b[39m \u001b[43m    \u001b[49m\u001b[43mnewline\u001b[49m\u001b[43m=\u001b[49m\u001b[43mnewline\u001b[49m\u001b[43m,\u001b[49m\n\u001b[32m    185\u001b[39m \u001b[43m\u001b[49m\u001b[43m)\u001b[49m\n\u001b[32m    186\u001b[39m \u001b[38;5;28;01mif\u001b[39;00m fobj \u001b[38;5;129;01mis\u001b[39;00m \u001b[38;5;129;01mnot\u001b[39;00m \u001b[38;5;28;01mNone\u001b[39;00m:\n\u001b[32m    187\u001b[39m     \u001b[38;5;28;01mreturn\u001b[39;00m fobj\n",
      "\u001b[36mFile \u001b[39m\u001b[32mc:\\Users\\user\\Downloads\\Program_project_py\\ML\\.venv\\Lib\\site-packages\\smart_open\\smart_open_lib.py:375\u001b[39m, in \u001b[36m_shortcut_open\u001b[39m\u001b[34m(uri, mode, compression, buffering, encoding, errors, newline)\u001b[39m\n\u001b[32m    372\u001b[39m \u001b[38;5;28;01mif\u001b[39;00m errors \u001b[38;5;129;01mand\u001b[39;00m \u001b[33m'\u001b[39m\u001b[33mb\u001b[39m\u001b[33m'\u001b[39m \u001b[38;5;129;01mnot\u001b[39;00m \u001b[38;5;129;01min\u001b[39;00m mode:\n\u001b[32m    373\u001b[39m     open_kwargs[\u001b[33m'\u001b[39m\u001b[33merrors\u001b[39m\u001b[33m'\u001b[39m] = errors\n\u001b[32m--> \u001b[39m\u001b[32m375\u001b[39m \u001b[38;5;28;01mreturn\u001b[39;00m \u001b[43m_builtin_open\u001b[49m\u001b[43m(\u001b[49m\u001b[43mlocal_path\u001b[49m\u001b[43m,\u001b[49m\u001b[43m \u001b[49m\u001b[43mmode\u001b[49m\u001b[43m,\u001b[49m\u001b[43m \u001b[49m\u001b[43mbuffering\u001b[49m\u001b[43m=\u001b[49m\u001b[43mbuffering\u001b[49m\u001b[43m,\u001b[49m\u001b[43m \u001b[49m\u001b[43m*\u001b[49m\u001b[43m*\u001b[49m\u001b[43mopen_kwargs\u001b[49m\u001b[43m)\u001b[49m\n",
      "\u001b[31mFileNotFoundError\u001b[39m: [Errno 2] No such file or directory: 'lda_model_4topics_best_model.model'"
     ]
    }
   ],
   "source": [
    "# 讀取模型\n",
    "from gensim.models import LdaModel\n",
    "lda_model = LdaModel.load(\"LDA/topics_4_best_model.model\")\n",
    "# 取得每筆資料的主題分佈\n",
    "topic_distributions = [lda_model.get_document_topics(bow) for bow in corpus]\n",
    "\n",
    "# 取最大主題編號作為群標籤\n",
    "topic_labels = [max(dist, key=lambda x: x[1])[0] for dist in topic_distributions]"
   ]
  },
  {
   "cell_type": "code",
   "execution_count": null,
   "id": "795f4a6f",
   "metadata": {},
   "outputs": [
    {
     "data": {
      "text/html": [
       "<div>\n",
       "<style scoped>\n",
       "    .dataframe tbody tr th:only-of-type {\n",
       "        vertical-align: middle;\n",
       "    }\n",
       "\n",
       "    .dataframe tbody tr th {\n",
       "        vertical-align: top;\n",
       "    }\n",
       "\n",
       "    .dataframe thead th {\n",
       "        text-align: right;\n",
       "    }\n",
       "</style>\n",
       "<table border=\"1\" class=\"dataframe\">\n",
       "  <thead>\n",
       "    <tr style=\"text-align: right;\">\n",
       "      <th></th>\n",
       "      <th>text</th>\n",
       "      <th>stressor_class</th>\n",
       "      <th>stressor_word</th>\n",
       "      <th>interval</th>\n",
       "      <th>normalized</th>\n",
       "      <th>topic</th>\n",
       "    </tr>\n",
       "  </thead>\n",
       "  <tbody>\n",
       "    <tr>\n",
       "      <th>0</th>\n",
       "      <td>Why are there always trivial matters in life t...</td>\n",
       "      <td>T1</td>\n",
       "      <td>financial</td>\n",
       "      <td>8</td>\n",
       "      <td>[financial]</td>\n",
       "      <td>0</td>\n",
       "    </tr>\n",
       "    <tr>\n",
       "      <th>1</th>\n",
       "      <td>After celebrating my 21st birthday, I truly fe...</td>\n",
       "      <td>T1</td>\n",
       "      <td>urged to marry</td>\n",
       "      <td>8</td>\n",
       "      <td>[urge, marry]</td>\n",
       "      <td>1</td>\n",
       "    </tr>\n",
       "    <tr>\n",
       "      <th>2</th>\n",
       "      <td>In the coming March, my work pressure will be ...</td>\n",
       "      <td>T1</td>\n",
       "      <td>work</td>\n",
       "      <td>8</td>\n",
       "      <td>[work]</td>\n",
       "      <td>2</td>\n",
       "    </tr>\n",
       "    <tr>\n",
       "      <th>3</th>\n",
       "      <td>Indeed, the pressure of writing papers now is ...</td>\n",
       "      <td>T1</td>\n",
       "      <td>papers</td>\n",
       "      <td>8</td>\n",
       "      <td>[paper]</td>\n",
       "      <td>0</td>\n",
       "    </tr>\n",
       "    <tr>\n",
       "      <th>4</th>\n",
       "      <td>I can't learn it anymore, so let's just give u...</td>\n",
       "      <td>T1</td>\n",
       "      <td>can't learn it</td>\n",
       "      <td>8</td>\n",
       "      <td>[learn]</td>\n",
       "      <td>1</td>\n",
       "    </tr>\n",
       "    <tr>\n",
       "      <th>5</th>\n",
       "      <td>Staying up late is irreparable damage. I've st...</td>\n",
       "      <td>T1</td>\n",
       "      <td>learn</td>\n",
       "      <td>8</td>\n",
       "      <td>[learn]</td>\n",
       "      <td>1</td>\n",
       "    </tr>\n",
       "    <tr>\n",
       "      <th>6</th>\n",
       "      <td>Watching decompressing videos on Douyin increa...</td>\n",
       "      <td>T1</td>\n",
       "      <td>decompressing videos</td>\n",
       "      <td>8</td>\n",
       "      <td>[decompress, video]</td>\n",
       "      <td>1</td>\n",
       "    </tr>\n",
       "    <tr>\n",
       "      <th>7</th>\n",
       "      <td>The pressure from scrolling through Xiaohongsh...</td>\n",
       "      <td>T1</td>\n",
       "      <td>Xiaohongshu</td>\n",
       "      <td>8</td>\n",
       "      <td>[xiaohongshu]</td>\n",
       "      <td>1</td>\n",
       "    </tr>\n",
       "    <tr>\n",
       "      <th>8</th>\n",
       "      <td>I'm out of money... the baby clothing store is...</td>\n",
       "      <td>T1</td>\n",
       "      <td>baby clothing store</td>\n",
       "      <td>8</td>\n",
       "      <td>[baby, clothing, store]</td>\n",
       "      <td>2</td>\n",
       "    </tr>\n",
       "    <tr>\n",
       "      <th>10</th>\n",
       "      <td>All the pressure and obstacles are given by my...</td>\n",
       "      <td>T1</td>\n",
       "      <td>my family</td>\n",
       "      <td>8</td>\n",
       "      <td>[family]</td>\n",
       "      <td>2</td>\n",
       "    </tr>\n",
       "  </tbody>\n",
       "</table>\n",
       "</div>"
      ],
      "text/plain": [
       "                                                 text stressor_class  \\\n",
       "0   Why are there always trivial matters in life t...             T1   \n",
       "1   After celebrating my 21st birthday, I truly fe...             T1   \n",
       "2   In the coming March, my work pressure will be ...             T1   \n",
       "3   Indeed, the pressure of writing papers now is ...             T1   \n",
       "4   I can't learn it anymore, so let's just give u...             T1   \n",
       "5   Staying up late is irreparable damage. I've st...             T1   \n",
       "6   Watching decompressing videos on Douyin increa...             T1   \n",
       "7   The pressure from scrolling through Xiaohongsh...             T1   \n",
       "8   I'm out of money... the baby clothing store is...             T1   \n",
       "10  All the pressure and obstacles are given by my...             T1   \n",
       "\n",
       "           stressor_word  interval               normalized  topic  \n",
       "0              financial         8              [financial]      0  \n",
       "1         urged to marry         8            [urge, marry]      1  \n",
       "2                   work         8                   [work]      2  \n",
       "3                 papers         8                  [paper]      0  \n",
       "4         can't learn it         8                  [learn]      1  \n",
       "5                  learn         8                  [learn]      1  \n",
       "6   decompressing videos         8      [decompress, video]      1  \n",
       "7            Xiaohongshu         8            [xiaohongshu]      1  \n",
       "8    baby clothing store         8  [baby, clothing, store]      2  \n",
       "10             my family         8                 [family]      2  "
      ]
     },
     "execution_count": 62,
     "metadata": {},
     "output_type": "execute_result"
    }
   ],
   "source": [
    "ddf[\"topic\"] = topic_labels\n",
    "ddf.head(10)"
   ]
  },
  {
   "cell_type": "code",
   "execution_count": null,
   "id": "2aeab45c",
   "metadata": {},
   "outputs": [],
   "source": [
    "from sklearn.model_selection import train_test_split\n",
    "from sklearn.metrics import classification_report\n",
    "X = ddf[\"text\"]\n",
    "y = ddf[\"topic\"]\n",
    "X_train, X_test, y_train, y_test = train_test_split(X, y, test_size=0.2 , stratify=y)\n"
   ]
  },
  {
   "cell_type": "code",
   "execution_count": 64,
   "id": "bece665f",
   "metadata": {},
   "outputs": [],
   "source": [
    "from gensim.corpora.dictionary import Dictionary\n",
    "from gensim.models.tfidfmodel import TfidfModel\n",
    "texts = [normalize_spacy(word) for word in X]\n",
    "dictionary = Dictionary(texts)\n",
    "\n",
    "X_train_tokens = [normalize_spacy(text) for text in X_train]\n",
    "X_test_tokens = [normalize_spacy(text) for text in X_test]\n",
    "\n",
    "X_train_vectorized = [dictionary.doc2bow(text) for text in X_train_tokens]\n",
    "X_test_vectorized = [dictionary.doc2bow(text) for text in X_test_tokens]\n",
    "\n",
    "\n",
    "tfidf_model = TfidfModel(X_train_vectorized)\n",
    "X_train_tfidf = [tfidf_model[doc] for doc in X_train_vectorized]\n",
    "X_test_tfidf = [tfidf_model[doc] for doc in X_test_vectorized]\n"
   ]
  },
  {
   "cell_type": "code",
   "execution_count": 66,
   "id": "d446b533",
   "metadata": {},
   "outputs": [],
   "source": [
    "from gensim import matutils\n",
    "import numpy as np\n",
    "\n",
    "# 將稀疏向量轉成稠密矩陣\n",
    "def bow_to_dense(corpus, dictionary):\n",
    "    return np.array([\n",
    "        matutils.corpus2dense([bow], num_terms=len(dictionary)).T[0]\n",
    "        for bow in corpus\n",
    "    ])\n",
    "\n",
    "X_train_vectorized = bow_to_dense(X_train_tfidf, dictionary)\n",
    "X_test_vectorized = bow_to_dense(X_test_tfidf, dictionary)\n"
   ]
  },
  {
   "cell_type": "markdown",
   "id": "6526a8ef",
   "metadata": {},
   "source": [
    "# 模型比對\n"
   ]
  },
  {
   "cell_type": "markdown",
   "id": "58a10c1c",
   "metadata": {},
   "source": [
    "linear-SVC\n",
    "---"
   ]
  },
  {
   "cell_type": "code",
   "execution_count": 28,
   "id": "1ea4e75d",
   "metadata": {},
   "outputs": [
    {
     "name": "stdout",
     "output_type": "stream",
     "text": [
      "0.7555555555555555\n",
      "              precision    recall  f1-score   support\n",
      "\n",
      "           0       0.72      0.65      0.68       150\n",
      "           1       0.78      0.76      0.77       152\n",
      "           2       0.62      0.70      0.66       138\n",
      "           3       0.83      0.84      0.84       280\n",
      "\n",
      "    accuracy                           0.76       720\n",
      "   macro avg       0.74      0.74      0.74       720\n",
      "weighted avg       0.76      0.76      0.76       720\n",
      "\n"
     ]
    }
   ],
   "source": [
    "from sklearn.svm import LinearSVC\n",
    "SVC_model = LinearSVC(\n",
    "                        penalty=\"l1\" ,\n",
    "                        class_weight=\"balanced\",\n",
    "                        random_state=42\n",
    "                    )\n",
    "SVC_model.fit(X_train_vectorized, y_train)  \n",
    "y_pred = SVC_model.predict(X_test_vectorized)  \n",
    "print(SVC_model.score(X_test_vectorized,y_test))\n",
    "print(classification_report(y_test, y_pred))"
   ]
  },
  {
   "cell_type": "code",
   "execution_count": 29,
   "id": "1e1d38e8",
   "metadata": {},
   "outputs": [
    {
     "data": {
      "image/png": "[encoded data removed]",
      "text/plain": [
       "<Figure size 640x480 with 2 Axes>"
      ]
     },
     "metadata": {},
     "output_type": "display_data"
    }
   ],
   "source": [
    "from sklearn.metrics import ConfusionMatrixDisplay\n",
    "ConfusionMatrixDisplay.from_estimator(SVC_model, X_test_vectorized, y_test)\n",
    "plt.show()"
   ]
  },
  {
   "cell_type": "markdown",
   "id": "12539cf5",
   "metadata": {},
   "source": [
    "LogisticRegression\n",
    "---"
   ]
  },
  {
   "cell_type": "code",
   "execution_count": 423,
   "id": "a6ca6f7e",
   "metadata": {},
   "outputs": [
    {
     "name": "stdout",
     "output_type": "stream",
     "text": [
      "0.7125\n",
      "              precision    recall  f1-score   support\n",
      "\n",
      "           0       0.68      0.69      0.68       161\n",
      "           1       0.59      0.59      0.59       124\n",
      "           2       0.79      0.79      0.79       290\n",
      "           3       0.70      0.70      0.70       145\n",
      "\n",
      "    accuracy                           0.71       720\n",
      "   macro avg       0.69      0.69      0.69       720\n",
      "weighted avg       0.71      0.71      0.71       720\n",
      "\n"
     ]
    }
   ],
   "source": [
    "from sklearn.linear_model import LogisticRegression\n",
    "LR = LogisticRegression(class_weight=\"balanced\")\n",
    "LR.fit(X_train_vectorized, y_train)  \n",
    "y_pred = LR.predict(X_test_vectorized)  \n",
    "print(LR.score(X_test_vectorized,y_test))\n",
    "print(classification_report(y_test, y_pred))"
   ]
  },
  {
   "cell_type": "code",
   "execution_count": 424,
   "id": "178054ee",
   "metadata": {},
   "outputs": [
    {
     "data": {
      "image/png": "[encoded data removed]",
      "text/plain": [
       "<Figure size 640x480 with 2 Axes>"
      ]
     },
     "metadata": {},
     "output_type": "display_data"
    }
   ],
   "source": [
    "from sklearn.metrics import ConfusionMatrixDisplay\n",
    "ConfusionMatrixDisplay.from_estimator(LR, X_test_vectorized, y_test)\n",
    "plt.show()"
   ]
  },
  {
   "cell_type": "markdown",
   "id": "32f212b2",
   "metadata": {},
   "source": [
    "SGDClassifier\n",
    "---"
   ]
  },
  {
   "cell_type": "code",
   "execution_count": 425,
   "id": "7a238369",
   "metadata": {},
   "outputs": [
    {
     "name": "stdout",
     "output_type": "stream",
     "text": [
      "0.6930555555555555\n",
      "              precision    recall  f1-score   support\n",
      "\n",
      "           0       0.59      0.77      0.67       161\n",
      "           1       0.66      0.48      0.55       124\n",
      "           2       0.79      0.77      0.78       290\n",
      "           3       0.66      0.64      0.65       145\n",
      "\n",
      "    accuracy                           0.69       720\n",
      "   macro avg       0.68      0.66      0.66       720\n",
      "weighted avg       0.70      0.69      0.69       720\n",
      "\n"
     ]
    }
   ],
   "source": [
    "from sklearn.linear_model import SGDClassifier \n",
    "SGD = SGDClassifier(\n",
    "                    penalty=\"elasticnet\", \n",
    "                    class_weight=\"balanced\",\n",
    "                    random_state=42 \n",
    "                )\n",
    "SGD.fit(X_train_vectorized, y_train)  \n",
    "y_pred = SGD.predict(X_test_vectorized)  \n",
    "print(SGD.score(X_test_vectorized,y_test))\n",
    "print(classification_report(y_test, y_pred))"
   ]
  },
  {
   "cell_type": "code",
   "execution_count": 426,
   "id": "1fac94d0",
   "metadata": {},
   "outputs": [
    {
     "data": {
      "image/png": "[encoded data removed]",
      "text/plain": [
       "<Figure size 640x480 with 2 Axes>"
      ]
     },
     "metadata": {},
     "output_type": "display_data"
    }
   ],
   "source": [
    "from sklearn.metrics import ConfusionMatrixDisplay\n",
    "ConfusionMatrixDisplay.from_estimator(SGD, X_test_vectorized, y_test)\n",
    "plt.show()"
   ]
  },
  {
   "cell_type": "markdown",
   "id": "d3f5e1d8",
   "metadata": {},
   "source": [
    "交叉驗證-1\n",
    "---"
   ]
  },
  {
   "cell_type": "code",
   "execution_count": 427,
   "id": "82021019",
   "metadata": {},
   "outputs": [
    {
     "name": "stdout",
     "output_type": "stream",
     "text": [
      "LR :  0.5694444444444444\n",
      "SVC :  0.6069444444444445\n",
      "SGD :  0.5638888888888889\n"
     ]
    }
   ],
   "source": [
    "from sklearn.model_selection import cross_val_score\n",
    "\n",
    "print(\"LR : \" , cross_val_score(LR, X_test_vectorized, y_test, cv=5).mean())\n",
    "print(\"SVC : \",cross_val_score(SVC_model, X_test_vectorized, y_test, cv=5).mean())\n",
    "print(\"SGD : \",cross_val_score(SGD, X_test_vectorized, y_test, cv=5).mean())"
   ]
  },
  {
   "cell_type": "markdown",
   "id": "eed5c20c",
   "metadata": {},
   "source": [
    "# 超參數搜尋"
   ]
  },
  {
   "cell_type": "markdown",
   "id": "7aaf7298",
   "metadata": {},
   "source": [
    "linear-svc\n",
    "---"
   ]
  },
  {
   "cell_type": "code",
   "execution_count": 429,
   "id": "10c99d63",
   "metadata": {},
   "outputs": [
    {
     "name": "stdout",
     "output_type": "stream",
     "text": [
      "0.715625\n",
      "{'C': 1, 'penalty': 'l1', 'tol': 0.0001}\n"
     ]
    }
   ],
   "source": [
    "from sklearn.model_selection import GridSearchCV\n",
    "from sklearn.svm import LinearSVC\n",
    "\n",
    "svc_param_grid = {\n",
    "    'penalty': ['l1', 'l2'],\n",
    "    'C': [1e-2 , 0.1 , 1 ,2 ,3],\n",
    "    'tol': [1e-4, 1e-3]\n",
    "}\n",
    "\n",
    "svc_model = LinearSVC(random_state=42 , class_weight=\"balanced\")\n",
    "grid_svc = GridSearchCV(svc_model, svc_param_grid, cv=5, scoring='accuracy', n_jobs=-1)\n",
    "grid_svc.fit(X_train_vectorized, y_train)\n",
    "\n",
    "print(grid_svc.best_score_)\n",
    "print(grid_svc.best_params_)"
   ]
  },
  {
   "cell_type": "code",
   "execution_count": 430,
   "id": "63cd06f7",
   "metadata": {},
   "outputs": [
    {
     "name": "stdout",
     "output_type": "stream",
     "text": [
      "              precision    recall  f1-score   support\n",
      "\n",
      "           0       0.67      0.71      0.69       161\n",
      "           1       0.65      0.60      0.63       124\n",
      "           2       0.80      0.79      0.79       290\n",
      "           3       0.70      0.72      0.71       145\n",
      "\n",
      "    accuracy                           0.72       720\n",
      "   macro avg       0.71      0.70      0.71       720\n",
      "weighted avg       0.72      0.72      0.72       720\n",
      "\n"
     ]
    }
   ],
   "source": [
    "print(classification_report(y_test, grid_svc.predict(X_test_vectorized)))"
   ]
  },
  {
   "cell_type": "code",
   "execution_count": 431,
   "id": "8921cc60",
   "metadata": {},
   "outputs": [
    {
     "data": {
      "image/png": "[encoded data removed]",
      "text/plain": [
       "<Figure size 640x480 with 2 Axes>"
      ]
     },
     "metadata": {},
     "output_type": "display_data"
    }
   ],
   "source": [
    "ConfusionMatrixDisplay.from_estimator(grid_svc.best_estimator_, X_test_vectorized, y_test)\n",
    "plt.show()"
   ]
  },
  {
   "cell_type": "markdown",
   "id": "02b29a33",
   "metadata": {},
   "source": [
    "logistic-regression\n",
    "---"
   ]
  },
  {
   "cell_type": "code",
   "execution_count": 443,
   "id": "cafdbb53",
   "metadata": {},
   "outputs": [
    {
     "name": "stdout",
     "output_type": "stream",
     "text": [
      "0.7\n",
      "{'C': 1, 'l1_ratio': 0.5, 'tol': 0.001}\n"
     ]
    },
    {
     "name": "stderr",
     "output_type": "stream",
     "text": [
      "c:\\Users\\user\\Downloads\\Program_project_py\\ML\\.venv\\Lib\\site-packages\\sklearn\\linear_model\\_logistic.py:1196: UserWarning: l1_ratio parameter is only used when penalty is 'elasticnet'. Got (penalty=l1)\n",
      "  warnings.warn(\n"
     ]
    }
   ],
   "source": [
    "from sklearn.linear_model import LogisticRegression \n",
    "\n",
    "lr_param_grid = {\n",
    "    'C': [1e-4, 1e-3, 1e-2, 0.1, 1],\n",
    "    'tol': [1e-3, 1e-4],\n",
    "    'l1_ratio': [0.5, 0.7, 0.9, 1.0]\n",
    "}\n",
    "\n",
    "lr_model = LogisticRegression(\n",
    "                              penalty='l1',\n",
    "                              class_weight='balanced',\n",
    "                              solver='liblinear',\n",
    "                              max_iter=1000,\n",
    "                              random_state=42\n",
    "                            )\n",
    "grid_lr = GridSearchCV(lr_model, lr_param_grid, cv=5, scoring='accuracy', n_jobs=-1)\n",
    "grid_lr.fit(X_train_vectorized, y_train)\n",
    "\n",
    "print(grid_lr.best_score_)\n",
    "print(grid_lr.best_params_)"
   ]
  },
  {
   "cell_type": "code",
   "execution_count": 444,
   "id": "17ec6e53",
   "metadata": {},
   "outputs": [
    {
     "name": "stdout",
     "output_type": "stream",
     "text": [
      "              precision    recall  f1-score   support\n",
      "\n",
      "           0       0.67      0.68      0.68       161\n",
      "           1       0.55      0.60      0.58       124\n",
      "           2       0.82      0.77      0.80       290\n",
      "           3       0.68      0.70      0.69       145\n",
      "\n",
      "    accuracy                           0.71       720\n",
      "   macro avg       0.68      0.69      0.69       720\n",
      "weighted avg       0.71      0.71      0.71       720\n",
      "\n"
     ]
    }
   ],
   "source": [
    "print(classification_report(y_test, grid_lr.predict(X_test_vectorized)))\n"
   ]
  },
  {
   "cell_type": "code",
   "execution_count": 434,
   "id": "9adacadb",
   "metadata": {},
   "outputs": [
    {
     "data": {
      "image/png": "[encoded data removed]",
      "text/plain": [
       "<Figure size 640x480 with 2 Axes>"
      ]
     },
     "metadata": {},
     "output_type": "display_data"
    }
   ],
   "source": [
    "ConfusionMatrixDisplay.from_estimator(grid_lr.best_estimator_, X_test_vectorized, y_test)\n",
    "plt.show()"
   ]
  },
  {
   "cell_type": "markdown",
   "id": "4e0f3fce",
   "metadata": {},
   "source": [
    "SGDClassifier\n",
    "---"
   ]
  },
  {
   "cell_type": "code",
   "execution_count": 446,
   "id": "1de5cc83",
   "metadata": {},
   "outputs": [
    {
     "name": "stdout",
     "output_type": "stream",
     "text": [
      "0.7149305555555556\n",
      "{'alpha': 0.0005, 'class_weight': 'balanced', 'epsilon': 0.1, 'l1_ratio': 0.7, 'max_iter': 1000, 'penalty': 'elasticnet', 'tol': 0.001}\n"
     ]
    }
   ],
   "source": [
    "from sklearn.linear_model import SGDClassifier\n",
    "\n",
    "sgd_param_grid = {\n",
    "    'penalty': ['elasticnet'],\n",
    "    'alpha': [1e-4, 5e-4, 1e-3],\n",
    "    'l1_ratio': [0.7, 0.9, 1.0],\n",
    "    'class_weight': ['balanced'],\n",
    "    'max_iter': [1000],\n",
    "    'epsilon': [0.1],\n",
    "    'tol' : [1e-3, 1e-2]\n",
    "}\n",
    "\n",
    "\n",
    "sgd_model = SGDClassifier(random_state=42)\n",
    "grid_sgd = GridSearchCV(sgd_model, sgd_param_grid, cv=5, scoring='accuracy', n_jobs=-1)\n",
    "grid_sgd.fit(X_train_vectorized, y_train)\n",
    "\n",
    "print(grid_sgd.best_score_)\n",
    "print(grid_sgd.best_params_)"
   ]
  },
  {
   "cell_type": "code",
   "execution_count": 436,
   "id": "75117b46",
   "metadata": {},
   "outputs": [
    {
     "name": "stdout",
     "output_type": "stream",
     "text": [
      "              precision    recall  f1-score   support\n",
      "\n",
      "           0       0.60      0.71      0.65       161\n",
      "           1       0.69      0.51      0.59       124\n",
      "           2       0.81      0.77      0.79       290\n",
      "           3       0.65      0.72      0.68       145\n",
      "\n",
      "    accuracy                           0.70       720\n",
      "   macro avg       0.69      0.68      0.68       720\n",
      "weighted avg       0.71      0.70      0.70       720\n",
      "\n"
     ]
    }
   ],
   "source": [
    "print(classification_report(y_test, grid_sgd.predict(X_test_vectorized)))"
   ]
  },
  {
   "cell_type": "code",
   "execution_count": 437,
   "id": "3dda11c0",
   "metadata": {},
   "outputs": [
    {
     "data": {
      "image/png": "[encoded data removed]",
      "text/plain": [
       "<Figure size 640x480 with 2 Axes>"
      ]
     },
     "metadata": {},
     "output_type": "display_data"
    }
   ],
   "source": [
    "ConfusionMatrixDisplay.from_estimator(grid_sgd.best_estimator_, X_test_vectorized, y_test)\n",
    "plt.show()"
   ]
  },
  {
   "cell_type": "markdown",
   "id": "0902519c",
   "metadata": {},
   "source": [
    "交叉驗證-2\n",
    "---"
   ]
  },
  {
   "cell_type": "code",
   "execution_count": 447,
   "id": "2888c069",
   "metadata": {},
   "outputs": [
    {
     "name": "stdout",
     "output_type": "stream",
     "text": [
      "0.715625\n"
     ]
    },
    {
     "name": "stderr",
     "output_type": "stream",
     "text": [
      "c:\\Users\\user\\Downloads\\Program_project_py\\ML\\.venv\\Lib\\site-packages\\sklearn\\linear_model\\_logistic.py:1196: UserWarning: l1_ratio parameter is only used when penalty is 'elasticnet'. Got (penalty=l1)\n",
      "  warnings.warn(\n",
      "c:\\Users\\user\\Downloads\\Program_project_py\\ML\\.venv\\Lib\\site-packages\\sklearn\\linear_model\\_logistic.py:1196: UserWarning: l1_ratio parameter is only used when penalty is 'elasticnet'. Got (penalty=l1)\n",
      "  warnings.warn(\n",
      "c:\\Users\\user\\Downloads\\Program_project_py\\ML\\.venv\\Lib\\site-packages\\sklearn\\linear_model\\_logistic.py:1196: UserWarning: l1_ratio parameter is only used when penalty is 'elasticnet'. Got (penalty=l1)\n",
      "  warnings.warn(\n",
      "c:\\Users\\user\\Downloads\\Program_project_py\\ML\\.venv\\Lib\\site-packages\\sklearn\\linear_model\\_logistic.py:1196: UserWarning: l1_ratio parameter is only used when penalty is 'elasticnet'. Got (penalty=l1)\n",
      "  warnings.warn(\n",
      "c:\\Users\\user\\Downloads\\Program_project_py\\ML\\.venv\\Lib\\site-packages\\sklearn\\linear_model\\_logistic.py:1196: UserWarning: l1_ratio parameter is only used when penalty is 'elasticnet'. Got (penalty=l1)\n",
      "  warnings.warn(\n"
     ]
    },
    {
     "name": "stdout",
     "output_type": "stream",
     "text": [
      "0.7\n",
      "0.7149305555555556\n"
     ]
    }
   ],
   "source": [
    "models = [\n",
    "            grid_svc.best_estimator_, \n",
    "            grid_lr.best_estimator_, \n",
    "            grid_sgd.best_estimator_,\n",
    "        ]\n",
    "for model in models:\n",
    "    print(cross_val_score(model, X_train_vectorized, y_train, cv=5).mean())"
   ]
  },
  {
   "cell_type": "markdown",
   "id": "48e132be",
   "metadata": {},
   "source": [
    "predicted_topic"
   ]
  },
  {
   "cell_type": "code",
   "execution_count": 1,
   "id": "b523256b",
   "metadata": {},
   "outputs": [
    {
     "ename": "NameError",
     "evalue": "name 'models' is not defined",
     "output_type": "error",
     "traceback": [
      "\u001b[31m---------------------------------------------------------------------------\u001b[39m",
      "\u001b[31mNameError\u001b[39m                                 Traceback (most recent call last)",
      "\u001b[36mCell\u001b[39m\u001b[36m \u001b[39m\u001b[32mIn[1]\u001b[39m\u001b[32m, line 3\u001b[39m\n\u001b[32m      1\u001b[39m \u001b[38;5;66;03m# 使用所有模型對 X_test_vectorized 進行預測並顯示準確率\u001b[39;00m\n\u001b[32m      2\u001b[39m \u001b[38;5;28;01mfrom\u001b[39;00m\u001b[38;5;250m \u001b[39m\u001b[34;01msklearn\u001b[39;00m\u001b[34;01m.\u001b[39;00m\u001b[34;01mmetrics\u001b[39;00m\u001b[38;5;250m \u001b[39m\u001b[38;5;28;01mimport\u001b[39;00m accuracy_score\n\u001b[32m----> \u001b[39m\u001b[32m3\u001b[39m \u001b[38;5;28;01mfor\u001b[39;00m model \u001b[38;5;129;01min\u001b[39;00m \u001b[43mmodels\u001b[49m:\n\u001b[32m      4\u001b[39m     y_pred = model.predict(X_test_vectorized)\n\u001b[32m      5\u001b[39m     \u001b[38;5;28mprint\u001b[39m(\u001b[33mf\u001b[39m\u001b[33m\"\u001b[39m\u001b[38;5;132;01m{\u001b[39;00mmodel.\u001b[34m__class__\u001b[39m.\u001b[34m__name__\u001b[39m\u001b[38;5;132;01m}\u001b[39;00m\u001b[33m accuracy: \u001b[39m\u001b[38;5;132;01m{\u001b[39;00maccuracy_score(\u001b[38;5;250m \u001b[39my_test,y_pred\u001b[38;5;250m \u001b[39m)\u001b[38;5;132;01m}\u001b[39;00m\u001b[33m\"\u001b[39m)\n",
      "\u001b[31mNameError\u001b[39m: name 'models' is not defined"
     ]
    }
   ],
   "source": [
    "# 使用所有模型對 X_test_vectorized 進行預測並顯示準確率\n",
    "from sklearn.metrics import accuracy_score\n",
    "for model in models:\n",
    "    y_pred = model.predict(X_test_vectorized)\n",
    "    print(f\"{model.__class__.__name__} accuracy: {accuracy_score( y_test,y_pred )}\")"
   ]
  },
  {
   "cell_type": "code",
   "execution_count": 449,
   "id": "25152a2c",
   "metadata": {},
   "outputs": [
    {
     "data": {
      "text/plain": [
       "['best_sgd_classifier_model.joblib']"
      ]
     },
     "execution_count": 449,
     "metadata": {},
     "output_type": "execute_result"
    }
   ],
   "source": [
    "import joblib\n",
    "\n",
    "# 存儲最佳模型\n",
    "joblib.dump(grid_svc.best_estimator_, \"best_linear_svc_model.joblib\")\n",
    "joblib.dump(grid_lr.best_estimator_, \"best_logistic_regression_model.joblib\")\n",
    "joblib.dump(grid_sgd.best_estimator_, \"best_sgd_classifier_model.joblib\")"
   ]
  }
 ],
 "metadata": {
  "kernelspec": {
   "display_name": ".venv",
   "language": "python",
   "name": "python3"
  },
  "language_info": {
   "codemirror_mode": {
    "name": "ipython",
    "version": 3
   },
   "file_extension": ".py",
   "mimetype": "text/x-python",
   "name": "python",
   "nbconvert_exporter": "python",
   "pygments_lexer": "ipython3",
   "version": "3.12.7"
  }
 },
 "nbformat": 4,
 "nbformat_minor": 5
}
