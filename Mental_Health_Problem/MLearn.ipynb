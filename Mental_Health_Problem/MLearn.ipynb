{
 "cells": [
  {
   "cell_type": "code",
   "execution_count": 2,
   "id": "b9b77b54",
   "metadata": {},
   "outputs": [
    {
     "name": "stderr",
     "output_type": "stream",
     "text": [
      "c:\\Users\\user\\Downloads\\Program_project_py\\ML\\.venv\\Lib\\site-packages\\tqdm\\auto.py:21: TqdmWarning: IProgress not found. Please update jupyter and ipywidgets. See https://ipywidgets.readthedocs.io/en/stable/user_install.html\n",
      "  from .autonotebook import tqdm as notebook_tqdm\n"
     ]
    },
    {
     "name": "stdout",
     "output_type": "stream",
     "text": [
      "Path to dataset files: C:\\Users\\user\\.cache\\kagglehub\\datasets\\xinwangcs\\stressor-cause-of-mental-health-problem-dataset\\versions\\1\n"
     ]
    }
   ],
   "source": [
    "import kagglehub\n",
    "\n",
    "# Download latest version\n",
    "path = kagglehub.dataset_download(\"xinwangcs/stressor-cause-of-mental-health-problem-dataset\")\n",
    "\n",
    "print(\"Path to dataset files:\", path)"
   ]
  },
  {
   "cell_type": "code",
   "execution_count": 3,
   "id": "08e7b8d4",
   "metadata": {},
   "outputs": [
    {
     "name": "stdout",
     "output_type": "stream",
     "text": [
      "Files in dataset: ['C:\\\\Users\\\\user\\\\.cache\\\\kagglehub\\\\datasets\\\\xinwangcs\\\\stressor-cause-of-mental-health-problem-dataset\\\\versions\\\\1\\\\stressor_test.json', 'C:\\\\Users\\\\user\\\\.cache\\\\kagglehub\\\\datasets\\\\xinwangcs\\\\stressor-cause-of-mental-health-problem-dataset\\\\versions\\\\1\\\\stressor_train.json']\n"
     ]
    }
   ],
   "source": [
    "import pandas as pd\n",
    "import numpy as np\n",
    "import os\n",
    "FILES = []\n",
    "for file in os.listdir(path):\n",
    "    if file.endswith(\".json\"):\n",
    "        PATH = os.path.join(path, file)\n",
    "        FILES.append(PATH )\n",
    "print(\"Files in dataset:\", FILES)\n",
    "\n"
   ]
  },
  {
   "cell_type": "code",
   "execution_count": 4,
   "id": "91b14378",
   "metadata": {},
   "outputs": [
    {
     "data": {
      "text/html": [
       "<div>\n",
       "<style scoped>\n",
       "    .dataframe tbody tr th:only-of-type {\n",
       "        vertical-align: middle;\n",
       "    }\n",
       "\n",
       "    .dataframe tbody tr th {\n",
       "        vertical-align: top;\n",
       "    }\n",
       "\n",
       "    .dataframe thead th {\n",
       "        text-align: right;\n",
       "    }\n",
       "</style>\n",
       "<table border=\"1\" class=\"dataframe\">\n",
       "  <thead>\n",
       "    <tr style=\"text-align: right;\">\n",
       "      <th></th>\n",
       "      <th>text</th>\n",
       "      <th>stressor_class</th>\n",
       "      <th>stressor_word</th>\n",
       "      <th>interval</th>\n",
       "    </tr>\n",
       "  </thead>\n",
       "  <tbody>\n",
       "    <tr>\n",
       "      <th>0</th>\n",
       "      <td>Why are there always trivial matters in life t...</td>\n",
       "      <td>T1</td>\n",
       "      <td>financial</td>\n",
       "      <td>8</td>\n",
       "    </tr>\n",
       "    <tr>\n",
       "      <th>1</th>\n",
       "      <td>After celebrating my 21st birthday, I truly fe...</td>\n",
       "      <td>T1</td>\n",
       "      <td>urged to marry</td>\n",
       "      <td>8</td>\n",
       "    </tr>\n",
       "    <tr>\n",
       "      <th>2</th>\n",
       "      <td>In the coming March, my work pressure will be ...</td>\n",
       "      <td>T1</td>\n",
       "      <td>work</td>\n",
       "      <td>8</td>\n",
       "    </tr>\n",
       "    <tr>\n",
       "      <th>3</th>\n",
       "      <td>Indeed, the pressure of writing papers now is ...</td>\n",
       "      <td>T1</td>\n",
       "      <td>papers</td>\n",
       "      <td>8</td>\n",
       "    </tr>\n",
       "    <tr>\n",
       "      <th>4</th>\n",
       "      <td>I can't learn it anymore, so let's just give u...</td>\n",
       "      <td>T1</td>\n",
       "      <td>can't learn it</td>\n",
       "      <td>8</td>\n",
       "    </tr>\n",
       "  </tbody>\n",
       "</table>\n",
       "</div>"
      ],
      "text/plain": [
       "                                                text stressor_class  \\\n",
       "0  Why are there always trivial matters in life t...             T1   \n",
       "1  After celebrating my 21st birthday, I truly fe...             T1   \n",
       "2  In the coming March, my work pressure will be ...             T1   \n",
       "3  Indeed, the pressure of writing papers now is ...             T1   \n",
       "4  I can't learn it anymore, so let's just give u...             T1   \n",
       "\n",
       "    stressor_word  interval  \n",
       "0       financial         8  \n",
       "1  urged to marry         8  \n",
       "2            work         8  \n",
       "3          papers         8  \n",
       "4  can't learn it         8  "
      ]
     },
     "execution_count": 4,
     "metadata": {},
     "output_type": "execute_result"
    }
   ],
   "source": [
    "import json\n",
    "\n",
    "def load_data2dataframe(file):\n",
    "    \"\"\"\n",
    "    讀取 JSON 文件並將其轉換為 Pandas DataFrame。\n",
    "    參數:\n",
    "        file (str): 檔案路徑。\n",
    "\n",
    "    錯誤回報:\n",
    "        ValueError: 如果在資料集目錄中找不到 JSON 檔案。\n",
    "        ValueError: 如果指定的 JSON 檔案不存在。\n",
    "        \n",
    "    回傳:\n",
    "        pd.DataFrame: 包含文本、壓力源類別、壓力源詞和時間間隔的 DataFrame。\n",
    "    \"\"\"\n",
    "    if not FILES:\n",
    "        raise ValueError(\"No JSON files found in the dataset directory.\")\n",
    "    if not os.path.exists(file):\n",
    "        raise ValueError(f\"File '{file}' does not exist.\")\n",
    "    with open(file, encoding=\"utf-8\") as f:\n",
    "        data = json.load(f)\n",
    "        if not isinstance(data, list):\n",
    "            raise ValueError(f\"Expected a list in JSON file, got {type(data)}\")\n",
    "        temp = []\n",
    "        for item in data:\n",
    "            #print(item)\n",
    "            TEXT = item[\"text\"]\n",
    "            INTERVAL = item[\"interval\"]\n",
    "            try:\n",
    "                STRESSOR_class = item[\"labels\"][0][0]\n",
    "                STRESSOR_WORD = item[\"labels\"][0][4]\n",
    "            except IndexError:\n",
    "                STRESSOR_class = np.nan\n",
    "                STRESSOR_WORD = np.nan\n",
    "            temp.append((TEXT, STRESSOR_class, STRESSOR_WORD, INTERVAL))\n",
    "\n",
    "    # Convert list of tuples to DataFrame with column names\n",
    "    return pd.DataFrame(temp, columns=[\"text\", \"stressor_class\", \"stressor_word\", \"interval\"])\n",
    "\n",
    "# Ensure each element is a DataFrame before concatenation\n",
    "dataframes = [load_data2dataframe(f) for f in FILES]\n",
    "df = pd.concat(dataframes, ignore_index=True)\n",
    "df.head()"
   ]
  },
  {
   "cell_type": "code",
   "execution_count": 8,
   "id": "5f1b89ba",
   "metadata": {},
   "outputs": [],
   "source": [
    "df_copy = df.copy()"
   ]
  },
  {
   "cell_type": "code",
   "execution_count": null,
   "id": "4c33ba08",
   "metadata": {},
   "outputs": [],
   "source": [
    "import gensim\n",
    "from gensim.parsing.preprocessing import remove_stopwords\n",
    "from nltk.stem import WordNetLemmatizer\n",
    "from nltk.tokenize import word_tokenize\n",
    "import string\n",
    "\n",
    "# 載入 lemmatizer\n",
    "lemmatizer = WordNetLemmatizer()\n",
    "\n",
    "def normalize(text):\n",
    "    # 1. 轉小寫\n",
    "    text = text.lower()\n",
    "    # 2. 去標點\n",
    "    text = text.translate(str.maketrans('', '', string.punctuation))\n",
    "    # 3. 去停用詞\n",
    "    text = remove_stopwords(text) if len(text.split()) > 1 else text\n",
    "    # 4. 詞形還原\n",
    "    tokens = word_tokenize(text)\n",
    "    lemmatized = [lemmatizer.lemmatize(token) for token in tokens]\n",
    "    return lemmatized\n",
    "\n"
   ]
  },
  {
   "cell_type": "code",
   "execution_count": 34,
   "id": "69f89ab6",
   "metadata": {},
   "outputs": [],
   "source": [
    "import gensim\n",
    "from gensim.corpora import Dictionary\n",
    "DOC_word = [normalize(st) for st  in df_copy[\"stressor_word\"]]\n",
    "DICT_word = Dictionary(DOC_word)\n",
    "courpus_word = [DICT_word.doc2bow(doc) for doc in DOC_word]"
   ]
  },
  {
   "cell_type": "code",
   "execution_count": null,
   "id": "cc83192f",
   "metadata": {},
   "outputs": [],
   "source": [
    "# from gensim.corpora import Dictionary\n",
    "# from gensim.models import LdaModel, CoherenceModel\n",
    "# def tocorpus(docs):\n",
    "#     # 使用文字文件(docs)建立字典\n",
    "#     dictionary = Dictionary(docs)\n",
    "#     # 將一組文字文件（docs）轉換為 BOW（Bag of Words）格式\n",
    "#     corpus = [dictionary.doc2bow(doc) for doc in docs]\n",
    "#     return {\"corpus\":corpus , \"dictionary\":dictionary}\n",
    "\n",
    "# corpus_text = tocorpus(DOC_text)\n",
    "# corpus_stressor_word = tocorpus(DOC_stressor_word)"
   ]
  }
 ],
 "metadata": {
  "kernelspec": {
   "display_name": ".venv",
   "language": "python",
   "name": "python3"
  },
  "language_info": {
   "codemirror_mode": {
    "name": "ipython",
    "version": 3
   },
   "file_extension": ".py",
   "mimetype": "text/x-python",
   "name": "python",
   "nbconvert_exporter": "python",
   "pygments_lexer": "ipython3",
   "version": "3.12.7"
  }
 },
 "nbformat": 4,
 "nbformat_minor": 5
}
