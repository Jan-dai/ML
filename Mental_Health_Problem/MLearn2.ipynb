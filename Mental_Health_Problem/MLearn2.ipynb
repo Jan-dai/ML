{
 "cells": [
  {
   "cell_type": "markdown",
   "id": "c354ab59",
   "metadata": {},
   "source": [
    "# 融合模型投票"
   ]
  }
 ],
 "metadata": {
  "language_info": {
   "name": "python"
  }
 },
 "nbformat": 4,
 "nbformat_minor": 5
}
